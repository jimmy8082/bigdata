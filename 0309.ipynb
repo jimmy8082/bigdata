{
  "nbformat": 4,
  "nbformat_minor": 0,
  "metadata": {
    "colab": {
      "name": "0309.ipynb",
      "provenance": [],
      "collapsed_sections": [],
      "include_colab_link": true
    },
    "kernelspec": {
      "name": "ir",
      "display_name": "R"
    }
  },
  "cells": [
    {
      "cell_type": "markdown",
      "metadata": {
        "id": "view-in-github",
        "colab_type": "text"
      },
      "source": [
        "<a href=\"https://colab.research.google.com/github/jimmy8082/bigdata/blob/main/0309.ipynb\" target=\"_parent\"><img src=\"https://colab.research.google.com/assets/colab-badge.svg\" alt=\"Open In Colab\"/></a>"
      ]
    },
    {
      "cell_type": "code",
      "metadata": {
        "id": "7OykeeM9E7qP"
      },
      "source": [
        "a <- 5\r\n",
        "b <- 3.8\r\n",
        "c <- -1"
      ],
      "execution_count": null,
      "outputs": []
    },
    {
      "cell_type": "code",
      "metadata": {
        "colab": {
          "base_uri": "https://localhost:8080/"
        },
        "id": "71U3Mvb6FOaP",
        "outputId": "cbe8c465-ed59-49b8-ccd5-87dd7a2be100"
      },
      "source": [
        "str(a)\r\n",
        "str(b)\r\n",
        "str(c)"
      ],
      "execution_count": null,
      "outputs": [
        {
          "output_type": "stream",
          "text": [
            " num 5\n",
            " num 3.8\n",
            " num -1\n"
          ],
          "name": "stdout"
        }
      ]
    },
    {
      "cell_type": "code",
      "metadata": {
        "colab": {
          "base_uri": "https://localhost:8080/",
          "height": 68
        },
        "id": "3K-HfCHBIVig",
        "outputId": "76c24406-d799-42b3-a05c-502b948778c3"
      },
      "source": [
        "is.numeric(a)\r\n",
        "is.numeric(b)\r\n",
        "is.numeric(c)"
      ],
      "execution_count": null,
      "outputs": [
        {
          "output_type": "display_data",
          "data": {
            "text/plain": [
              "[1] TRUE"
            ],
            "text/latex": "TRUE",
            "text/markdown": "TRUE",
            "text/html": [
              "TRUE"
            ]
          },
          "metadata": {
            "tags": []
          }
        },
        {
          "output_type": "display_data",
          "data": {
            "text/plain": [
              "[1] TRUE"
            ],
            "text/latex": "TRUE",
            "text/markdown": "TRUE",
            "text/html": [
              "TRUE"
            ]
          },
          "metadata": {
            "tags": []
          }
        },
        {
          "output_type": "display_data",
          "data": {
            "text/plain": [
              "[1] TRUE"
            ],
            "text/latex": "TRUE",
            "text/markdown": "TRUE",
            "text/html": [
              "TRUE"
            ]
          },
          "metadata": {
            "tags": []
          }
        }
      ]
    },
    {
      "cell_type": "code",
      "metadata": {
        "colab": {
          "base_uri": "https://localhost:8080/",
          "height": 68
        },
        "id": "a-FWxF7BIj1V",
        "outputId": "6967baf4-c835-4417-d719-390c4a51e260"
      },
      "source": [
        "is.integer(a)\r\n",
        "is.integer(b)\r\n",
        "is.integer(c)"
      ],
      "execution_count": null,
      "outputs": [
        {
          "output_type": "display_data",
          "data": {
            "text/plain": [
              "[1] FALSE"
            ],
            "text/latex": "FALSE",
            "text/markdown": "FALSE",
            "text/html": [
              "FALSE"
            ]
          },
          "metadata": {
            "tags": []
          }
        },
        {
          "output_type": "display_data",
          "data": {
            "text/plain": [
              "[1] FALSE"
            ],
            "text/latex": "FALSE",
            "text/markdown": "FALSE",
            "text/html": [
              "FALSE"
            ]
          },
          "metadata": {
            "tags": []
          }
        },
        {
          "output_type": "display_data",
          "data": {
            "text/plain": [
              "[1] FALSE"
            ],
            "text/latex": "FALSE",
            "text/markdown": "FALSE",
            "text/html": [
              "FALSE"
            ]
          },
          "metadata": {
            "tags": []
          }
        }
      ]
    },
    {
      "cell_type": "code",
      "metadata": {
        "id": "YpD6Wu_4I4ku"
      },
      "source": [
        "d <- \"hello\"\r\n",
        "e <- \"hi\""
      ],
      "execution_count": null,
      "outputs": []
    },
    {
      "cell_type": "code",
      "metadata": {
        "colab": {
          "base_uri": "https://localhost:8080/"
        },
        "id": "xTRj2fruJAXX",
        "outputId": "ed5016b6-de9f-4428-e510-b630cf4def15"
      },
      "source": [
        "str(d)\r\n",
        "str(e)"
      ],
      "execution_count": null,
      "outputs": [
        {
          "output_type": "stream",
          "text": [
            " chr \"hello\"\n",
            " chr \"hi\"\n"
          ],
          "name": "stdout"
        }
      ]
    },
    {
      "cell_type": "code",
      "metadata": {
        "id": "ntt1BWX0Jawm"
      },
      "source": [
        "f <- c(5,4,3,2,1)\r\n",
        "g <- c(\"蔡英文\",\"賴清德\",\"蘇貞昌\")"
      ],
      "execution_count": null,
      "outputs": []
    },
    {
      "cell_type": "code",
      "metadata": {
        "colab": {
          "base_uri": "https://localhost:8080/",
          "height": 68
        },
        "id": "1mhsUBGOKq6e",
        "outputId": "27c732b4-937a-481c-e2d6-7d4e3a229fe6"
      },
      "source": [
        "f[2]\r\n",
        "g[3]\r\n",
        "g[c(1,2)]"
      ],
      "execution_count": null,
      "outputs": [
        {
          "output_type": "display_data",
          "data": {
            "text/plain": [
              "[1] 4"
            ],
            "text/latex": "4",
            "text/markdown": "4",
            "text/html": [
              "4"
            ]
          },
          "metadata": {
            "tags": []
          }
        },
        {
          "output_type": "display_data",
          "data": {
            "text/plain": [
              "[1] \"蘇貞昌\""
            ],
            "text/latex": "'蘇貞昌'",
            "text/markdown": "'蘇貞昌'",
            "text/html": [
              "'蘇貞昌'"
            ]
          },
          "metadata": {
            "tags": []
          }
        },
        {
          "output_type": "display_data",
          "data": {
            "text/plain": [
              "[1] \"蔡英文\" \"賴清德\""
            ],
            "text/latex": "\\begin{enumerate*}\n\\item '蔡英文'\n\\item '賴清德'\n\\end{enumerate*}\n",
            "text/markdown": "1. '蔡英文'\n2. '賴清德'\n\n\n",
            "text/html": [
              "<style>\n",
              ".list-inline {list-style: none; margin:0; padding: 0}\n",
              ".list-inline>li {display: inline-block}\n",
              ".list-inline>li:not(:last-child)::after {content: \"\\00b7\"; padding: 0 .5ex}\n",
              "</style>\n",
              "<ol class=list-inline><li>'蔡英文'</li><li>'賴清德'</li></ol>\n"
            ]
          },
          "metadata": {
            "tags": []
          }
        }
      ]
    },
    {
      "cell_type": "code",
      "metadata": {
        "id": "MjI3_U4gLAC2"
      },
      "source": [
        "h <- c(1,2,3,4,5,6,7,8,9)\r\n",
        "i <- c(2,3,4,5,6,7,8,9,10)"
      ],
      "execution_count": null,
      "outputs": []
    },
    {
      "cell_type": "code",
      "metadata": {
        "colab": {
          "base_uri": "https://localhost:8080/",
          "height": 34
        },
        "id": "4_H7AebrO8_Q",
        "outputId": "327c487f-4691-467e-9a54-9a9c9370d69d"
      },
      "source": [
        "h*i"
      ],
      "execution_count": null,
      "outputs": [
        {
          "output_type": "display_data",
          "data": {
            "text/plain": [
              "[1]  2  6 12 20 30 42 56 72 90"
            ],
            "text/latex": "\\begin{enumerate*}\n\\item 2\n\\item 6\n\\item 12\n\\item 20\n\\item 30\n\\item 42\n\\item 56\n\\item 72\n\\item 90\n\\end{enumerate*}\n",
            "text/markdown": "1. 2\n2. 6\n3. 12\n4. 20\n5. 30\n6. 42\n7. 56\n8. 72\n9. 90\n\n\n",
            "text/html": [
              "<style>\n",
              ".list-inline {list-style: none; margin:0; padding: 0}\n",
              ".list-inline>li {display: inline-block}\n",
              ".list-inline>li:not(:last-child)::after {content: \"\\00b7\"; padding: 0 .5ex}\n",
              "</style>\n",
              "<ol class=list-inline><li>2</li><li>6</li><li>12</li><li>20</li><li>30</li><li>42</li><li>56</li><li>72</li><li>90</li></ol>\n"
            ]
          },
          "metadata": {
            "tags": []
          }
        }
      ]
    },
    {
      "cell_type": "code",
      "metadata": {
        "colab": {
          "base_uri": "https://localhost:8080/",
          "height": 34
        },
        "id": "xo1ZY9qBPF02",
        "outputId": "ad4db044-5bff-4b3e-9d54-9f0554462097"
      },
      "source": [
        "h^3"
      ],
      "execution_count": null,
      "outputs": [
        {
          "output_type": "display_data",
          "data": {
            "text/plain": [
              "[1]   1   8  27  64 125 216 343 512 729"
            ],
            "text/latex": "\\begin{enumerate*}\n\\item 1\n\\item 8\n\\item 27\n\\item 64\n\\item 125\n\\item 216\n\\item 343\n\\item 512\n\\item 729\n\\end{enumerate*}\n",
            "text/markdown": "1. 1\n2. 8\n3. 27\n4. 64\n5. 125\n6. 216\n7. 343\n8. 512\n9. 729\n\n\n",
            "text/html": [
              "<style>\n",
              ".list-inline {list-style: none; margin:0; padding: 0}\n",
              ".list-inline>li {display: inline-block}\n",
              ".list-inline>li:not(:last-child)::after {content: \"\\00b7\"; padding: 0 .5ex}\n",
              "</style>\n",
              "<ol class=list-inline><li>1</li><li>8</li><li>27</li><li>64</li><li>125</li><li>216</li><li>343</li><li>512</li><li>729</li></ol>\n"
            ]
          },
          "metadata": {
            "tags": []
          }
        }
      ]
    },
    {
      "cell_type": "code",
      "metadata": {
        "colab": {
          "base_uri": "https://localhost:8080/",
          "height": 34
        },
        "id": "lKwX5Od5PIwG",
        "outputId": "9076a026-197d-4df3-c4ad-c4995fcf822d"
      },
      "source": [
        "i > 5"
      ],
      "execution_count": null,
      "outputs": [
        {
          "output_type": "display_data",
          "data": {
            "text/plain": [
              "[1] FALSE FALSE FALSE FALSE  TRUE  TRUE  TRUE  TRUE  TRUE"
            ],
            "text/latex": "\\begin{enumerate*}\n\\item FALSE\n\\item FALSE\n\\item FALSE\n\\item FALSE\n\\item TRUE\n\\item TRUE\n\\item TRUE\n\\item TRUE\n\\item TRUE\n\\end{enumerate*}\n",
            "text/markdown": "1. FALSE\n2. FALSE\n3. FALSE\n4. FALSE\n5. TRUE\n6. TRUE\n7. TRUE\n8. TRUE\n9. TRUE\n\n\n",
            "text/html": [
              "<style>\n",
              ".list-inline {list-style: none; margin:0; padding: 0}\n",
              ".list-inline>li {display: inline-block}\n",
              ".list-inline>li:not(:last-child)::after {content: \"\\00b7\"; padding: 0 .5ex}\n",
              "</style>\n",
              "<ol class=list-inline><li>FALSE</li><li>FALSE</li><li>FALSE</li><li>FALSE</li><li>TRUE</li><li>TRUE</li><li>TRUE</li><li>TRUE</li><li>TRUE</li></ol>\n"
            ]
          },
          "metadata": {
            "tags": []
          }
        }
      ]
    },
    {
      "cell_type": "code",
      "metadata": {
        "colab": {
          "base_uri": "https://localhost:8080/",
          "height": 68
        },
        "id": "MzW1NwnXPMpu",
        "outputId": "8b4001f8-2e0a-4ab4-e6a9-c6314725904c"
      },
      "source": [
        "gender <- c(\"boy\",\"girl\",\"boy\",\"boy\",\"girl\",\"middle\")\r\n",
        "gender <- factor(gender)\r\n",
        "gender\r\n",
        "levels(gender)"
      ],
      "execution_count": null,
      "outputs": [
        {
          "output_type": "display_data",
          "data": {
            "text/plain": [
              "[1] boy    girl   boy    boy    girl   middle\n",
              "Levels: boy girl middle"
            ],
            "text/latex": "\\begin{enumerate*}\n\\item boy\n\\item girl\n\\item boy\n\\item boy\n\\item girl\n\\item middle\n\\end{enumerate*}\n\n\\emph{Levels}: \\begin{enumerate*}\n\\item 'boy'\n\\item 'girl'\n\\item 'middle'\n\\end{enumerate*}\n",
            "text/markdown": "1. boy\n2. girl\n3. boy\n4. boy\n5. girl\n6. middle\n\n\n\n**Levels**: 1. 'boy'\n2. 'girl'\n3. 'middle'\n\n\n",
            "text/html": [
              "<style>\n",
              ".list-inline {list-style: none; margin:0; padding: 0}\n",
              ".list-inline>li {display: inline-block}\n",
              ".list-inline>li:not(:last-child)::after {content: \"\\00b7\"; padding: 0 .5ex}\n",
              "</style>\n",
              "<ol class=list-inline><li>boy</li><li>girl</li><li>boy</li><li>boy</li><li>girl</li><li>middle</li></ol>\n",
              "\n",
              "<details>\n",
              "\t<summary style=display:list-item;cursor:pointer>\n",
              "\t\t<strong>Levels</strong>:\n",
              "\t</summary>\n",
              "\t<style>\n",
              "\t.list-inline {list-style: none; margin:0; padding: 0}\n",
              "\t.list-inline>li {display: inline-block}\n",
              "\t.list-inline>li:not(:last-child)::after {content: \"\\00b7\"; padding: 0 .5ex}\n",
              "\t</style>\n",
              "\t<ol class=list-inline><li>'boy'</li><li>'girl'</li><li>'middle'</li></ol>\n",
              "</details>"
            ]
          },
          "metadata": {
            "tags": []
          }
        },
        {
          "output_type": "display_data",
          "data": {
            "text/plain": [
              "[1] \"boy\"    \"girl\"   \"middle\""
            ],
            "text/latex": "\\begin{enumerate*}\n\\item 'boy'\n\\item 'girl'\n\\item 'middle'\n\\end{enumerate*}\n",
            "text/markdown": "1. 'boy'\n2. 'girl'\n3. 'middle'\n\n\n",
            "text/html": [
              "<style>\n",
              ".list-inline {list-style: none; margin:0; padding: 0}\n",
              ".list-inline>li {display: inline-block}\n",
              ".list-inline>li:not(:last-child)::after {content: \"\\00b7\"; padding: 0 .5ex}\n",
              "</style>\n",
              "<ol class=list-inline><li>'boy'</li><li>'girl'</li><li>'middle'</li></ol>\n"
            ]
          },
          "metadata": {
            "tags": []
          }
        }
      ]
    },
    {
      "cell_type": "code",
      "metadata": {
        "colab": {
          "base_uri": "https://localhost:8080/",
          "height": 195
        },
        "id": "F8u4v_D2P1p9",
        "outputId": "32fa846a-305f-4cf6-fda9-990db4dbe276"
      },
      "source": [
        "j <- matrix(c(1:6), nrow=3, ncol=2)\r\n",
        "j"
      ],
      "execution_count": null,
      "outputs": [
        {
          "output_type": "display_data",
          "data": {
            "text/plain": [
              "     [,1] [,2]\n",
              "[1,] 1    4   \n",
              "[2,] 2    5   \n",
              "[3,] 3    6   "
            ],
            "text/latex": "A matrix: 3 × 2 of type int\n\\begin{tabular}{ll}\n\t 1 & 4\\\\\n\t 2 & 5\\\\\n\t 3 & 6\\\\\n\\end{tabular}\n",
            "text/markdown": "\nA matrix: 3 × 2 of type int\n\n| 1 | 4 |\n| 2 | 5 |\n| 3 | 6 |\n\n",
            "text/html": [
              "<table class=\"dataframe\">\n",
              "<caption>A matrix: 3 × 2 of type int</caption>\n",
              "<tbody>\n",
              "\t<tr><td>1</td><td>4</td></tr>\n",
              "\t<tr><td>2</td><td>5</td></tr>\n",
              "\t<tr><td>3</td><td>6</td></tr>\n",
              "</tbody>\n",
              "</table>\n"
            ]
          },
          "metadata": {
            "tags": []
          }
        }
      ]
    },
    {
      "cell_type": "code",
      "metadata": {
        "colab": {
          "base_uri": "https://localhost:8080/",
          "height": 113
        },
        "id": "GF2J52ieQQl2",
        "outputId": "de2ad6ed-1be9-4d64-91f6-e390e4e8e636"
      },
      "source": [
        "k <- matrix(c(7:12), nrow=2, ncol=3)\r\n",
        "k"
      ],
      "execution_count": null,
      "outputs": [
        {
          "output_type": "display_data",
          "data": {
            "text/plain": [
              "     [,1] [,2] [,3]\n",
              "[1,] 7     9   11  \n",
              "[2,] 8    10   12  "
            ],
            "text/latex": "A matrix: 2 × 3 of type int\n\\begin{tabular}{lll}\n\t 7 &  9 & 11\\\\\n\t 8 & 10 & 12\\\\\n\\end{tabular}\n",
            "text/markdown": "\nA matrix: 2 × 3 of type int\n\n| 7 |  9 | 11 |\n| 8 | 10 | 12 |\n\n",
            "text/html": [
              "<table class=\"dataframe\">\n",
              "<caption>A matrix: 2 × 3 of type int</caption>\n",
              "<tbody>\n",
              "\t<tr><td>7</td><td> 9</td><td>11</td></tr>\n",
              "\t<tr><td>8</td><td>10</td><td>12</td></tr>\n",
              "</tbody>\n",
              "</table>\n"
            ]
          },
          "metadata": {
            "tags": []
          }
        }
      ]
    },
    {
      "cell_type": "code",
      "metadata": {
        "colab": {
          "base_uri": "https://localhost:8080/",
          "height": 34
        },
        "id": "3lV_MUa9QjE2",
        "outputId": "8591a70e-3fb3-4ca2-e20e-47fd8c627413"
      },
      "source": [
        "j[2,2]"
      ],
      "execution_count": null,
      "outputs": [
        {
          "output_type": "display_data",
          "data": {
            "text/plain": [
              "[1] 5"
            ],
            "text/latex": "5",
            "text/markdown": "5",
            "text/html": [
              "5"
            ]
          },
          "metadata": {
            "tags": []
          }
        }
      ]
    },
    {
      "cell_type": "code",
      "metadata": {
        "colab": {
          "base_uri": "https://localhost:8080/",
          "height": 34
        },
        "id": "pZeKKsU0QnpG",
        "outputId": "ccf72bce-58eb-4278-a4df-86b680598df5"
      },
      "source": [
        "j[2,]"
      ],
      "execution_count": null,
      "outputs": [
        {
          "output_type": "display_data",
          "data": {
            "text/plain": [
              "[1] 2 5"
            ],
            "text/latex": "\\begin{enumerate*}\n\\item 2\n\\item 5\n\\end{enumerate*}\n",
            "text/markdown": "1. 2\n2. 5\n\n\n",
            "text/html": [
              "<style>\n",
              ".list-inline {list-style: none; margin:0; padding: 0}\n",
              ".list-inline>li {display: inline-block}\n",
              ".list-inline>li:not(:last-child)::after {content: \"\\00b7\"; padding: 0 .5ex}\n",
              "</style>\n",
              "<ol class=list-inline><li>2</li><li>5</li></ol>\n"
            ]
          },
          "metadata": {
            "tags": []
          }
        }
      ]
    },
    {
      "cell_type": "code",
      "metadata": {
        "colab": {
          "base_uri": "https://localhost:8080/",
          "height": 34
        },
        "id": "3YX4Vh3kQrVX",
        "outputId": "4f883239-d7aa-40bc-97ed-6cd360a1402e"
      },
      "source": [
        "j[,2]"
      ],
      "execution_count": null,
      "outputs": [
        {
          "output_type": "display_data",
          "data": {
            "text/plain": [
              "[1] 4 5 6"
            ],
            "text/latex": "\\begin{enumerate*}\n\\item 4\n\\item 5\n\\item 6\n\\end{enumerate*}\n",
            "text/markdown": "1. 4\n2. 5\n3. 6\n\n\n",
            "text/html": [
              "<style>\n",
              ".list-inline {list-style: none; margin:0; padding: 0}\n",
              ".list-inline>li {display: inline-block}\n",
              ".list-inline>li:not(:last-child)::after {content: \"\\00b7\"; padding: 0 .5ex}\n",
              "</style>\n",
              "<ol class=list-inline><li>4</li><li>5</li><li>6</li></ol>\n"
            ]
          },
          "metadata": {
            "tags": []
          }
        }
      ]
    },
    {
      "cell_type": "code",
      "metadata": {
        "colab": {
          "base_uri": "https://localhost:8080/",
          "height": 252
        },
        "id": "Tfy0TrjkQyqu",
        "outputId": "d7e5a0c0-4581-43f7-df44-d364a883ad4a"
      },
      "source": [
        "tmp <- data.frame(Student_ID=c(1,2,3,4,5),\r\n",
        "name=c(\"Helen\",\"Lun\",\"Leon\",\"Kevin\",\"Tommy\"),\r\n",
        "score=c(80,36,88.9,97.5,60))\r\n",
        "tmp"
      ],
      "execution_count": null,
      "outputs": [
        {
          "output_type": "display_data",
          "data": {
            "text/plain": [
              "  Student_ID name  score\n",
              "1 1          Helen 80.0 \n",
              "2 2          Lun   36.0 \n",
              "3 3          Leon  88.9 \n",
              "4 4          Kevin 97.5 \n",
              "5 5          Tommy 60.0 "
            ],
            "text/latex": "A data.frame: 5 × 3\n\\begin{tabular}{lll}\n Student\\_ID & name & score\\\\\n <dbl> & <chr> & <dbl>\\\\\n\\hline\n\t 1 & Helen & 80.0\\\\\n\t 2 & Lun   & 36.0\\\\\n\t 3 & Leon  & 88.9\\\\\n\t 4 & Kevin & 97.5\\\\\n\t 5 & Tommy & 60.0\\\\\n\\end{tabular}\n",
            "text/markdown": "\nA data.frame: 5 × 3\n\n| Student_ID &lt;dbl&gt; | name &lt;chr&gt; | score &lt;dbl&gt; |\n|---|---|---|\n| 1 | Helen | 80.0 |\n| 2 | Lun   | 36.0 |\n| 3 | Leon  | 88.9 |\n| 4 | Kevin | 97.5 |\n| 5 | Tommy | 60.0 |\n\n",
            "text/html": [
              "<table class=\"dataframe\">\n",
              "<caption>A data.frame: 5 × 3</caption>\n",
              "<thead>\n",
              "\t<tr><th scope=col>Student_ID</th><th scope=col>name</th><th scope=col>score</th></tr>\n",
              "\t<tr><th scope=col>&lt;dbl&gt;</th><th scope=col>&lt;chr&gt;</th><th scope=col>&lt;dbl&gt;</th></tr>\n",
              "</thead>\n",
              "<tbody>\n",
              "\t<tr><td>1</td><td>Helen</td><td>80.0</td></tr>\n",
              "\t<tr><td>2</td><td>Lun  </td><td>36.0</td></tr>\n",
              "\t<tr><td>3</td><td>Leon </td><td>88.9</td></tr>\n",
              "\t<tr><td>4</td><td>Kevin</td><td>97.5</td></tr>\n",
              "\t<tr><td>5</td><td>Tommy</td><td>60.0</td></tr>\n",
              "</tbody>\n",
              "</table>\n"
            ]
          },
          "metadata": {
            "tags": []
          }
        }
      ]
    },
    {
      "cell_type": "code",
      "metadata": {
        "colab": {
          "base_uri": "https://localhost:8080/"
        },
        "id": "7DQfkNfESdTn",
        "outputId": "105adf7c-2af9-4592-e304-2567a8e57369"
      },
      "source": [
        "install.packages(\"SportsAnalytics\")"
      ],
      "execution_count": null,
      "outputs": [
        {
          "output_type": "stream",
          "text": [
            "Installing package into ‘/usr/local/lib/R/site-library’\n",
            "(as ‘lib’ is unspecified)\n",
            "\n"
          ],
          "name": "stderr"
        }
      ]
    },
    {
      "cell_type": "code",
      "metadata": {
        "id": "zP-NW3ejSrde"
      },
      "source": [
        "library(SportsAnalytics)\r\n",
        "NBA1516<-fetch_NBAPlayerStatistics(\"15-16\")"
      ],
      "execution_count": null,
      "outputs": []
    },
    {
      "cell_type": "code",
      "metadata": {
        "colab": {
          "base_uri": "https://localhost:8080/"
        },
        "id": "SIVeBri9Tcx2",
        "outputId": "00279c51-d497-46f5-dbd0-0087fa3e4ff2"
      },
      "source": [
        "str(NBA1516)"
      ],
      "execution_count": null,
      "outputs": [
        {
          "output_type": "stream",
          "text": [
            "'data.frame':\t476 obs. of  25 variables:\n",
            " $ League             : Factor w/ 1 level \"NBA\": 1 1 1 1 1 1 1 1 1 1 ...\n",
            " $ Name               : chr  \"Quincy Acy\" \"Jordan Adams\" \"Steven Adams\" \"Arron Afflalo\" ...\n",
            " $ Team               : Factor w/ 31 levels \"ATL\",\"BOS\",\"BRO\",..: 27 15 22 20 19 13 28 26 12 15 ...\n",
            " $ Position           : Factor w/ 5 levels \"C\",\"PF\",\"PG\",..: 4 5 1 5 1 1 2 2 2 5 ...\n",
            " $ GamesPlayed        : int  59 2 80 71 59 60 74 9 79 64 ...\n",
            " $ TotalMinutesPlayed : int  877 15 2019 2359 863 802 2260 37 1601 1622 ...\n",
            " $ FieldGoalsMade     : int  119 2 261 354 150 134 536 5 191 215 ...\n",
            " $ FieldGoalsAttempted: int  214 6 426 799 314 225 1045 10 370 469 ...\n",
            " $ ThreesMade         : int  19 0 0 91 0 0 0 0 0 15 ...\n",
            " $ ThreesAttempted    : int  49 1 0 238 1 0 16 0 0 42 ...\n",
            " $ FreeThrowsMade     : int  50 3 114 110 52 60 259 0 46 90 ...\n",
            " $ FreeThrowsAttempted: int  68 5 196 131 62 84 302 0 73 138 ...\n",
            " $ OffensiveRebounds  : int  65 0 218 23 75 86 175 2 162 104 ...\n",
            " $ TotalRebounds      : int  188 2 531 266 269 288 631 6 424 297 ...\n",
            " $ Assists            : int  27 3 61 145 32 50 110 0 76 70 ...\n",
            " $ Steals             : int  29 3 42 25 19 47 38 1 26 109 ...\n",
            " $ Turnovers          : int  27 2 84 82 54 64 99 1 69 78 ...\n",
            " $ Blocks             : int  24 0 89 10 36 68 81 2 42 18 ...\n",
            " $ PersonalFouls      : int  103 2 223 142 134 139 151 1 147 175 ...\n",
            " $ Disqualifications  : int  0 0 2 1 0 1 0 0 1 1 ...\n",
            " $ TotalPoints        : int  307 7 636 909 352 328 1331 10 428 535 ...\n",
            " $ Technicals         : int  3 0 2 1 2 0 0 0 0 1 ...\n",
            " $ Ejections          : int  0 0 0 0 0 0 0 0 0 0 ...\n",
            " $ FlagrantFouls      : int  0 0 0 0 0 0 0 0 0 0 ...\n",
            " $ GamesStarted       : int  29 0 80 57 17 5 74 0 28 56 ...\n"
          ],
          "name": "stdout"
        }
      ]
    },
    {
      "cell_type": "code",
      "metadata": {
        "colab": {
          "base_uri": "https://localhost:8080/",
          "height": 405
        },
        "id": "EELtj5qiTjNW",
        "outputId": "d59b55df-15f3-4040-e340-311022f4ba61"
      },
      "source": [
        "head(NBA1516)"
      ],
      "execution_count": null,
      "outputs": [
        {
          "output_type": "display_data",
          "data": {
            "text/plain": [
              "  League Name          Team Position GamesPlayed TotalMinutesPlayed\n",
              "1 NBA    Quincy Acy    SAC  SF       59           877              \n",
              "2 NBA    Jordan Adams  MEM  SG        2            15              \n",
              "3 NBA    Steven Adams  OKL  C        80          2019              \n",
              "4 NBA    Arron Afflalo NYK  SG       71          2359              \n",
              "5 NBA    Alexis Ajinca NOR  C        59           863              \n",
              "6 NBA    Cole Aldrich  LAC  C        60           802              \n",
              "  FieldGoalsMade FieldGoalsAttempted ThreesMade ThreesAttempted ⋯ Steals\n",
              "1 119            214                 19          49             ⋯ 29    \n",
              "2   2              6                  0           1             ⋯  3    \n",
              "3 261            426                  0           0             ⋯ 42    \n",
              "4 354            799                 91         238             ⋯ 25    \n",
              "5 150            314                  0           1             ⋯ 19    \n",
              "6 134            225                  0           0             ⋯ 47    \n",
              "  Turnovers Blocks PersonalFouls Disqualifications TotalPoints Technicals\n",
              "1 27        24     103           0                 307         3         \n",
              "2  2         0       2           0                   7         0         \n",
              "3 84        89     223           2                 636         2         \n",
              "4 82        10     142           1                 909         1         \n",
              "5 54        36     134           0                 352         2         \n",
              "6 64        68     139           1                 328         0         \n",
              "  Ejections FlagrantFouls GamesStarted\n",
              "1 0         0             29          \n",
              "2 0         0              0          \n",
              "3 0         0             80          \n",
              "4 0         0             57          \n",
              "5 0         0             17          \n",
              "6 0         0              5          "
            ],
            "text/latex": "A data.frame: 6 × 25\n\\begin{tabular}{r|lllllllllllllllllllll}\n  & League & Name & Team & Position & GamesPlayed & TotalMinutesPlayed & FieldGoalsMade & FieldGoalsAttempted & ThreesMade & ThreesAttempted & ⋯ & Steals & Turnovers & Blocks & PersonalFouls & Disqualifications & TotalPoints & Technicals & Ejections & FlagrantFouls & GamesStarted\\\\\n  & <fct> & <chr> & <fct> & <fct> & <int> & <int> & <int> & <int> & <int> & <int> & ⋯ & <int> & <int> & <int> & <int> & <int> & <int> & <int> & <int> & <int> & <int>\\\\\n\\hline\n\t1 & NBA & Quincy Acy    & SAC & SF & 59 &  877 & 119 & 214 & 19 &  49 & ⋯ & 29 & 27 & 24 & 103 & 0 & 307 & 3 & 0 & 0 & 29\\\\\n\t2 & NBA & Jordan Adams  & MEM & SG &  2 &   15 &   2 &   6 &  0 &   1 & ⋯ &  3 &  2 &  0 &   2 & 0 &   7 & 0 & 0 & 0 &  0\\\\\n\t3 & NBA & Steven Adams  & OKL & C  & 80 & 2019 & 261 & 426 &  0 &   0 & ⋯ & 42 & 84 & 89 & 223 & 2 & 636 & 2 & 0 & 0 & 80\\\\\n\t4 & NBA & Arron Afflalo & NYK & SG & 71 & 2359 & 354 & 799 & 91 & 238 & ⋯ & 25 & 82 & 10 & 142 & 1 & 909 & 1 & 0 & 0 & 57\\\\\n\t5 & NBA & Alexis Ajinca & NOR & C  & 59 &  863 & 150 & 314 &  0 &   1 & ⋯ & 19 & 54 & 36 & 134 & 0 & 352 & 2 & 0 & 0 & 17\\\\\n\t6 & NBA & Cole Aldrich  & LAC & C  & 60 &  802 & 134 & 225 &  0 &   0 & ⋯ & 47 & 64 & 68 & 139 & 1 & 328 & 0 & 0 & 0 &  5\\\\\n\\end{tabular}\n",
            "text/markdown": "\nA data.frame: 6 × 25\n\n| <!--/--> | League &lt;fct&gt; | Name &lt;chr&gt; | Team &lt;fct&gt; | Position &lt;fct&gt; | GamesPlayed &lt;int&gt; | TotalMinutesPlayed &lt;int&gt; | FieldGoalsMade &lt;int&gt; | FieldGoalsAttempted &lt;int&gt; | ThreesMade &lt;int&gt; | ThreesAttempted &lt;int&gt; | ⋯ ⋯ | Steals &lt;int&gt; | Turnovers &lt;int&gt; | Blocks &lt;int&gt; | PersonalFouls &lt;int&gt; | Disqualifications &lt;int&gt; | TotalPoints &lt;int&gt; | Technicals &lt;int&gt; | Ejections &lt;int&gt; | FlagrantFouls &lt;int&gt; | GamesStarted &lt;int&gt; |\n|---|---|---|---|---|---|---|---|---|---|---|---|---|---|---|---|---|---|---|---|---|---|\n| 1 | NBA | Quincy Acy    | SAC | SF | 59 |  877 | 119 | 214 | 19 |  49 | ⋯ | 29 | 27 | 24 | 103 | 0 | 307 | 3 | 0 | 0 | 29 |\n| 2 | NBA | Jordan Adams  | MEM | SG |  2 |   15 |   2 |   6 |  0 |   1 | ⋯ |  3 |  2 |  0 |   2 | 0 |   7 | 0 | 0 | 0 |  0 |\n| 3 | NBA | Steven Adams  | OKL | C  | 80 | 2019 | 261 | 426 |  0 |   0 | ⋯ | 42 | 84 | 89 | 223 | 2 | 636 | 2 | 0 | 0 | 80 |\n| 4 | NBA | Arron Afflalo | NYK | SG | 71 | 2359 | 354 | 799 | 91 | 238 | ⋯ | 25 | 82 | 10 | 142 | 1 | 909 | 1 | 0 | 0 | 57 |\n| 5 | NBA | Alexis Ajinca | NOR | C  | 59 |  863 | 150 | 314 |  0 |   1 | ⋯ | 19 | 54 | 36 | 134 | 0 | 352 | 2 | 0 | 0 | 17 |\n| 6 | NBA | Cole Aldrich  | LAC | C  | 60 |  802 | 134 | 225 |  0 |   0 | ⋯ | 47 | 64 | 68 | 139 | 1 | 328 | 0 | 0 | 0 |  5 |\n\n",
            "text/html": [
              "<table class=\"dataframe\">\n",
              "<caption>A data.frame: 6 × 25</caption>\n",
              "<thead>\n",
              "\t<tr><th></th><th scope=col>League</th><th scope=col>Name</th><th scope=col>Team</th><th scope=col>Position</th><th scope=col>GamesPlayed</th><th scope=col>TotalMinutesPlayed</th><th scope=col>FieldGoalsMade</th><th scope=col>FieldGoalsAttempted</th><th scope=col>ThreesMade</th><th scope=col>ThreesAttempted</th><th scope=col>⋯</th><th scope=col>Steals</th><th scope=col>Turnovers</th><th scope=col>Blocks</th><th scope=col>PersonalFouls</th><th scope=col>Disqualifications</th><th scope=col>TotalPoints</th><th scope=col>Technicals</th><th scope=col>Ejections</th><th scope=col>FlagrantFouls</th><th scope=col>GamesStarted</th></tr>\n",
              "\t<tr><th></th><th scope=col>&lt;fct&gt;</th><th scope=col>&lt;chr&gt;</th><th scope=col>&lt;fct&gt;</th><th scope=col>&lt;fct&gt;</th><th scope=col>&lt;int&gt;</th><th scope=col>&lt;int&gt;</th><th scope=col>&lt;int&gt;</th><th scope=col>&lt;int&gt;</th><th scope=col>&lt;int&gt;</th><th scope=col>&lt;int&gt;</th><th scope=col>⋯</th><th scope=col>&lt;int&gt;</th><th scope=col>&lt;int&gt;</th><th scope=col>&lt;int&gt;</th><th scope=col>&lt;int&gt;</th><th scope=col>&lt;int&gt;</th><th scope=col>&lt;int&gt;</th><th scope=col>&lt;int&gt;</th><th scope=col>&lt;int&gt;</th><th scope=col>&lt;int&gt;</th><th scope=col>&lt;int&gt;</th></tr>\n",
              "</thead>\n",
              "<tbody>\n",
              "\t<tr><th scope=row>1</th><td>NBA</td><td>Quincy Acy   </td><td>SAC</td><td>SF</td><td>59</td><td> 877</td><td>119</td><td>214</td><td>19</td><td> 49</td><td>⋯</td><td>29</td><td>27</td><td>24</td><td>103</td><td>0</td><td>307</td><td>3</td><td>0</td><td>0</td><td>29</td></tr>\n",
              "\t<tr><th scope=row>2</th><td>NBA</td><td>Jordan Adams </td><td>MEM</td><td>SG</td><td> 2</td><td>  15</td><td>  2</td><td>  6</td><td> 0</td><td>  1</td><td>⋯</td><td> 3</td><td> 2</td><td> 0</td><td>  2</td><td>0</td><td>  7</td><td>0</td><td>0</td><td>0</td><td> 0</td></tr>\n",
              "\t<tr><th scope=row>3</th><td>NBA</td><td>Steven Adams </td><td>OKL</td><td>C </td><td>80</td><td>2019</td><td>261</td><td>426</td><td> 0</td><td>  0</td><td>⋯</td><td>42</td><td>84</td><td>89</td><td>223</td><td>2</td><td>636</td><td>2</td><td>0</td><td>0</td><td>80</td></tr>\n",
              "\t<tr><th scope=row>4</th><td>NBA</td><td>Arron Afflalo</td><td>NYK</td><td>SG</td><td>71</td><td>2359</td><td>354</td><td>799</td><td>91</td><td>238</td><td>⋯</td><td>25</td><td>82</td><td>10</td><td>142</td><td>1</td><td>909</td><td>1</td><td>0</td><td>0</td><td>57</td></tr>\n",
              "\t<tr><th scope=row>5</th><td>NBA</td><td>Alexis Ajinca</td><td>NOR</td><td>C </td><td>59</td><td> 863</td><td>150</td><td>314</td><td> 0</td><td>  1</td><td>⋯</td><td>19</td><td>54</td><td>36</td><td>134</td><td>0</td><td>352</td><td>2</td><td>0</td><td>0</td><td>17</td></tr>\n",
              "\t<tr><th scope=row>6</th><td>NBA</td><td>Cole Aldrich </td><td>LAC</td><td>C </td><td>60</td><td> 802</td><td>134</td><td>225</td><td> 0</td><td>  0</td><td>⋯</td><td>47</td><td>64</td><td>68</td><td>139</td><td>1</td><td>328</td><td>0</td><td>0</td><td>0</td><td> 5</td></tr>\n",
              "</tbody>\n",
              "</table>\n"
            ]
          },
          "metadata": {
            "tags": []
          }
        }
      ]
    },
    {
      "cell_type": "code",
      "metadata": {
        "colab": {
          "base_uri": "https://localhost:8080/",
          "height": 715
        },
        "id": "paLT-Z_QTy2t",
        "outputId": "02fbacc6-4886-459d-e6de-60e699738ec3"
      },
      "source": [
        "subset(NBA1516,Team==\"NYK\")"
      ],
      "execution_count": null,
      "outputs": [
        {
          "output_type": "display_data",
          "data": {
            "text/plain": [
              "    League Name             Team Position GamesPlayed TotalMinutesPlayed\n",
              "4   NBA    Arron Afflalo    NYK  SG       71          2359              \n",
              "12  NBA    Lou Amundson     NYK  PF       29           199              \n",
              "20  NBA    Th Antetokounmpo NYK  SF        3             7              \n",
              "21  NBA    Carmelo Anthony  NYK  SF       72          2529              \n",
              "76  NBA    Jose Calderon    NYK  PG       72          2021              \n",
              "128 NBA    Cleanthony Early NYK  SF       17           155              \n",
              "145 NBA    Jimmer Fredette  NYK  PG        6            17              \n",
              "148 NBA    Langsto Galloway NYK  PG       82          2032              \n",
              "165 NBA    Jerian Grant     NYK  PG       76          1241              \n",
              "272 NBA    Robin Lopez      NYK  C        82          2213              \n",
              "337 NBA    Kyle O'quinn     NYK  PF       65           761              \n",
              "361 NBA    Krista Porzingis NYK  PF       72          2050              \n",
              "393 NBA    Kevin Seraphin   NYK  PF       48           530              \n",
              "423 NBA    Lance Thomas     NYK  SF       59          1323              \n",
              "443 NBA    Sasha Vujacic    NYK  SG       61           910              \n",
              "460 NBA    Derrick Williams NYK  PF       80          1442              \n",
              "    FieldGoalsMade FieldGoalsAttempted ThreesMade ThreesAttempted ⋯ Steals\n",
              "4   354             799                 91        238             ⋯ 25    \n",
              "12   19              52                  0          0             ⋯  6    \n",
              "20    3               4                  0          1             ⋯  0    \n",
              "21  567            1307                105        310             ⋯ 62    \n",
              "76  209             455                 84        203             ⋯ 63    \n",
              "128  12              40                  4         15             ⋯  2    \n",
              "145   2               5                  1          2             ⋯  1    \n",
              "148 231             588                 77        224             ⋯ 77    \n",
              "165 148             382                 22         99             ⋯ 48    \n",
              "272 357             662                  0          1             ⋯ 16    \n",
              "337 129             271                  5         22             ⋯ 20    \n",
              "361 373             886                 81        243             ⋯ 52    \n",
              "393  84             205                  0          2             ⋯  8    \n",
              "423 169             382                 44        109             ⋯ 22    \n",
              "443 106             277                 52        143             ⋯ 34    \n",
              "460 254             565                 44        150             ⋯ 30    \n",
              "    Turnovers Blocks PersonalFouls Disqualifications TotalPoints Technicals\n",
              "4    82        10    142           1                  909        1         \n",
              "12   15         7     44           1                   52        1         \n",
              "20    0         0      2           0                    6        0         \n",
              "21  176        38    180           1                 1573        4         \n",
              "76   87         7    135           1                  544        2         \n",
              "128   9         3     16           1                   31        0         \n",
              "145   2         0      2           0                    9        0         \n",
              "148  61        22    177           2                  625        0         \n",
              "165  85        10     95           0                  412        0         \n",
              "272 133       129    182           2                  842        3         \n",
              "337  61        49    107           0                  309        1         \n",
              "361 121       134    205           2                 1028        1         \n",
              "393  43        36     67           0                  187        0         \n",
              "423  57         7    109           2                  484        0         \n",
              "443  44         5     83           0                  296        1         \n",
              "460  61         9     69           0                  746        0         \n",
              "    Ejections FlagrantFouls GamesStarted\n",
              "4   0         0             57          \n",
              "12  0         0              0          \n",
              "20  0         0              0          \n",
              "21  0         0             72          \n",
              "76  0         0             72          \n",
              "128 0         0              2          \n",
              "145 0         0              0          \n",
              "148 0         0              7          \n",
              "165 0         0              6          \n",
              "272 0         0             82          \n",
              "337 0         0              1          \n",
              "361 0         0             72          \n",
              "393 0         0              0          \n",
              "423 0         0              5          \n",
              "443 0         0             25          \n",
              "460 0         0              9          "
            ],
            "text/latex": "A data.frame: 16 × 25\n\\begin{tabular}{r|lllllllllllllllllllll}\n  & League & Name & Team & Position & GamesPlayed & TotalMinutesPlayed & FieldGoalsMade & FieldGoalsAttempted & ThreesMade & ThreesAttempted & ⋯ & Steals & Turnovers & Blocks & PersonalFouls & Disqualifications & TotalPoints & Technicals & Ejections & FlagrantFouls & GamesStarted\\\\\n  & <fct> & <chr> & <fct> & <fct> & <int> & <int> & <int> & <int> & <int> & <int> & ⋯ & <int> & <int> & <int> & <int> & <int> & <int> & <int> & <int> & <int> & <int>\\\\\n\\hline\n\t4 & NBA & Arron Afflalo    & NYK & SG & 71 & 2359 & 354 &  799 &  91 & 238 & ⋯ & 25 &  82 &  10 & 142 & 1 &  909 & 1 & 0 & 0 & 57\\\\\n\t12 & NBA & Lou Amundson     & NYK & PF & 29 &  199 &  19 &   52 &   0 &   0 & ⋯ &  6 &  15 &   7 &  44 & 1 &   52 & 1 & 0 & 0 &  0\\\\\n\t20 & NBA & Th Antetokounmpo & NYK & SF &  3 &    7 &   3 &    4 &   0 &   1 & ⋯ &  0 &   0 &   0 &   2 & 0 &    6 & 0 & 0 & 0 &  0\\\\\n\t21 & NBA & Carmelo Anthony  & NYK & SF & 72 & 2529 & 567 & 1307 & 105 & 310 & ⋯ & 62 & 176 &  38 & 180 & 1 & 1573 & 4 & 0 & 0 & 72\\\\\n\t76 & NBA & Jose Calderon    & NYK & PG & 72 & 2021 & 209 &  455 &  84 & 203 & ⋯ & 63 &  87 &   7 & 135 & 1 &  544 & 2 & 0 & 0 & 72\\\\\n\t128 & NBA & Cleanthony Early & NYK & SF & 17 &  155 &  12 &   40 &   4 &  15 & ⋯ &  2 &   9 &   3 &  16 & 1 &   31 & 0 & 0 & 0 &  2\\\\\n\t145 & NBA & Jimmer Fredette  & NYK & PG &  6 &   17 &   2 &    5 &   1 &   2 & ⋯ &  1 &   2 &   0 &   2 & 0 &    9 & 0 & 0 & 0 &  0\\\\\n\t148 & NBA & Langsto Galloway & NYK & PG & 82 & 2032 & 231 &  588 &  77 & 224 & ⋯ & 77 &  61 &  22 & 177 & 2 &  625 & 0 & 0 & 0 &  7\\\\\n\t165 & NBA & Jerian Grant     & NYK & PG & 76 & 1241 & 148 &  382 &  22 &  99 & ⋯ & 48 &  85 &  10 &  95 & 0 &  412 & 0 & 0 & 0 &  6\\\\\n\t272 & NBA & Robin Lopez      & NYK & C  & 82 & 2213 & 357 &  662 &   0 &   1 & ⋯ & 16 & 133 & 129 & 182 & 2 &  842 & 3 & 0 & 0 & 82\\\\\n\t337 & NBA & Kyle O'quinn     & NYK & PF & 65 &  761 & 129 &  271 &   5 &  22 & ⋯ & 20 &  61 &  49 & 107 & 0 &  309 & 1 & 0 & 0 &  1\\\\\n\t361 & NBA & Krista Porzingis & NYK & PF & 72 & 2050 & 373 &  886 &  81 & 243 & ⋯ & 52 & 121 & 134 & 205 & 2 & 1028 & 1 & 0 & 0 & 72\\\\\n\t393 & NBA & Kevin Seraphin   & NYK & PF & 48 &  530 &  84 &  205 &   0 &   2 & ⋯ &  8 &  43 &  36 &  67 & 0 &  187 & 0 & 0 & 0 &  0\\\\\n\t423 & NBA & Lance Thomas     & NYK & SF & 59 & 1323 & 169 &  382 &  44 & 109 & ⋯ & 22 &  57 &   7 & 109 & 2 &  484 & 0 & 0 & 0 &  5\\\\\n\t443 & NBA & Sasha Vujacic    & NYK & SG & 61 &  910 & 106 &  277 &  52 & 143 & ⋯ & 34 &  44 &   5 &  83 & 0 &  296 & 1 & 0 & 0 & 25\\\\\n\t460 & NBA & Derrick Williams & NYK & PF & 80 & 1442 & 254 &  565 &  44 & 150 & ⋯ & 30 &  61 &   9 &  69 & 0 &  746 & 0 & 0 & 0 &  9\\\\\n\\end{tabular}\n",
            "text/markdown": "\nA data.frame: 16 × 25\n\n| <!--/--> | League &lt;fct&gt; | Name &lt;chr&gt; | Team &lt;fct&gt; | Position &lt;fct&gt; | GamesPlayed &lt;int&gt; | TotalMinutesPlayed &lt;int&gt; | FieldGoalsMade &lt;int&gt; | FieldGoalsAttempted &lt;int&gt; | ThreesMade &lt;int&gt; | ThreesAttempted &lt;int&gt; | ⋯ ⋯ | Steals &lt;int&gt; | Turnovers &lt;int&gt; | Blocks &lt;int&gt; | PersonalFouls &lt;int&gt; | Disqualifications &lt;int&gt; | TotalPoints &lt;int&gt; | Technicals &lt;int&gt; | Ejections &lt;int&gt; | FlagrantFouls &lt;int&gt; | GamesStarted &lt;int&gt; |\n|---|---|---|---|---|---|---|---|---|---|---|---|---|---|---|---|---|---|---|---|---|---|\n| 4 | NBA | Arron Afflalo    | NYK | SG | 71 | 2359 | 354 |  799 |  91 | 238 | ⋯ | 25 |  82 |  10 | 142 | 1 |  909 | 1 | 0 | 0 | 57 |\n| 12 | NBA | Lou Amundson     | NYK | PF | 29 |  199 |  19 |   52 |   0 |   0 | ⋯ |  6 |  15 |   7 |  44 | 1 |   52 | 1 | 0 | 0 |  0 |\n| 20 | NBA | Th Antetokounmpo | NYK | SF |  3 |    7 |   3 |    4 |   0 |   1 | ⋯ |  0 |   0 |   0 |   2 | 0 |    6 | 0 | 0 | 0 |  0 |\n| 21 | NBA | Carmelo Anthony  | NYK | SF | 72 | 2529 | 567 | 1307 | 105 | 310 | ⋯ | 62 | 176 |  38 | 180 | 1 | 1573 | 4 | 0 | 0 | 72 |\n| 76 | NBA | Jose Calderon    | NYK | PG | 72 | 2021 | 209 |  455 |  84 | 203 | ⋯ | 63 |  87 |   7 | 135 | 1 |  544 | 2 | 0 | 0 | 72 |\n| 128 | NBA | Cleanthony Early | NYK | SF | 17 |  155 |  12 |   40 |   4 |  15 | ⋯ |  2 |   9 |   3 |  16 | 1 |   31 | 0 | 0 | 0 |  2 |\n| 145 | NBA | Jimmer Fredette  | NYK | PG |  6 |   17 |   2 |    5 |   1 |   2 | ⋯ |  1 |   2 |   0 |   2 | 0 |    9 | 0 | 0 | 0 |  0 |\n| 148 | NBA | Langsto Galloway | NYK | PG | 82 | 2032 | 231 |  588 |  77 | 224 | ⋯ | 77 |  61 |  22 | 177 | 2 |  625 | 0 | 0 | 0 |  7 |\n| 165 | NBA | Jerian Grant     | NYK | PG | 76 | 1241 | 148 |  382 |  22 |  99 | ⋯ | 48 |  85 |  10 |  95 | 0 |  412 | 0 | 0 | 0 |  6 |\n| 272 | NBA | Robin Lopez      | NYK | C  | 82 | 2213 | 357 |  662 |   0 |   1 | ⋯ | 16 | 133 | 129 | 182 | 2 |  842 | 3 | 0 | 0 | 82 |\n| 337 | NBA | Kyle O'quinn     | NYK | PF | 65 |  761 | 129 |  271 |   5 |  22 | ⋯ | 20 |  61 |  49 | 107 | 0 |  309 | 1 | 0 | 0 |  1 |\n| 361 | NBA | Krista Porzingis | NYK | PF | 72 | 2050 | 373 |  886 |  81 | 243 | ⋯ | 52 | 121 | 134 | 205 | 2 | 1028 | 1 | 0 | 0 | 72 |\n| 393 | NBA | Kevin Seraphin   | NYK | PF | 48 |  530 |  84 |  205 |   0 |   2 | ⋯ |  8 |  43 |  36 |  67 | 0 |  187 | 0 | 0 | 0 |  0 |\n| 423 | NBA | Lance Thomas     | NYK | SF | 59 | 1323 | 169 |  382 |  44 | 109 | ⋯ | 22 |  57 |   7 | 109 | 2 |  484 | 0 | 0 | 0 |  5 |\n| 443 | NBA | Sasha Vujacic    | NYK | SG | 61 |  910 | 106 |  277 |  52 | 143 | ⋯ | 34 |  44 |   5 |  83 | 0 |  296 | 1 | 0 | 0 | 25 |\n| 460 | NBA | Derrick Williams | NYK | PF | 80 | 1442 | 254 |  565 |  44 | 150 | ⋯ | 30 |  61 |   9 |  69 | 0 |  746 | 0 | 0 | 0 |  9 |\n\n",
            "text/html": [
              "<table class=\"dataframe\">\n",
              "<caption>A data.frame: 16 × 25</caption>\n",
              "<thead>\n",
              "\t<tr><th></th><th scope=col>League</th><th scope=col>Name</th><th scope=col>Team</th><th scope=col>Position</th><th scope=col>GamesPlayed</th><th scope=col>TotalMinutesPlayed</th><th scope=col>FieldGoalsMade</th><th scope=col>FieldGoalsAttempted</th><th scope=col>ThreesMade</th><th scope=col>ThreesAttempted</th><th scope=col>⋯</th><th scope=col>Steals</th><th scope=col>Turnovers</th><th scope=col>Blocks</th><th scope=col>PersonalFouls</th><th scope=col>Disqualifications</th><th scope=col>TotalPoints</th><th scope=col>Technicals</th><th scope=col>Ejections</th><th scope=col>FlagrantFouls</th><th scope=col>GamesStarted</th></tr>\n",
              "\t<tr><th></th><th scope=col>&lt;fct&gt;</th><th scope=col>&lt;chr&gt;</th><th scope=col>&lt;fct&gt;</th><th scope=col>&lt;fct&gt;</th><th scope=col>&lt;int&gt;</th><th scope=col>&lt;int&gt;</th><th scope=col>&lt;int&gt;</th><th scope=col>&lt;int&gt;</th><th scope=col>&lt;int&gt;</th><th scope=col>&lt;int&gt;</th><th scope=col>⋯</th><th scope=col>&lt;int&gt;</th><th scope=col>&lt;int&gt;</th><th scope=col>&lt;int&gt;</th><th scope=col>&lt;int&gt;</th><th scope=col>&lt;int&gt;</th><th scope=col>&lt;int&gt;</th><th scope=col>&lt;int&gt;</th><th scope=col>&lt;int&gt;</th><th scope=col>&lt;int&gt;</th><th scope=col>&lt;int&gt;</th></tr>\n",
              "</thead>\n",
              "<tbody>\n",
              "\t<tr><th scope=row>4</th><td>NBA</td><td>Arron Afflalo   </td><td>NYK</td><td>SG</td><td>71</td><td>2359</td><td>354</td><td> 799</td><td> 91</td><td>238</td><td>⋯</td><td>25</td><td> 82</td><td> 10</td><td>142</td><td>1</td><td> 909</td><td>1</td><td>0</td><td>0</td><td>57</td></tr>\n",
              "\t<tr><th scope=row>12</th><td>NBA</td><td>Lou Amundson    </td><td>NYK</td><td>PF</td><td>29</td><td> 199</td><td> 19</td><td>  52</td><td>  0</td><td>  0</td><td>⋯</td><td> 6</td><td> 15</td><td>  7</td><td> 44</td><td>1</td><td>  52</td><td>1</td><td>0</td><td>0</td><td> 0</td></tr>\n",
              "\t<tr><th scope=row>20</th><td>NBA</td><td>Th Antetokounmpo</td><td>NYK</td><td>SF</td><td> 3</td><td>   7</td><td>  3</td><td>   4</td><td>  0</td><td>  1</td><td>⋯</td><td> 0</td><td>  0</td><td>  0</td><td>  2</td><td>0</td><td>   6</td><td>0</td><td>0</td><td>0</td><td> 0</td></tr>\n",
              "\t<tr><th scope=row>21</th><td>NBA</td><td>Carmelo Anthony </td><td>NYK</td><td>SF</td><td>72</td><td>2529</td><td>567</td><td>1307</td><td>105</td><td>310</td><td>⋯</td><td>62</td><td>176</td><td> 38</td><td>180</td><td>1</td><td>1573</td><td>4</td><td>0</td><td>0</td><td>72</td></tr>\n",
              "\t<tr><th scope=row>76</th><td>NBA</td><td>Jose Calderon   </td><td>NYK</td><td>PG</td><td>72</td><td>2021</td><td>209</td><td> 455</td><td> 84</td><td>203</td><td>⋯</td><td>63</td><td> 87</td><td>  7</td><td>135</td><td>1</td><td> 544</td><td>2</td><td>0</td><td>0</td><td>72</td></tr>\n",
              "\t<tr><th scope=row>128</th><td>NBA</td><td>Cleanthony Early</td><td>NYK</td><td>SF</td><td>17</td><td> 155</td><td> 12</td><td>  40</td><td>  4</td><td> 15</td><td>⋯</td><td> 2</td><td>  9</td><td>  3</td><td> 16</td><td>1</td><td>  31</td><td>0</td><td>0</td><td>0</td><td> 2</td></tr>\n",
              "\t<tr><th scope=row>145</th><td>NBA</td><td>Jimmer Fredette </td><td>NYK</td><td>PG</td><td> 6</td><td>  17</td><td>  2</td><td>   5</td><td>  1</td><td>  2</td><td>⋯</td><td> 1</td><td>  2</td><td>  0</td><td>  2</td><td>0</td><td>   9</td><td>0</td><td>0</td><td>0</td><td> 0</td></tr>\n",
              "\t<tr><th scope=row>148</th><td>NBA</td><td>Langsto Galloway</td><td>NYK</td><td>PG</td><td>82</td><td>2032</td><td>231</td><td> 588</td><td> 77</td><td>224</td><td>⋯</td><td>77</td><td> 61</td><td> 22</td><td>177</td><td>2</td><td> 625</td><td>0</td><td>0</td><td>0</td><td> 7</td></tr>\n",
              "\t<tr><th scope=row>165</th><td>NBA</td><td>Jerian Grant    </td><td>NYK</td><td>PG</td><td>76</td><td>1241</td><td>148</td><td> 382</td><td> 22</td><td> 99</td><td>⋯</td><td>48</td><td> 85</td><td> 10</td><td> 95</td><td>0</td><td> 412</td><td>0</td><td>0</td><td>0</td><td> 6</td></tr>\n",
              "\t<tr><th scope=row>272</th><td>NBA</td><td>Robin Lopez     </td><td>NYK</td><td>C </td><td>82</td><td>2213</td><td>357</td><td> 662</td><td>  0</td><td>  1</td><td>⋯</td><td>16</td><td>133</td><td>129</td><td>182</td><td>2</td><td> 842</td><td>3</td><td>0</td><td>0</td><td>82</td></tr>\n",
              "\t<tr><th scope=row>337</th><td>NBA</td><td>Kyle O'quinn    </td><td>NYK</td><td>PF</td><td>65</td><td> 761</td><td>129</td><td> 271</td><td>  5</td><td> 22</td><td>⋯</td><td>20</td><td> 61</td><td> 49</td><td>107</td><td>0</td><td> 309</td><td>1</td><td>0</td><td>0</td><td> 1</td></tr>\n",
              "\t<tr><th scope=row>361</th><td>NBA</td><td>Krista Porzingis</td><td>NYK</td><td>PF</td><td>72</td><td>2050</td><td>373</td><td> 886</td><td> 81</td><td>243</td><td>⋯</td><td>52</td><td>121</td><td>134</td><td>205</td><td>2</td><td>1028</td><td>1</td><td>0</td><td>0</td><td>72</td></tr>\n",
              "\t<tr><th scope=row>393</th><td>NBA</td><td>Kevin Seraphin  </td><td>NYK</td><td>PF</td><td>48</td><td> 530</td><td> 84</td><td> 205</td><td>  0</td><td>  2</td><td>⋯</td><td> 8</td><td> 43</td><td> 36</td><td> 67</td><td>0</td><td> 187</td><td>0</td><td>0</td><td>0</td><td> 0</td></tr>\n",
              "\t<tr><th scope=row>423</th><td>NBA</td><td>Lance Thomas    </td><td>NYK</td><td>SF</td><td>59</td><td>1323</td><td>169</td><td> 382</td><td> 44</td><td>109</td><td>⋯</td><td>22</td><td> 57</td><td>  7</td><td>109</td><td>2</td><td> 484</td><td>0</td><td>0</td><td>0</td><td> 5</td></tr>\n",
              "\t<tr><th scope=row>443</th><td>NBA</td><td>Sasha Vujacic   </td><td>NYK</td><td>SG</td><td>61</td><td> 910</td><td>106</td><td> 277</td><td> 52</td><td>143</td><td>⋯</td><td>34</td><td> 44</td><td>  5</td><td> 83</td><td>0</td><td> 296</td><td>1</td><td>0</td><td>0</td><td>25</td></tr>\n",
              "\t<tr><th scope=row>460</th><td>NBA</td><td>Derrick Williams</td><td>NYK</td><td>PF</td><td>80</td><td>1442</td><td>254</td><td> 565</td><td> 44</td><td>150</td><td>⋯</td><td>30</td><td> 61</td><td>  9</td><td> 69</td><td>0</td><td> 746</td><td>0</td><td>0</td><td>0</td><td> 9</td></tr>\n",
              "</tbody>\n",
              "</table>\n"
            ]
          },
          "metadata": {
            "tags": []
          }
        }
      ]
    },
    {
      "cell_type": "code",
      "metadata": {
        "colab": {
          "base_uri": "https://localhost:8080/",
          "height": 1000
        },
        "id": "tY0VhzFlVbvW",
        "outputId": "d4d10302-cc1f-4ac6-bec2-598b661635d0"
      },
      "source": [
        "subset(NBA1516,Position==\"PG\")"
      ],
      "execution_count": null,
      "outputs": [
        {
          "output_type": "display_data",
          "data": {
            "text/plain": [
              "    League Name             Team Position GamesPlayed TotalMinutesPlayed\n",
              "23  NBA    Keith Appling    ORL  PG        5            27              \n",
              "28  NBA    D.j. Augustin    DEN  PG       62          1182              \n",
              "33  NBA    J.j. Barea       DAL  PG       74          1666              \n",
              "40  NBA    Jerryd Bayless   MIL  PG       52          1506              \n",
              "47  NBA    Patrick Beverley HOU  PG       71          2038              \n",
              "52  NBA    Steve Blake      DET  PG       58           987              \n",
              "53  NBA    Eric Bledsoe     PHO  PG       31          1058              \n",
              "60  NBA    Avery Bradley    BOS  PG       76          2536              \n",
              "63  NBA    Aaron Brooks     CHI  PG       69          1111              \n",
              "65  NBA    Lorenzo Brown    PHO  PG        8            60              \n",
              "70  NBA    Trey Burke       UTA  PG       64          1362              \n",
              "71  NBA    Alec Burks       UTA  PG       31           798              \n",
              "76  NBA    Jose Calderon    NYK  PG       72          2021              \n",
              "78  NBA    Isaiah Canaan    PHI  PG       77          1968              \n",
              "82  NBA    Carter-williams  MIL  PG       54          1649              \n",
              "85  NBA    Mario Chalmers   MEM  PG       61          1378              \n",
              "90  NBA    Jordan Clarkson  LAL  PG       79          2556              \n",
              "91  NBA    Norris Cole      NOR  PG       45          1199              \n",
              "92  NBA    Darren Collison  SAC  PG       74          2216              \n",
              "94  NBA    Mike Conley      MEM  PG       56          1754              \n",
              "97  NBA    Bryce Cotton     MEM  PG        8            41              \n",
              "106 NBA    Stephen Curry    GSW  PG       79          2705              \n",
              "114 NBA    Matt Dellavedova CLE  PG       76          1869              \n",
              "119 NBA    Spence Dinwiddie DET  PG       12           159              \n",
              "120 NBA    Toney Douglas    NOR  PG       61          1264              \n",
              "131 NBA    Monta Ellis      IND  PG       81          2733              \n",
              "133 NBA    Tyler Ennis      MIL  PG       46           657              \n",
              "138 NBA    Jordan Farmar    MEM  PG       12           291              \n",
              "141 NBA    Raymond Felton   DAL  PG       80          2190              \n",
              "144 NBA    Tim Frazier      NOR  PG       50           718              \n",
              "⋮   ⋮      ⋮                ⋮    ⋮        ⋮           ⋮                 \n",
              "352 NBA    Elfrid Payton    ORL  PG       73          2144              \n",
              "365 NBA    Ronnie Price     PHO  PG       62          1210              \n",
              "366 NBA    Pablo Prigioni   LAC  PG       59           816              \n",
              "375 NBA    Brian Roberts    POR  PG       51           474              \n",
              "377 NBA    Nate Robinson    NOR  PG        2            23              \n",
              "379 NBA    Rajon Rondo      SAC  PG       72          2537              \n",
              "380 NBA    Derrick Rose     CHI  PG       66          2095              \n",
              "382 NBA    Terry Rozier     BOS  PG       39           310              \n",
              "383 NBA    Ricky Rubio      MIN  PG       76          2322              \n",
              "386 NBA    D'angelo Russell LAL  PG       80          2257              \n",
              "389 NBA    Dennis Schroder  ATL  PG       80          1614              \n",
              "394 NBA    Ramon Sessions   WAS  PG       82          1667              \n",
              "399 NBA    Donald Sloan     BRO  PG       61          1317              \n",
              "400 NBA    Marcus Smart     BOS  PG       61          1666              \n",
              "402 NBA    Ish Smith        PHI  PG       77          2240              \n",
              "406 NBA    Russ Smith       MEM  PG       15            65              \n",
              "415 NBA    Rodney Stuckey   IND  PG       58          1275              \n",
              "418 NBA    Jeff Teague      ATL  PG       79          2248              \n",
              "422 NBA    Isaiah Thomas    BOS  PG       82          2647              \n",
              "435 NBA    Beno Udrih       MIA  PG       44           708              \n",
              "438 NBA    Greivis Vasquez  MIL  PG       23           461              \n",
              "446 NBA    Kemba Walker     CHA  PG       81          2885              \n",
              "447 NBA    John Wall        WAS  PG       77          2783              \n",
              "449 NBA    C.j. Watson      ORL  PG       33           655              \n",
              "450 NBA    Briante Weber    MIA  PG        7           170              \n",
              "453 NBA    Russel Westbrook OKL  PG       80          2749              \n",
              "459 NBA    Deron Williams   DAL  PG       65          2107              \n",
              "464 NBA    Mo Williams      CLE  PG       41           748              \n",
              "469 NBA    Delon Wright     TOR  PG       27           231              \n",
              "472 NBA    Joseph Young     IND  PG       41           384              \n",
              "    FieldGoalsMade FieldGoalsAttempted ThreesMade ThreesAttempted ⋯ Steals\n",
              "23    2               8                  0          3             ⋯   1   \n",
              "28  148             350                 68        169             ⋯  38   \n",
              "33  317             710                100        259             ⋯  26   \n",
              "40  185             437                101        230             ⋯  47   \n",
              "47  258             594                124        310             ⋯  94   \n",
              "52   93             240                 52        151             ⋯  24   \n",
              "53  223             492                 48        129             ⋯  63   \n",
              "60  456            1018                147        406             ⋯ 117   \n",
              "63  188             470                 66        185             ⋯  30   \n",
              "65    8              25                  1          8             ⋯   3   \n",
              "70  262             634                 88        256             ⋯  35   \n",
              "71  137             334                 32         79             ⋯  18   \n",
              "76  209             455                 84        203             ⋯  63   \n",
              "78  260             722                176        484             ⋯  56   \n",
              "82  251             555                 15         55             ⋯  80   \n",
              "85  182             444                 46        149             ⋯  88   \n",
              "90  475            1099                111        318             ⋯  88   \n",
              "91  196             485                 33        103             ⋯  37   \n",
              "92  377             776                 87        217             ⋯  76   \n",
              "94  294             696                 78        215             ⋯  67   \n",
              "97    4              10                  0          3             ⋯   3   \n",
              "106 805            1597                402        887             ⋯ 169   \n",
              "114 207             511                 98        239             ⋯  44   \n",
              "119  19              53                  1         10             ⋯   3   \n",
              "120 184             446                 81        203             ⋯  70   \n",
              "131 436            1021                 87        281             ⋯ 149   \n",
              "133  84             187                 13         39             ⋯  25   \n",
              "138  42             100                 16         45             ⋯  15   \n",
              "141 277             682                 60        213             ⋯  68   \n",
              "144  90             220                 16         46             ⋯  32   \n",
              "⋮   ⋮              ⋮                   ⋮          ⋮               ⋱ ⋮     \n",
              "352 318             730                 30         92             ⋯  89   \n",
              "365 116             302                 68        195             ⋯  74   \n",
              "366  55             147                 28         95             ⋯  53   \n",
              "375  74             165                 15         42             ⋯  10   \n",
              "377   0               1                  0          1             ⋯   1   \n",
              "379 355             782                 62        170             ⋯ 142   \n",
              "380 447            1047                 44        150             ⋯  44   \n",
              "382  29             106                  6         27             ⋯   6   \n",
              "383 219             586                 62        190             ⋯ 162   \n",
              "386 392             955                130        367             ⋯  93   \n",
              "389 329             782                 77        239             ⋯  71   \n",
              "394 280             592                 36        111             ⋯  47   \n",
              "399 154             350                 38         99             ⋯  32   \n",
              "400 184             529                 61        241             ⋯  91   \n",
              "402 397             967                 56        170             ⋯  88   \n",
              "406   7              22                  1          5             ⋯   5   \n",
              "415 183             444                 20         83             ⋯  43   \n",
              "418 434             986                110        274             ⋯  98   \n",
              "422 591            1382                167        465             ⋯  91   \n",
              "435  86             197                 15         44             ⋯  14   \n",
              "438  44             137                 17         72             ⋯  10   \n",
              "446 568            1332                182        490             ⋯ 127   \n",
              "447 572            1349                115        327             ⋯ 145   \n",
              "449  47             137                 14         48             ⋯  19   \n",
              "450  14              39                  0          5             ⋯   9   \n",
              "453 656            1444                101        341             ⋯ 163   \n",
              "459 321             775                 97        282             ⋯  61   \n",
              "464 132             302                 36        102             ⋯  14   \n",
              "469  36              81                  5         13             ⋯   8   \n",
              "472  62             170                 10         46             ⋯  15   \n",
              "    Turnovers Blocks PersonalFouls Disqualifications TotalPoints Technicals\n",
              "23    3        0       5           0                    6        0         \n",
              "28   84        4      85           0                  467        0         \n",
              "33  113        2     110           0                  808        3         \n",
              "40   73       12     111           0                  541        1         \n",
              "47   91       26     234           1                  700        5         \n",
              "52   81        5      70           0                  254        0         \n",
              "53  111       19      75           1                  632        2         \n",
              "60  109       19     164           2                 1155        0         \n",
              "63   82       10     132           0                  491        1         \n",
              "65    9        1       4           0                   20        0         \n",
              "70   80        6      86           0                  679        0         \n",
              "71   51        4      71           0                  412        0         \n",
              "76   87        7     135           1                  544        2         \n",
              "78   91       12     133           0                  846        1         \n",
              "82  153       41     162           0                  623        3         \n",
              "85  111       13     181           0                  628        5         \n",
              "90  135        7     168           1                 1225        0         \n",
              "91   75        5     102           0                  477        0         \n",
              "92  129        4     142           0                 1035        1         \n",
              "94   84       16     100           0                  857        0         \n",
              "97    5        0       2           0                    8        0         \n",
              "106 261       16     161           0                 2375        1         \n",
              "114 117        9     177           0                  569        0         \n",
              "119   7        0      20           0                   58        0         \n",
              "120  64        5     131           1                  533        1         \n",
              "131 203       38     174           0                 1121        1         \n",
              "133  46        1      64           0                  206        0         \n",
              "138  18        2      22           0                  110        0         \n",
              "141 121       15     141           0                  763        3         \n",
              "144  65        2      71           0                  247        0         \n",
              "⋮   ⋮         ⋮      ⋮             ⋮                 ⋮           ⋮         \n",
              "352 177       20     159           0                  778        2         \n",
              "365  70       13     161           2                  331        0         \n",
              "366  49        1      82           0                  145        0         \n",
              "375  23        2      35           0                  205        0         \n",
              "377   0        0       5           0                    0        0         \n",
              "379 279       10     175           1                  859        3         \n",
              "380 175       14      84           1                 1080        4         \n",
              "382  19        1      23           0                   72        0         \n",
              "383 194       10     201           1                  766        0         \n",
              "386 196       13     142           0                 1054        1         \n",
              "389 184        9     138           0                  879        0         \n",
              "394 115        5     102           0                  810        0         \n",
              "399  80        4      73           0                  424        0         \n",
              "400  80       18     183           1                  558        2         \n",
              "402 175       24     133           0                  972        0         \n",
              "406   7        1       5           0                   23        0         \n",
              "415  76        8      77           0                  517        1         \n",
              "418 218       24     167           2                 1239        0         \n",
              "422 220        9     167           1                 1823        9         \n",
              "435  53        1      51           0                  205        0         \n",
              "438  40        0      42           0                  127        0         \n",
              "446 171       39     111           0                 1689        5         \n",
              "447 318       59     159           0                 1531        7         \n",
              "449  25        5      49           0                  142        0         \n",
              "450   9        3      12           0                   31        0         \n",
              "453 342       20     200           2                 1878        6         \n",
              "459 150       14     155           0                  918        0         \n",
              "464  57        5      60           0                  338        1         \n",
              "469  16        3       7           0                  103        0         \n",
              "472  33        0      30           0                  154        0         \n",
              "    Ejections FlagrantFouls GamesStarted\n",
              "23  0         0              0          \n",
              "28  0         0              0          \n",
              "33  0         0             16          \n",
              "40  0         0             18          \n",
              "47  0         0             62          \n",
              "52  0         0              2          \n",
              "53  0         0             31          \n",
              "60  0         0             72          \n",
              "63  0         0              0          \n",
              "65  0         0              0          \n",
              "70  0         0              0          \n",
              "71  0         0              3          \n",
              "76  0         0             72          \n",
              "78  0         0             39          \n",
              "82  0         0             37          \n",
              "85  0         0              7          \n",
              "90  0         0             79          \n",
              "91  0         0             23          \n",
              "92  0         0             15          \n",
              "94  0         0             56          \n",
              "97  0         0              0          \n",
              "106 0         0             79          \n",
              "114 0         0             14          \n",
              "119 0         0              0          \n",
              "120 0         0             18          \n",
              "131 0         0             81          \n",
              "133 0         0              7          \n",
              "138 0         0             10          \n",
              "141 0         0             31          \n",
              "144 0         0              2          \n",
              "⋮   ⋮         ⋮             ⋮           \n",
              "352 0         0             69          \n",
              "365 0         0             18          \n",
              "366 0         0              3          \n",
              "375 0         0              0          \n",
              "377 0         0              1          \n",
              "379 0         0             72          \n",
              "380 0         0             66          \n",
              "382 0         0              0          \n",
              "383 0         0             76          \n",
              "386 0         0             48          \n",
              "389 0         0              6          \n",
              "394 0         0              5          \n",
              "399 0         0             33          \n",
              "400 0         0             10          \n",
              "402 0         0             53          \n",
              "406 0         0              0          \n",
              "415 0         0              1          \n",
              "418 0         0             78          \n",
              "422 0         0             79          \n",
              "435 0         0              5          \n",
              "438 0         0              0          \n",
              "446 0         0             81          \n",
              "447 0         0             77          \n",
              "449 0         0              2          \n",
              "450 0         0              4          \n",
              "453 0         0             80          \n",
              "459 0         0             63          \n",
              "464 0         0             14          \n",
              "469 0         0              1          \n",
              "472 0         0              0          "
            ],
            "text/latex": "A data.frame: 99 × 25\n\\begin{tabular}{r|lllllllllllllllllllll}\n  & League & Name & Team & Position & GamesPlayed & TotalMinutesPlayed & FieldGoalsMade & FieldGoalsAttempted & ThreesMade & ThreesAttempted & ⋯ & Steals & Turnovers & Blocks & PersonalFouls & Disqualifications & TotalPoints & Technicals & Ejections & FlagrantFouls & GamesStarted\\\\\n  & <fct> & <chr> & <fct> & <fct> & <int> & <int> & <int> & <int> & <int> & <int> & ⋯ & <int> & <int> & <int> & <int> & <int> & <int> & <int> & <int> & <int> & <int>\\\\\n\\hline\n\t23 & NBA & Keith Appling    & ORL & PG &  5 &   27 &   2 &    8 &   0 &   3 & ⋯ &   1 &   3 &  0 &   5 & 0 &    6 & 0 & 0 & 0 &  0\\\\\n\t28 & NBA & D.j. Augustin    & DEN & PG & 62 & 1182 & 148 &  350 &  68 & 169 & ⋯ &  38 &  84 &  4 &  85 & 0 &  467 & 0 & 0 & 0 &  0\\\\\n\t33 & NBA & J.j. Barea       & DAL & PG & 74 & 1666 & 317 &  710 & 100 & 259 & ⋯ &  26 & 113 &  2 & 110 & 0 &  808 & 3 & 0 & 0 & 16\\\\\n\t40 & NBA & Jerryd Bayless   & MIL & PG & 52 & 1506 & 185 &  437 & 101 & 230 & ⋯ &  47 &  73 & 12 & 111 & 0 &  541 & 1 & 0 & 0 & 18\\\\\n\t47 & NBA & Patrick Beverley & HOU & PG & 71 & 2038 & 258 &  594 & 124 & 310 & ⋯ &  94 &  91 & 26 & 234 & 1 &  700 & 5 & 0 & 0 & 62\\\\\n\t52 & NBA & Steve Blake      & DET & PG & 58 &  987 &  93 &  240 &  52 & 151 & ⋯ &  24 &  81 &  5 &  70 & 0 &  254 & 0 & 0 & 0 &  2\\\\\n\t53 & NBA & Eric Bledsoe     & PHO & PG & 31 & 1058 & 223 &  492 &  48 & 129 & ⋯ &  63 & 111 & 19 &  75 & 1 &  632 & 2 & 0 & 0 & 31\\\\\n\t60 & NBA & Avery Bradley    & BOS & PG & 76 & 2536 & 456 & 1018 & 147 & 406 & ⋯ & 117 & 109 & 19 & 164 & 2 & 1155 & 0 & 0 & 0 & 72\\\\\n\t63 & NBA & Aaron Brooks     & CHI & PG & 69 & 1111 & 188 &  470 &  66 & 185 & ⋯ &  30 &  82 & 10 & 132 & 0 &  491 & 1 & 0 & 0 &  0\\\\\n\t65 & NBA & Lorenzo Brown    & PHO & PG &  8 &   60 &   8 &   25 &   1 &   8 & ⋯ &   3 &   9 &  1 &   4 & 0 &   20 & 0 & 0 & 0 &  0\\\\\n\t70 & NBA & Trey Burke       & UTA & PG & 64 & 1362 & 262 &  634 &  88 & 256 & ⋯ &  35 &  80 &  6 &  86 & 0 &  679 & 0 & 0 & 0 &  0\\\\\n\t71 & NBA & Alec Burks       & UTA & PG & 31 &  798 & 137 &  334 &  32 &  79 & ⋯ &  18 &  51 &  4 &  71 & 0 &  412 & 0 & 0 & 0 &  3\\\\\n\t76 & NBA & Jose Calderon    & NYK & PG & 72 & 2021 & 209 &  455 &  84 & 203 & ⋯ &  63 &  87 &  7 & 135 & 1 &  544 & 2 & 0 & 0 & 72\\\\\n\t78 & NBA & Isaiah Canaan    & PHI & PG & 77 & 1968 & 260 &  722 & 176 & 484 & ⋯ &  56 &  91 & 12 & 133 & 0 &  846 & 1 & 0 & 0 & 39\\\\\n\t82 & NBA & Carter-williams  & MIL & PG & 54 & 1649 & 251 &  555 &  15 &  55 & ⋯ &  80 & 153 & 41 & 162 & 0 &  623 & 3 & 0 & 0 & 37\\\\\n\t85 & NBA & Mario Chalmers   & MEM & PG & 61 & 1378 & 182 &  444 &  46 & 149 & ⋯ &  88 & 111 & 13 & 181 & 0 &  628 & 5 & 0 & 0 &  7\\\\\n\t90 & NBA & Jordan Clarkson  & LAL & PG & 79 & 2556 & 475 & 1099 & 111 & 318 & ⋯ &  88 & 135 &  7 & 168 & 1 & 1225 & 0 & 0 & 0 & 79\\\\\n\t91 & NBA & Norris Cole      & NOR & PG & 45 & 1199 & 196 &  485 &  33 & 103 & ⋯ &  37 &  75 &  5 & 102 & 0 &  477 & 0 & 0 & 0 & 23\\\\\n\t92 & NBA & Darren Collison  & SAC & PG & 74 & 2216 & 377 &  776 &  87 & 217 & ⋯ &  76 & 129 &  4 & 142 & 0 & 1035 & 1 & 0 & 0 & 15\\\\\n\t94 & NBA & Mike Conley      & MEM & PG & 56 & 1754 & 294 &  696 &  78 & 215 & ⋯ &  67 &  84 & 16 & 100 & 0 &  857 & 0 & 0 & 0 & 56\\\\\n\t97 & NBA & Bryce Cotton     & MEM & PG &  8 &   41 &   4 &   10 &   0 &   3 & ⋯ &   3 &   5 &  0 &   2 & 0 &    8 & 0 & 0 & 0 &  0\\\\\n\t106 & NBA & Stephen Curry    & GSW & PG & 79 & 2705 & 805 & 1597 & 402 & 887 & ⋯ & 169 & 261 & 16 & 161 & 0 & 2375 & 1 & 0 & 0 & 79\\\\\n\t114 & NBA & Matt Dellavedova & CLE & PG & 76 & 1869 & 207 &  511 &  98 & 239 & ⋯ &  44 & 117 &  9 & 177 & 0 &  569 & 0 & 0 & 0 & 14\\\\\n\t119 & NBA & Spence Dinwiddie & DET & PG & 12 &  159 &  19 &   53 &   1 &  10 & ⋯ &   3 &   7 &  0 &  20 & 0 &   58 & 0 & 0 & 0 &  0\\\\\n\t120 & NBA & Toney Douglas    & NOR & PG & 61 & 1264 & 184 &  446 &  81 & 203 & ⋯ &  70 &  64 &  5 & 131 & 1 &  533 & 1 & 0 & 0 & 18\\\\\n\t131 & NBA & Monta Ellis      & IND & PG & 81 & 2733 & 436 & 1021 &  87 & 281 & ⋯ & 149 & 203 & 38 & 174 & 0 & 1121 & 1 & 0 & 0 & 81\\\\\n\t133 & NBA & Tyler Ennis      & MIL & PG & 46 &  657 &  84 &  187 &  13 &  39 & ⋯ &  25 &  46 &  1 &  64 & 0 &  206 & 0 & 0 & 0 &  7\\\\\n\t138 & NBA & Jordan Farmar    & MEM & PG & 12 &  291 &  42 &  100 &  16 &  45 & ⋯ &  15 &  18 &  2 &  22 & 0 &  110 & 0 & 0 & 0 & 10\\\\\n\t141 & NBA & Raymond Felton   & DAL & PG & 80 & 2190 & 277 &  682 &  60 & 213 & ⋯ &  68 & 121 & 15 & 141 & 0 &  763 & 3 & 0 & 0 & 31\\\\\n\t144 & NBA & Tim Frazier      & NOR & PG & 50 &  718 &  90 &  220 &  16 &  46 & ⋯ &  32 &  65 &  2 &  71 & 0 &  247 & 0 & 0 & 0 &  2\\\\\n\t⋮ & ⋮ & ⋮ & ⋮ & ⋮ & ⋮ & ⋮ & ⋮ & ⋮ & ⋮ & ⋮ & ⋱ & ⋮ & ⋮ & ⋮ & ⋮ & ⋮ & ⋮ & ⋮ & ⋮ & ⋮ & ⋮\\\\\n\t352 & NBA & Elfrid Payton    & ORL & PG & 73 & 2144 & 318 &  730 &  30 &  92 & ⋯ &  89 & 177 & 20 & 159 & 0 &  778 & 2 & 0 & 0 & 69\\\\\n\t365 & NBA & Ronnie Price     & PHO & PG & 62 & 1210 & 116 &  302 &  68 & 195 & ⋯ &  74 &  70 & 13 & 161 & 2 &  331 & 0 & 0 & 0 & 18\\\\\n\t366 & NBA & Pablo Prigioni   & LAC & PG & 59 &  816 &  55 &  147 &  28 &  95 & ⋯ &  53 &  49 &  1 &  82 & 0 &  145 & 0 & 0 & 0 &  3\\\\\n\t375 & NBA & Brian Roberts    & POR & PG & 51 &  474 &  74 &  165 &  15 &  42 & ⋯ &  10 &  23 &  2 &  35 & 0 &  205 & 0 & 0 & 0 &  0\\\\\n\t377 & NBA & Nate Robinson    & NOR & PG &  2 &   23 &   0 &    1 &   0 &   1 & ⋯ &   1 &   0 &  0 &   5 & 0 &    0 & 0 & 0 & 0 &  1\\\\\n\t379 & NBA & Rajon Rondo      & SAC & PG & 72 & 2537 & 355 &  782 &  62 & 170 & ⋯ & 142 & 279 & 10 & 175 & 1 &  859 & 3 & 0 & 0 & 72\\\\\n\t380 & NBA & Derrick Rose     & CHI & PG & 66 & 2095 & 447 & 1047 &  44 & 150 & ⋯ &  44 & 175 & 14 &  84 & 1 & 1080 & 4 & 0 & 0 & 66\\\\\n\t382 & NBA & Terry Rozier     & BOS & PG & 39 &  310 &  29 &  106 &   6 &  27 & ⋯ &   6 &  19 &  1 &  23 & 0 &   72 & 0 & 0 & 0 &  0\\\\\n\t383 & NBA & Ricky Rubio      & MIN & PG & 76 & 2322 & 219 &  586 &  62 & 190 & ⋯ & 162 & 194 & 10 & 201 & 1 &  766 & 0 & 0 & 0 & 76\\\\\n\t386 & NBA & D'angelo Russell & LAL & PG & 80 & 2257 & 392 &  955 & 130 & 367 & ⋯ &  93 & 196 & 13 & 142 & 0 & 1054 & 1 & 0 & 0 & 48\\\\\n\t389 & NBA & Dennis Schroder  & ATL & PG & 80 & 1614 & 329 &  782 &  77 & 239 & ⋯ &  71 & 184 &  9 & 138 & 0 &  879 & 0 & 0 & 0 &  6\\\\\n\t394 & NBA & Ramon Sessions   & WAS & PG & 82 & 1667 & 280 &  592 &  36 & 111 & ⋯ &  47 & 115 &  5 & 102 & 0 &  810 & 0 & 0 & 0 &  5\\\\\n\t399 & NBA & Donald Sloan     & BRO & PG & 61 & 1317 & 154 &  350 &  38 &  99 & ⋯ &  32 &  80 &  4 &  73 & 0 &  424 & 0 & 0 & 0 & 33\\\\\n\t400 & NBA & Marcus Smart     & BOS & PG & 61 & 1666 & 184 &  529 &  61 & 241 & ⋯ &  91 &  80 & 18 & 183 & 1 &  558 & 2 & 0 & 0 & 10\\\\\n\t402 & NBA & Ish Smith        & PHI & PG & 77 & 2240 & 397 &  967 &  56 & 170 & ⋯ &  88 & 175 & 24 & 133 & 0 &  972 & 0 & 0 & 0 & 53\\\\\n\t406 & NBA & Russ Smith       & MEM & PG & 15 &   65 &   7 &   22 &   1 &   5 & ⋯ &   5 &   7 &  1 &   5 & 0 &   23 & 0 & 0 & 0 &  0\\\\\n\t415 & NBA & Rodney Stuckey   & IND & PG & 58 & 1275 & 183 &  444 &  20 &  83 & ⋯ &  43 &  76 &  8 &  77 & 0 &  517 & 1 & 0 & 0 &  1\\\\\n\t418 & NBA & Jeff Teague      & ATL & PG & 79 & 2248 & 434 &  986 & 110 & 274 & ⋯ &  98 & 218 & 24 & 167 & 2 & 1239 & 0 & 0 & 0 & 78\\\\\n\t422 & NBA & Isaiah Thomas    & BOS & PG & 82 & 2647 & 591 & 1382 & 167 & 465 & ⋯ &  91 & 220 &  9 & 167 & 1 & 1823 & 9 & 0 & 0 & 79\\\\\n\t435 & NBA & Beno Udrih       & MIA & PG & 44 &  708 &  86 &  197 &  15 &  44 & ⋯ &  14 &  53 &  1 &  51 & 0 &  205 & 0 & 0 & 0 &  5\\\\\n\t438 & NBA & Greivis Vasquez  & MIL & PG & 23 &  461 &  44 &  137 &  17 &  72 & ⋯ &  10 &  40 &  0 &  42 & 0 &  127 & 0 & 0 & 0 &  0\\\\\n\t446 & NBA & Kemba Walker     & CHA & PG & 81 & 2885 & 568 & 1332 & 182 & 490 & ⋯ & 127 & 171 & 39 & 111 & 0 & 1689 & 5 & 0 & 0 & 81\\\\\n\t447 & NBA & John Wall        & WAS & PG & 77 & 2783 & 572 & 1349 & 115 & 327 & ⋯ & 145 & 318 & 59 & 159 & 0 & 1531 & 7 & 0 & 0 & 77\\\\\n\t449 & NBA & C.j. Watson      & ORL & PG & 33 &  655 &  47 &  137 &  14 &  48 & ⋯ &  19 &  25 &  5 &  49 & 0 &  142 & 0 & 0 & 0 &  2\\\\\n\t450 & NBA & Briante Weber    & MIA & PG &  7 &  170 &  14 &   39 &   0 &   5 & ⋯ &   9 &   9 &  3 &  12 & 0 &   31 & 0 & 0 & 0 &  4\\\\\n\t453 & NBA & Russel Westbrook & OKL & PG & 80 & 2749 & 656 & 1444 & 101 & 341 & ⋯ & 163 & 342 & 20 & 200 & 2 & 1878 & 6 & 0 & 0 & 80\\\\\n\t459 & NBA & Deron Williams   & DAL & PG & 65 & 2107 & 321 &  775 &  97 & 282 & ⋯ &  61 & 150 & 14 & 155 & 0 &  918 & 0 & 0 & 0 & 63\\\\\n\t464 & NBA & Mo Williams      & CLE & PG & 41 &  748 & 132 &  302 &  36 & 102 & ⋯ &  14 &  57 &  5 &  60 & 0 &  338 & 1 & 0 & 0 & 14\\\\\n\t469 & NBA & Delon Wright     & TOR & PG & 27 &  231 &  36 &   81 &   5 &  13 & ⋯ &   8 &  16 &  3 &   7 & 0 &  103 & 0 & 0 & 0 &  1\\\\\n\t472 & NBA & Joseph Young     & IND & PG & 41 &  384 &  62 &  170 &  10 &  46 & ⋯ &  15 &  33 &  0 &  30 & 0 &  154 & 0 & 0 & 0 &  0\\\\\n\\end{tabular}\n",
            "text/markdown": "\nA data.frame: 99 × 25\n\n| <!--/--> | League &lt;fct&gt; | Name &lt;chr&gt; | Team &lt;fct&gt; | Position &lt;fct&gt; | GamesPlayed &lt;int&gt; | TotalMinutesPlayed &lt;int&gt; | FieldGoalsMade &lt;int&gt; | FieldGoalsAttempted &lt;int&gt; | ThreesMade &lt;int&gt; | ThreesAttempted &lt;int&gt; | ⋯ ⋯ | Steals &lt;int&gt; | Turnovers &lt;int&gt; | Blocks &lt;int&gt; | PersonalFouls &lt;int&gt; | Disqualifications &lt;int&gt; | TotalPoints &lt;int&gt; | Technicals &lt;int&gt; | Ejections &lt;int&gt; | FlagrantFouls &lt;int&gt; | GamesStarted &lt;int&gt; |\n|---|---|---|---|---|---|---|---|---|---|---|---|---|---|---|---|---|---|---|---|---|---|\n| 23 | NBA | Keith Appling    | ORL | PG |  5 |   27 |   2 |    8 |   0 |   3 | ⋯ |   1 |   3 |  0 |   5 | 0 |    6 | 0 | 0 | 0 |  0 |\n| 28 | NBA | D.j. Augustin    | DEN | PG | 62 | 1182 | 148 |  350 |  68 | 169 | ⋯ |  38 |  84 |  4 |  85 | 0 |  467 | 0 | 0 | 0 |  0 |\n| 33 | NBA | J.j. Barea       | DAL | PG | 74 | 1666 | 317 |  710 | 100 | 259 | ⋯ |  26 | 113 |  2 | 110 | 0 |  808 | 3 | 0 | 0 | 16 |\n| 40 | NBA | Jerryd Bayless   | MIL | PG | 52 | 1506 | 185 |  437 | 101 | 230 | ⋯ |  47 |  73 | 12 | 111 | 0 |  541 | 1 | 0 | 0 | 18 |\n| 47 | NBA | Patrick Beverley | HOU | PG | 71 | 2038 | 258 |  594 | 124 | 310 | ⋯ |  94 |  91 | 26 | 234 | 1 |  700 | 5 | 0 | 0 | 62 |\n| 52 | NBA | Steve Blake      | DET | PG | 58 |  987 |  93 |  240 |  52 | 151 | ⋯ |  24 |  81 |  5 |  70 | 0 |  254 | 0 | 0 | 0 |  2 |\n| 53 | NBA | Eric Bledsoe     | PHO | PG | 31 | 1058 | 223 |  492 |  48 | 129 | ⋯ |  63 | 111 | 19 |  75 | 1 |  632 | 2 | 0 | 0 | 31 |\n| 60 | NBA | Avery Bradley    | BOS | PG | 76 | 2536 | 456 | 1018 | 147 | 406 | ⋯ | 117 | 109 | 19 | 164 | 2 | 1155 | 0 | 0 | 0 | 72 |\n| 63 | NBA | Aaron Brooks     | CHI | PG | 69 | 1111 | 188 |  470 |  66 | 185 | ⋯ |  30 |  82 | 10 | 132 | 0 |  491 | 1 | 0 | 0 |  0 |\n| 65 | NBA | Lorenzo Brown    | PHO | PG |  8 |   60 |   8 |   25 |   1 |   8 | ⋯ |   3 |   9 |  1 |   4 | 0 |   20 | 0 | 0 | 0 |  0 |\n| 70 | NBA | Trey Burke       | UTA | PG | 64 | 1362 | 262 |  634 |  88 | 256 | ⋯ |  35 |  80 |  6 |  86 | 0 |  679 | 0 | 0 | 0 |  0 |\n| 71 | NBA | Alec Burks       | UTA | PG | 31 |  798 | 137 |  334 |  32 |  79 | ⋯ |  18 |  51 |  4 |  71 | 0 |  412 | 0 | 0 | 0 |  3 |\n| 76 | NBA | Jose Calderon    | NYK | PG | 72 | 2021 | 209 |  455 |  84 | 203 | ⋯ |  63 |  87 |  7 | 135 | 1 |  544 | 2 | 0 | 0 | 72 |\n| 78 | NBA | Isaiah Canaan    | PHI | PG | 77 | 1968 | 260 |  722 | 176 | 484 | ⋯ |  56 |  91 | 12 | 133 | 0 |  846 | 1 | 0 | 0 | 39 |\n| 82 | NBA | Carter-williams  | MIL | PG | 54 | 1649 | 251 |  555 |  15 |  55 | ⋯ |  80 | 153 | 41 | 162 | 0 |  623 | 3 | 0 | 0 | 37 |\n| 85 | NBA | Mario Chalmers   | MEM | PG | 61 | 1378 | 182 |  444 |  46 | 149 | ⋯ |  88 | 111 | 13 | 181 | 0 |  628 | 5 | 0 | 0 |  7 |\n| 90 | NBA | Jordan Clarkson  | LAL | PG | 79 | 2556 | 475 | 1099 | 111 | 318 | ⋯ |  88 | 135 |  7 | 168 | 1 | 1225 | 0 | 0 | 0 | 79 |\n| 91 | NBA | Norris Cole      | NOR | PG | 45 | 1199 | 196 |  485 |  33 | 103 | ⋯ |  37 |  75 |  5 | 102 | 0 |  477 | 0 | 0 | 0 | 23 |\n| 92 | NBA | Darren Collison  | SAC | PG | 74 | 2216 | 377 |  776 |  87 | 217 | ⋯ |  76 | 129 |  4 | 142 | 0 | 1035 | 1 | 0 | 0 | 15 |\n| 94 | NBA | Mike Conley      | MEM | PG | 56 | 1754 | 294 |  696 |  78 | 215 | ⋯ |  67 |  84 | 16 | 100 | 0 |  857 | 0 | 0 | 0 | 56 |\n| 97 | NBA | Bryce Cotton     | MEM | PG |  8 |   41 |   4 |   10 |   0 |   3 | ⋯ |   3 |   5 |  0 |   2 | 0 |    8 | 0 | 0 | 0 |  0 |\n| 106 | NBA | Stephen Curry    | GSW | PG | 79 | 2705 | 805 | 1597 | 402 | 887 | ⋯ | 169 | 261 | 16 | 161 | 0 | 2375 | 1 | 0 | 0 | 79 |\n| 114 | NBA | Matt Dellavedova | CLE | PG | 76 | 1869 | 207 |  511 |  98 | 239 | ⋯ |  44 | 117 |  9 | 177 | 0 |  569 | 0 | 0 | 0 | 14 |\n| 119 | NBA | Spence Dinwiddie | DET | PG | 12 |  159 |  19 |   53 |   1 |  10 | ⋯ |   3 |   7 |  0 |  20 | 0 |   58 | 0 | 0 | 0 |  0 |\n| 120 | NBA | Toney Douglas    | NOR | PG | 61 | 1264 | 184 |  446 |  81 | 203 | ⋯ |  70 |  64 |  5 | 131 | 1 |  533 | 1 | 0 | 0 | 18 |\n| 131 | NBA | Monta Ellis      | IND | PG | 81 | 2733 | 436 | 1021 |  87 | 281 | ⋯ | 149 | 203 | 38 | 174 | 0 | 1121 | 1 | 0 | 0 | 81 |\n| 133 | NBA | Tyler Ennis      | MIL | PG | 46 |  657 |  84 |  187 |  13 |  39 | ⋯ |  25 |  46 |  1 |  64 | 0 |  206 | 0 | 0 | 0 |  7 |\n| 138 | NBA | Jordan Farmar    | MEM | PG | 12 |  291 |  42 |  100 |  16 |  45 | ⋯ |  15 |  18 |  2 |  22 | 0 |  110 | 0 | 0 | 0 | 10 |\n| 141 | NBA | Raymond Felton   | DAL | PG | 80 | 2190 | 277 |  682 |  60 | 213 | ⋯ |  68 | 121 | 15 | 141 | 0 |  763 | 3 | 0 | 0 | 31 |\n| 144 | NBA | Tim Frazier      | NOR | PG | 50 |  718 |  90 |  220 |  16 |  46 | ⋯ |  32 |  65 |  2 |  71 | 0 |  247 | 0 | 0 | 0 |  2 |\n| ⋮ | ⋮ | ⋮ | ⋮ | ⋮ | ⋮ | ⋮ | ⋮ | ⋮ | ⋮ | ⋮ | ⋱ | ⋮ | ⋮ | ⋮ | ⋮ | ⋮ | ⋮ | ⋮ | ⋮ | ⋮ | ⋮ |\n| 352 | NBA | Elfrid Payton    | ORL | PG | 73 | 2144 | 318 |  730 |  30 |  92 | ⋯ |  89 | 177 | 20 | 159 | 0 |  778 | 2 | 0 | 0 | 69 |\n| 365 | NBA | Ronnie Price     | PHO | PG | 62 | 1210 | 116 |  302 |  68 | 195 | ⋯ |  74 |  70 | 13 | 161 | 2 |  331 | 0 | 0 | 0 | 18 |\n| 366 | NBA | Pablo Prigioni   | LAC | PG | 59 |  816 |  55 |  147 |  28 |  95 | ⋯ |  53 |  49 |  1 |  82 | 0 |  145 | 0 | 0 | 0 |  3 |\n| 375 | NBA | Brian Roberts    | POR | PG | 51 |  474 |  74 |  165 |  15 |  42 | ⋯ |  10 |  23 |  2 |  35 | 0 |  205 | 0 | 0 | 0 |  0 |\n| 377 | NBA | Nate Robinson    | NOR | PG |  2 |   23 |   0 |    1 |   0 |   1 | ⋯ |   1 |   0 |  0 |   5 | 0 |    0 | 0 | 0 | 0 |  1 |\n| 379 | NBA | Rajon Rondo      | SAC | PG | 72 | 2537 | 355 |  782 |  62 | 170 | ⋯ | 142 | 279 | 10 | 175 | 1 |  859 | 3 | 0 | 0 | 72 |\n| 380 | NBA | Derrick Rose     | CHI | PG | 66 | 2095 | 447 | 1047 |  44 | 150 | ⋯ |  44 | 175 | 14 |  84 | 1 | 1080 | 4 | 0 | 0 | 66 |\n| 382 | NBA | Terry Rozier     | BOS | PG | 39 |  310 |  29 |  106 |   6 |  27 | ⋯ |   6 |  19 |  1 |  23 | 0 |   72 | 0 | 0 | 0 |  0 |\n| 383 | NBA | Ricky Rubio      | MIN | PG | 76 | 2322 | 219 |  586 |  62 | 190 | ⋯ | 162 | 194 | 10 | 201 | 1 |  766 | 0 | 0 | 0 | 76 |\n| 386 | NBA | D'angelo Russell | LAL | PG | 80 | 2257 | 392 |  955 | 130 | 367 | ⋯ |  93 | 196 | 13 | 142 | 0 | 1054 | 1 | 0 | 0 | 48 |\n| 389 | NBA | Dennis Schroder  | ATL | PG | 80 | 1614 | 329 |  782 |  77 | 239 | ⋯ |  71 | 184 |  9 | 138 | 0 |  879 | 0 | 0 | 0 |  6 |\n| 394 | NBA | Ramon Sessions   | WAS | PG | 82 | 1667 | 280 |  592 |  36 | 111 | ⋯ |  47 | 115 |  5 | 102 | 0 |  810 | 0 | 0 | 0 |  5 |\n| 399 | NBA | Donald Sloan     | BRO | PG | 61 | 1317 | 154 |  350 |  38 |  99 | ⋯ |  32 |  80 |  4 |  73 | 0 |  424 | 0 | 0 | 0 | 33 |\n| 400 | NBA | Marcus Smart     | BOS | PG | 61 | 1666 | 184 |  529 |  61 | 241 | ⋯ |  91 |  80 | 18 | 183 | 1 |  558 | 2 | 0 | 0 | 10 |\n| 402 | NBA | Ish Smith        | PHI | PG | 77 | 2240 | 397 |  967 |  56 | 170 | ⋯ |  88 | 175 | 24 | 133 | 0 |  972 | 0 | 0 | 0 | 53 |\n| 406 | NBA | Russ Smith       | MEM | PG | 15 |   65 |   7 |   22 |   1 |   5 | ⋯ |   5 |   7 |  1 |   5 | 0 |   23 | 0 | 0 | 0 |  0 |\n| 415 | NBA | Rodney Stuckey   | IND | PG | 58 | 1275 | 183 |  444 |  20 |  83 | ⋯ |  43 |  76 |  8 |  77 | 0 |  517 | 1 | 0 | 0 |  1 |\n| 418 | NBA | Jeff Teague      | ATL | PG | 79 | 2248 | 434 |  986 | 110 | 274 | ⋯ |  98 | 218 | 24 | 167 | 2 | 1239 | 0 | 0 | 0 | 78 |\n| 422 | NBA | Isaiah Thomas    | BOS | PG | 82 | 2647 | 591 | 1382 | 167 | 465 | ⋯ |  91 | 220 |  9 | 167 | 1 | 1823 | 9 | 0 | 0 | 79 |\n| 435 | NBA | Beno Udrih       | MIA | PG | 44 |  708 |  86 |  197 |  15 |  44 | ⋯ |  14 |  53 |  1 |  51 | 0 |  205 | 0 | 0 | 0 |  5 |\n| 438 | NBA | Greivis Vasquez  | MIL | PG | 23 |  461 |  44 |  137 |  17 |  72 | ⋯ |  10 |  40 |  0 |  42 | 0 |  127 | 0 | 0 | 0 |  0 |\n| 446 | NBA | Kemba Walker     | CHA | PG | 81 | 2885 | 568 | 1332 | 182 | 490 | ⋯ | 127 | 171 | 39 | 111 | 0 | 1689 | 5 | 0 | 0 | 81 |\n| 447 | NBA | John Wall        | WAS | PG | 77 | 2783 | 572 | 1349 | 115 | 327 | ⋯ | 145 | 318 | 59 | 159 | 0 | 1531 | 7 | 0 | 0 | 77 |\n| 449 | NBA | C.j. Watson      | ORL | PG | 33 |  655 |  47 |  137 |  14 |  48 | ⋯ |  19 |  25 |  5 |  49 | 0 |  142 | 0 | 0 | 0 |  2 |\n| 450 | NBA | Briante Weber    | MIA | PG |  7 |  170 |  14 |   39 |   0 |   5 | ⋯ |   9 |   9 |  3 |  12 | 0 |   31 | 0 | 0 | 0 |  4 |\n| 453 | NBA | Russel Westbrook | OKL | PG | 80 | 2749 | 656 | 1444 | 101 | 341 | ⋯ | 163 | 342 | 20 | 200 | 2 | 1878 | 6 | 0 | 0 | 80 |\n| 459 | NBA | Deron Williams   | DAL | PG | 65 | 2107 | 321 |  775 |  97 | 282 | ⋯ |  61 | 150 | 14 | 155 | 0 |  918 | 0 | 0 | 0 | 63 |\n| 464 | NBA | Mo Williams      | CLE | PG | 41 |  748 | 132 |  302 |  36 | 102 | ⋯ |  14 |  57 |  5 |  60 | 0 |  338 | 1 | 0 | 0 | 14 |\n| 469 | NBA | Delon Wright     | TOR | PG | 27 |  231 |  36 |   81 |   5 |  13 | ⋯ |   8 |  16 |  3 |   7 | 0 |  103 | 0 | 0 | 0 |  1 |\n| 472 | NBA | Joseph Young     | IND | PG | 41 |  384 |  62 |  170 |  10 |  46 | ⋯ |  15 |  33 |  0 |  30 | 0 |  154 | 0 | 0 | 0 |  0 |\n\n",
            "text/html": [
              "<table class=\"dataframe\">\n",
              "<caption>A data.frame: 99 × 25</caption>\n",
              "<thead>\n",
              "\t<tr><th></th><th scope=col>League</th><th scope=col>Name</th><th scope=col>Team</th><th scope=col>Position</th><th scope=col>GamesPlayed</th><th scope=col>TotalMinutesPlayed</th><th scope=col>FieldGoalsMade</th><th scope=col>FieldGoalsAttempted</th><th scope=col>ThreesMade</th><th scope=col>ThreesAttempted</th><th scope=col>⋯</th><th scope=col>Steals</th><th scope=col>Turnovers</th><th scope=col>Blocks</th><th scope=col>PersonalFouls</th><th scope=col>Disqualifications</th><th scope=col>TotalPoints</th><th scope=col>Technicals</th><th scope=col>Ejections</th><th scope=col>FlagrantFouls</th><th scope=col>GamesStarted</th></tr>\n",
              "\t<tr><th></th><th scope=col>&lt;fct&gt;</th><th scope=col>&lt;chr&gt;</th><th scope=col>&lt;fct&gt;</th><th scope=col>&lt;fct&gt;</th><th scope=col>&lt;int&gt;</th><th scope=col>&lt;int&gt;</th><th scope=col>&lt;int&gt;</th><th scope=col>&lt;int&gt;</th><th scope=col>&lt;int&gt;</th><th scope=col>&lt;int&gt;</th><th scope=col>⋯</th><th scope=col>&lt;int&gt;</th><th scope=col>&lt;int&gt;</th><th scope=col>&lt;int&gt;</th><th scope=col>&lt;int&gt;</th><th scope=col>&lt;int&gt;</th><th scope=col>&lt;int&gt;</th><th scope=col>&lt;int&gt;</th><th scope=col>&lt;int&gt;</th><th scope=col>&lt;int&gt;</th><th scope=col>&lt;int&gt;</th></tr>\n",
              "</thead>\n",
              "<tbody>\n",
              "\t<tr><th scope=row>23</th><td>NBA</td><td>Keith Appling   </td><td>ORL</td><td>PG</td><td> 5</td><td>  27</td><td>  2</td><td>   8</td><td>  0</td><td>  3</td><td>⋯</td><td>  1</td><td>  3</td><td> 0</td><td>  5</td><td>0</td><td>   6</td><td>0</td><td>0</td><td>0</td><td> 0</td></tr>\n",
              "\t<tr><th scope=row>28</th><td>NBA</td><td>D.j. Augustin   </td><td>DEN</td><td>PG</td><td>62</td><td>1182</td><td>148</td><td> 350</td><td> 68</td><td>169</td><td>⋯</td><td> 38</td><td> 84</td><td> 4</td><td> 85</td><td>0</td><td> 467</td><td>0</td><td>0</td><td>0</td><td> 0</td></tr>\n",
              "\t<tr><th scope=row>33</th><td>NBA</td><td>J.j. Barea      </td><td>DAL</td><td>PG</td><td>74</td><td>1666</td><td>317</td><td> 710</td><td>100</td><td>259</td><td>⋯</td><td> 26</td><td>113</td><td> 2</td><td>110</td><td>0</td><td> 808</td><td>3</td><td>0</td><td>0</td><td>16</td></tr>\n",
              "\t<tr><th scope=row>40</th><td>NBA</td><td>Jerryd Bayless  </td><td>MIL</td><td>PG</td><td>52</td><td>1506</td><td>185</td><td> 437</td><td>101</td><td>230</td><td>⋯</td><td> 47</td><td> 73</td><td>12</td><td>111</td><td>0</td><td> 541</td><td>1</td><td>0</td><td>0</td><td>18</td></tr>\n",
              "\t<tr><th scope=row>47</th><td>NBA</td><td>Patrick Beverley</td><td>HOU</td><td>PG</td><td>71</td><td>2038</td><td>258</td><td> 594</td><td>124</td><td>310</td><td>⋯</td><td> 94</td><td> 91</td><td>26</td><td>234</td><td>1</td><td> 700</td><td>5</td><td>0</td><td>0</td><td>62</td></tr>\n",
              "\t<tr><th scope=row>52</th><td>NBA</td><td>Steve Blake     </td><td>DET</td><td>PG</td><td>58</td><td> 987</td><td> 93</td><td> 240</td><td> 52</td><td>151</td><td>⋯</td><td> 24</td><td> 81</td><td> 5</td><td> 70</td><td>0</td><td> 254</td><td>0</td><td>0</td><td>0</td><td> 2</td></tr>\n",
              "\t<tr><th scope=row>53</th><td>NBA</td><td>Eric Bledsoe    </td><td>PHO</td><td>PG</td><td>31</td><td>1058</td><td>223</td><td> 492</td><td> 48</td><td>129</td><td>⋯</td><td> 63</td><td>111</td><td>19</td><td> 75</td><td>1</td><td> 632</td><td>2</td><td>0</td><td>0</td><td>31</td></tr>\n",
              "\t<tr><th scope=row>60</th><td>NBA</td><td>Avery Bradley   </td><td>BOS</td><td>PG</td><td>76</td><td>2536</td><td>456</td><td>1018</td><td>147</td><td>406</td><td>⋯</td><td>117</td><td>109</td><td>19</td><td>164</td><td>2</td><td>1155</td><td>0</td><td>0</td><td>0</td><td>72</td></tr>\n",
              "\t<tr><th scope=row>63</th><td>NBA</td><td>Aaron Brooks    </td><td>CHI</td><td>PG</td><td>69</td><td>1111</td><td>188</td><td> 470</td><td> 66</td><td>185</td><td>⋯</td><td> 30</td><td> 82</td><td>10</td><td>132</td><td>0</td><td> 491</td><td>1</td><td>0</td><td>0</td><td> 0</td></tr>\n",
              "\t<tr><th scope=row>65</th><td>NBA</td><td>Lorenzo Brown   </td><td>PHO</td><td>PG</td><td> 8</td><td>  60</td><td>  8</td><td>  25</td><td>  1</td><td>  8</td><td>⋯</td><td>  3</td><td>  9</td><td> 1</td><td>  4</td><td>0</td><td>  20</td><td>0</td><td>0</td><td>0</td><td> 0</td></tr>\n",
              "\t<tr><th scope=row>70</th><td>NBA</td><td>Trey Burke      </td><td>UTA</td><td>PG</td><td>64</td><td>1362</td><td>262</td><td> 634</td><td> 88</td><td>256</td><td>⋯</td><td> 35</td><td> 80</td><td> 6</td><td> 86</td><td>0</td><td> 679</td><td>0</td><td>0</td><td>0</td><td> 0</td></tr>\n",
              "\t<tr><th scope=row>71</th><td>NBA</td><td>Alec Burks      </td><td>UTA</td><td>PG</td><td>31</td><td> 798</td><td>137</td><td> 334</td><td> 32</td><td> 79</td><td>⋯</td><td> 18</td><td> 51</td><td> 4</td><td> 71</td><td>0</td><td> 412</td><td>0</td><td>0</td><td>0</td><td> 3</td></tr>\n",
              "\t<tr><th scope=row>76</th><td>NBA</td><td>Jose Calderon   </td><td>NYK</td><td>PG</td><td>72</td><td>2021</td><td>209</td><td> 455</td><td> 84</td><td>203</td><td>⋯</td><td> 63</td><td> 87</td><td> 7</td><td>135</td><td>1</td><td> 544</td><td>2</td><td>0</td><td>0</td><td>72</td></tr>\n",
              "\t<tr><th scope=row>78</th><td>NBA</td><td>Isaiah Canaan   </td><td>PHI</td><td>PG</td><td>77</td><td>1968</td><td>260</td><td> 722</td><td>176</td><td>484</td><td>⋯</td><td> 56</td><td> 91</td><td>12</td><td>133</td><td>0</td><td> 846</td><td>1</td><td>0</td><td>0</td><td>39</td></tr>\n",
              "\t<tr><th scope=row>82</th><td>NBA</td><td>Carter-williams </td><td>MIL</td><td>PG</td><td>54</td><td>1649</td><td>251</td><td> 555</td><td> 15</td><td> 55</td><td>⋯</td><td> 80</td><td>153</td><td>41</td><td>162</td><td>0</td><td> 623</td><td>3</td><td>0</td><td>0</td><td>37</td></tr>\n",
              "\t<tr><th scope=row>85</th><td>NBA</td><td>Mario Chalmers  </td><td>MEM</td><td>PG</td><td>61</td><td>1378</td><td>182</td><td> 444</td><td> 46</td><td>149</td><td>⋯</td><td> 88</td><td>111</td><td>13</td><td>181</td><td>0</td><td> 628</td><td>5</td><td>0</td><td>0</td><td> 7</td></tr>\n",
              "\t<tr><th scope=row>90</th><td>NBA</td><td>Jordan Clarkson </td><td>LAL</td><td>PG</td><td>79</td><td>2556</td><td>475</td><td>1099</td><td>111</td><td>318</td><td>⋯</td><td> 88</td><td>135</td><td> 7</td><td>168</td><td>1</td><td>1225</td><td>0</td><td>0</td><td>0</td><td>79</td></tr>\n",
              "\t<tr><th scope=row>91</th><td>NBA</td><td>Norris Cole     </td><td>NOR</td><td>PG</td><td>45</td><td>1199</td><td>196</td><td> 485</td><td> 33</td><td>103</td><td>⋯</td><td> 37</td><td> 75</td><td> 5</td><td>102</td><td>0</td><td> 477</td><td>0</td><td>0</td><td>0</td><td>23</td></tr>\n",
              "\t<tr><th scope=row>92</th><td>NBA</td><td>Darren Collison </td><td>SAC</td><td>PG</td><td>74</td><td>2216</td><td>377</td><td> 776</td><td> 87</td><td>217</td><td>⋯</td><td> 76</td><td>129</td><td> 4</td><td>142</td><td>0</td><td>1035</td><td>1</td><td>0</td><td>0</td><td>15</td></tr>\n",
              "\t<tr><th scope=row>94</th><td>NBA</td><td>Mike Conley     </td><td>MEM</td><td>PG</td><td>56</td><td>1754</td><td>294</td><td> 696</td><td> 78</td><td>215</td><td>⋯</td><td> 67</td><td> 84</td><td>16</td><td>100</td><td>0</td><td> 857</td><td>0</td><td>0</td><td>0</td><td>56</td></tr>\n",
              "\t<tr><th scope=row>97</th><td>NBA</td><td>Bryce Cotton    </td><td>MEM</td><td>PG</td><td> 8</td><td>  41</td><td>  4</td><td>  10</td><td>  0</td><td>  3</td><td>⋯</td><td>  3</td><td>  5</td><td> 0</td><td>  2</td><td>0</td><td>   8</td><td>0</td><td>0</td><td>0</td><td> 0</td></tr>\n",
              "\t<tr><th scope=row>106</th><td>NBA</td><td>Stephen Curry   </td><td>GSW</td><td>PG</td><td>79</td><td>2705</td><td>805</td><td>1597</td><td>402</td><td>887</td><td>⋯</td><td>169</td><td>261</td><td>16</td><td>161</td><td>0</td><td>2375</td><td>1</td><td>0</td><td>0</td><td>79</td></tr>\n",
              "\t<tr><th scope=row>114</th><td>NBA</td><td>Matt Dellavedova</td><td>CLE</td><td>PG</td><td>76</td><td>1869</td><td>207</td><td> 511</td><td> 98</td><td>239</td><td>⋯</td><td> 44</td><td>117</td><td> 9</td><td>177</td><td>0</td><td> 569</td><td>0</td><td>0</td><td>0</td><td>14</td></tr>\n",
              "\t<tr><th scope=row>119</th><td>NBA</td><td>Spence Dinwiddie</td><td>DET</td><td>PG</td><td>12</td><td> 159</td><td> 19</td><td>  53</td><td>  1</td><td> 10</td><td>⋯</td><td>  3</td><td>  7</td><td> 0</td><td> 20</td><td>0</td><td>  58</td><td>0</td><td>0</td><td>0</td><td> 0</td></tr>\n",
              "\t<tr><th scope=row>120</th><td>NBA</td><td>Toney Douglas   </td><td>NOR</td><td>PG</td><td>61</td><td>1264</td><td>184</td><td> 446</td><td> 81</td><td>203</td><td>⋯</td><td> 70</td><td> 64</td><td> 5</td><td>131</td><td>1</td><td> 533</td><td>1</td><td>0</td><td>0</td><td>18</td></tr>\n",
              "\t<tr><th scope=row>131</th><td>NBA</td><td>Monta Ellis     </td><td>IND</td><td>PG</td><td>81</td><td>2733</td><td>436</td><td>1021</td><td> 87</td><td>281</td><td>⋯</td><td>149</td><td>203</td><td>38</td><td>174</td><td>0</td><td>1121</td><td>1</td><td>0</td><td>0</td><td>81</td></tr>\n",
              "\t<tr><th scope=row>133</th><td>NBA</td><td>Tyler Ennis     </td><td>MIL</td><td>PG</td><td>46</td><td> 657</td><td> 84</td><td> 187</td><td> 13</td><td> 39</td><td>⋯</td><td> 25</td><td> 46</td><td> 1</td><td> 64</td><td>0</td><td> 206</td><td>0</td><td>0</td><td>0</td><td> 7</td></tr>\n",
              "\t<tr><th scope=row>138</th><td>NBA</td><td>Jordan Farmar   </td><td>MEM</td><td>PG</td><td>12</td><td> 291</td><td> 42</td><td> 100</td><td> 16</td><td> 45</td><td>⋯</td><td> 15</td><td> 18</td><td> 2</td><td> 22</td><td>0</td><td> 110</td><td>0</td><td>0</td><td>0</td><td>10</td></tr>\n",
              "\t<tr><th scope=row>141</th><td>NBA</td><td>Raymond Felton  </td><td>DAL</td><td>PG</td><td>80</td><td>2190</td><td>277</td><td> 682</td><td> 60</td><td>213</td><td>⋯</td><td> 68</td><td>121</td><td>15</td><td>141</td><td>0</td><td> 763</td><td>3</td><td>0</td><td>0</td><td>31</td></tr>\n",
              "\t<tr><th scope=row>144</th><td>NBA</td><td>Tim Frazier     </td><td>NOR</td><td>PG</td><td>50</td><td> 718</td><td> 90</td><td> 220</td><td> 16</td><td> 46</td><td>⋯</td><td> 32</td><td> 65</td><td> 2</td><td> 71</td><td>0</td><td> 247</td><td>0</td><td>0</td><td>0</td><td> 2</td></tr>\n",
              "\t<tr><th scope=row>⋮</th><td>⋮</td><td>⋮</td><td>⋮</td><td>⋮</td><td>⋮</td><td>⋮</td><td>⋮</td><td>⋮</td><td>⋮</td><td>⋮</td><td>⋱</td><td>⋮</td><td>⋮</td><td>⋮</td><td>⋮</td><td>⋮</td><td>⋮</td><td>⋮</td><td>⋮</td><td>⋮</td><td>⋮</td></tr>\n",
              "\t<tr><th scope=row>352</th><td>NBA</td><td>Elfrid Payton   </td><td>ORL</td><td>PG</td><td>73</td><td>2144</td><td>318</td><td> 730</td><td> 30</td><td> 92</td><td>⋯</td><td> 89</td><td>177</td><td>20</td><td>159</td><td>0</td><td> 778</td><td>2</td><td>0</td><td>0</td><td>69</td></tr>\n",
              "\t<tr><th scope=row>365</th><td>NBA</td><td>Ronnie Price    </td><td>PHO</td><td>PG</td><td>62</td><td>1210</td><td>116</td><td> 302</td><td> 68</td><td>195</td><td>⋯</td><td> 74</td><td> 70</td><td>13</td><td>161</td><td>2</td><td> 331</td><td>0</td><td>0</td><td>0</td><td>18</td></tr>\n",
              "\t<tr><th scope=row>366</th><td>NBA</td><td>Pablo Prigioni  </td><td>LAC</td><td>PG</td><td>59</td><td> 816</td><td> 55</td><td> 147</td><td> 28</td><td> 95</td><td>⋯</td><td> 53</td><td> 49</td><td> 1</td><td> 82</td><td>0</td><td> 145</td><td>0</td><td>0</td><td>0</td><td> 3</td></tr>\n",
              "\t<tr><th scope=row>375</th><td>NBA</td><td>Brian Roberts   </td><td>POR</td><td>PG</td><td>51</td><td> 474</td><td> 74</td><td> 165</td><td> 15</td><td> 42</td><td>⋯</td><td> 10</td><td> 23</td><td> 2</td><td> 35</td><td>0</td><td> 205</td><td>0</td><td>0</td><td>0</td><td> 0</td></tr>\n",
              "\t<tr><th scope=row>377</th><td>NBA</td><td>Nate Robinson   </td><td>NOR</td><td>PG</td><td> 2</td><td>  23</td><td>  0</td><td>   1</td><td>  0</td><td>  1</td><td>⋯</td><td>  1</td><td>  0</td><td> 0</td><td>  5</td><td>0</td><td>   0</td><td>0</td><td>0</td><td>0</td><td> 1</td></tr>\n",
              "\t<tr><th scope=row>379</th><td>NBA</td><td>Rajon Rondo     </td><td>SAC</td><td>PG</td><td>72</td><td>2537</td><td>355</td><td> 782</td><td> 62</td><td>170</td><td>⋯</td><td>142</td><td>279</td><td>10</td><td>175</td><td>1</td><td> 859</td><td>3</td><td>0</td><td>0</td><td>72</td></tr>\n",
              "\t<tr><th scope=row>380</th><td>NBA</td><td>Derrick Rose    </td><td>CHI</td><td>PG</td><td>66</td><td>2095</td><td>447</td><td>1047</td><td> 44</td><td>150</td><td>⋯</td><td> 44</td><td>175</td><td>14</td><td> 84</td><td>1</td><td>1080</td><td>4</td><td>0</td><td>0</td><td>66</td></tr>\n",
              "\t<tr><th scope=row>382</th><td>NBA</td><td>Terry Rozier    </td><td>BOS</td><td>PG</td><td>39</td><td> 310</td><td> 29</td><td> 106</td><td>  6</td><td> 27</td><td>⋯</td><td>  6</td><td> 19</td><td> 1</td><td> 23</td><td>0</td><td>  72</td><td>0</td><td>0</td><td>0</td><td> 0</td></tr>\n",
              "\t<tr><th scope=row>383</th><td>NBA</td><td>Ricky Rubio     </td><td>MIN</td><td>PG</td><td>76</td><td>2322</td><td>219</td><td> 586</td><td> 62</td><td>190</td><td>⋯</td><td>162</td><td>194</td><td>10</td><td>201</td><td>1</td><td> 766</td><td>0</td><td>0</td><td>0</td><td>76</td></tr>\n",
              "\t<tr><th scope=row>386</th><td>NBA</td><td>D'angelo Russell</td><td>LAL</td><td>PG</td><td>80</td><td>2257</td><td>392</td><td> 955</td><td>130</td><td>367</td><td>⋯</td><td> 93</td><td>196</td><td>13</td><td>142</td><td>0</td><td>1054</td><td>1</td><td>0</td><td>0</td><td>48</td></tr>\n",
              "\t<tr><th scope=row>389</th><td>NBA</td><td>Dennis Schroder </td><td>ATL</td><td>PG</td><td>80</td><td>1614</td><td>329</td><td> 782</td><td> 77</td><td>239</td><td>⋯</td><td> 71</td><td>184</td><td> 9</td><td>138</td><td>0</td><td> 879</td><td>0</td><td>0</td><td>0</td><td> 6</td></tr>\n",
              "\t<tr><th scope=row>394</th><td>NBA</td><td>Ramon Sessions  </td><td>WAS</td><td>PG</td><td>82</td><td>1667</td><td>280</td><td> 592</td><td> 36</td><td>111</td><td>⋯</td><td> 47</td><td>115</td><td> 5</td><td>102</td><td>0</td><td> 810</td><td>0</td><td>0</td><td>0</td><td> 5</td></tr>\n",
              "\t<tr><th scope=row>399</th><td>NBA</td><td>Donald Sloan    </td><td>BRO</td><td>PG</td><td>61</td><td>1317</td><td>154</td><td> 350</td><td> 38</td><td> 99</td><td>⋯</td><td> 32</td><td> 80</td><td> 4</td><td> 73</td><td>0</td><td> 424</td><td>0</td><td>0</td><td>0</td><td>33</td></tr>\n",
              "\t<tr><th scope=row>400</th><td>NBA</td><td>Marcus Smart    </td><td>BOS</td><td>PG</td><td>61</td><td>1666</td><td>184</td><td> 529</td><td> 61</td><td>241</td><td>⋯</td><td> 91</td><td> 80</td><td>18</td><td>183</td><td>1</td><td> 558</td><td>2</td><td>0</td><td>0</td><td>10</td></tr>\n",
              "\t<tr><th scope=row>402</th><td>NBA</td><td>Ish Smith       </td><td>PHI</td><td>PG</td><td>77</td><td>2240</td><td>397</td><td> 967</td><td> 56</td><td>170</td><td>⋯</td><td> 88</td><td>175</td><td>24</td><td>133</td><td>0</td><td> 972</td><td>0</td><td>0</td><td>0</td><td>53</td></tr>\n",
              "\t<tr><th scope=row>406</th><td>NBA</td><td>Russ Smith      </td><td>MEM</td><td>PG</td><td>15</td><td>  65</td><td>  7</td><td>  22</td><td>  1</td><td>  5</td><td>⋯</td><td>  5</td><td>  7</td><td> 1</td><td>  5</td><td>0</td><td>  23</td><td>0</td><td>0</td><td>0</td><td> 0</td></tr>\n",
              "\t<tr><th scope=row>415</th><td>NBA</td><td>Rodney Stuckey  </td><td>IND</td><td>PG</td><td>58</td><td>1275</td><td>183</td><td> 444</td><td> 20</td><td> 83</td><td>⋯</td><td> 43</td><td> 76</td><td> 8</td><td> 77</td><td>0</td><td> 517</td><td>1</td><td>0</td><td>0</td><td> 1</td></tr>\n",
              "\t<tr><th scope=row>418</th><td>NBA</td><td>Jeff Teague     </td><td>ATL</td><td>PG</td><td>79</td><td>2248</td><td>434</td><td> 986</td><td>110</td><td>274</td><td>⋯</td><td> 98</td><td>218</td><td>24</td><td>167</td><td>2</td><td>1239</td><td>0</td><td>0</td><td>0</td><td>78</td></tr>\n",
              "\t<tr><th scope=row>422</th><td>NBA</td><td>Isaiah Thomas   </td><td>BOS</td><td>PG</td><td>82</td><td>2647</td><td>591</td><td>1382</td><td>167</td><td>465</td><td>⋯</td><td> 91</td><td>220</td><td> 9</td><td>167</td><td>1</td><td>1823</td><td>9</td><td>0</td><td>0</td><td>79</td></tr>\n",
              "\t<tr><th scope=row>435</th><td>NBA</td><td>Beno Udrih      </td><td>MIA</td><td>PG</td><td>44</td><td> 708</td><td> 86</td><td> 197</td><td> 15</td><td> 44</td><td>⋯</td><td> 14</td><td> 53</td><td> 1</td><td> 51</td><td>0</td><td> 205</td><td>0</td><td>0</td><td>0</td><td> 5</td></tr>\n",
              "\t<tr><th scope=row>438</th><td>NBA</td><td>Greivis Vasquez </td><td>MIL</td><td>PG</td><td>23</td><td> 461</td><td> 44</td><td> 137</td><td> 17</td><td> 72</td><td>⋯</td><td> 10</td><td> 40</td><td> 0</td><td> 42</td><td>0</td><td> 127</td><td>0</td><td>0</td><td>0</td><td> 0</td></tr>\n",
              "\t<tr><th scope=row>446</th><td>NBA</td><td>Kemba Walker    </td><td>CHA</td><td>PG</td><td>81</td><td>2885</td><td>568</td><td>1332</td><td>182</td><td>490</td><td>⋯</td><td>127</td><td>171</td><td>39</td><td>111</td><td>0</td><td>1689</td><td>5</td><td>0</td><td>0</td><td>81</td></tr>\n",
              "\t<tr><th scope=row>447</th><td>NBA</td><td>John Wall       </td><td>WAS</td><td>PG</td><td>77</td><td>2783</td><td>572</td><td>1349</td><td>115</td><td>327</td><td>⋯</td><td>145</td><td>318</td><td>59</td><td>159</td><td>0</td><td>1531</td><td>7</td><td>0</td><td>0</td><td>77</td></tr>\n",
              "\t<tr><th scope=row>449</th><td>NBA</td><td>C.j. Watson     </td><td>ORL</td><td>PG</td><td>33</td><td> 655</td><td> 47</td><td> 137</td><td> 14</td><td> 48</td><td>⋯</td><td> 19</td><td> 25</td><td> 5</td><td> 49</td><td>0</td><td> 142</td><td>0</td><td>0</td><td>0</td><td> 2</td></tr>\n",
              "\t<tr><th scope=row>450</th><td>NBA</td><td>Briante Weber   </td><td>MIA</td><td>PG</td><td> 7</td><td> 170</td><td> 14</td><td>  39</td><td>  0</td><td>  5</td><td>⋯</td><td>  9</td><td>  9</td><td> 3</td><td> 12</td><td>0</td><td>  31</td><td>0</td><td>0</td><td>0</td><td> 4</td></tr>\n",
              "\t<tr><th scope=row>453</th><td>NBA</td><td>Russel Westbrook</td><td>OKL</td><td>PG</td><td>80</td><td>2749</td><td>656</td><td>1444</td><td>101</td><td>341</td><td>⋯</td><td>163</td><td>342</td><td>20</td><td>200</td><td>2</td><td>1878</td><td>6</td><td>0</td><td>0</td><td>80</td></tr>\n",
              "\t<tr><th scope=row>459</th><td>NBA</td><td>Deron Williams  </td><td>DAL</td><td>PG</td><td>65</td><td>2107</td><td>321</td><td> 775</td><td> 97</td><td>282</td><td>⋯</td><td> 61</td><td>150</td><td>14</td><td>155</td><td>0</td><td> 918</td><td>0</td><td>0</td><td>0</td><td>63</td></tr>\n",
              "\t<tr><th scope=row>464</th><td>NBA</td><td>Mo Williams     </td><td>CLE</td><td>PG</td><td>41</td><td> 748</td><td>132</td><td> 302</td><td> 36</td><td>102</td><td>⋯</td><td> 14</td><td> 57</td><td> 5</td><td> 60</td><td>0</td><td> 338</td><td>1</td><td>0</td><td>0</td><td>14</td></tr>\n",
              "\t<tr><th scope=row>469</th><td>NBA</td><td>Delon Wright    </td><td>TOR</td><td>PG</td><td>27</td><td> 231</td><td> 36</td><td>  81</td><td>  5</td><td> 13</td><td>⋯</td><td>  8</td><td> 16</td><td> 3</td><td>  7</td><td>0</td><td> 103</td><td>0</td><td>0</td><td>0</td><td> 1</td></tr>\n",
              "\t<tr><th scope=row>472</th><td>NBA</td><td>Joseph Young    </td><td>IND</td><td>PG</td><td>41</td><td> 384</td><td> 62</td><td> 170</td><td> 10</td><td> 46</td><td>⋯</td><td> 15</td><td> 33</td><td> 0</td><td> 30</td><td>0</td><td> 154</td><td>0</td><td>0</td><td>0</td><td> 0</td></tr>\n",
              "</tbody>\n",
              "</table>\n"
            ]
          },
          "metadata": {
            "tags": []
          }
        }
      ]
    },
    {
      "cell_type": "code",
      "metadata": {
        "colab": {
          "base_uri": "https://localhost:8080/",
          "height": 213
        },
        "id": "wKbO4rU_UUU9",
        "outputId": "95b40fec-0bd0-459a-877f-de41a61cdd9f"
      },
      "source": [
        "NBA1516[grepl(\"Curry\",NBA1516$Name),]"
      ],
      "execution_count": null,
      "outputs": [
        {
          "output_type": "display_data",
          "data": {
            "text/plain": [
              "    League Name          Team Position GamesPlayed TotalMinutesPlayed\n",
              "105 NBA    Seth Curry    SAC  SG       44           694              \n",
              "106 NBA    Stephen Curry GSW  PG       79          2705              \n",
              "    FieldGoalsMade FieldGoalsAttempted ThreesMade ThreesAttempted ⋯ Steals\n",
              "105 102             224                 50        111             ⋯  22   \n",
              "106 805            1597                402        887             ⋯ 169   \n",
              "    Turnovers Blocks PersonalFouls Disqualifications TotalPoints Technicals\n",
              "105  36        3      41           0                  299        0         \n",
              "106 261       16     161           0                 2375        1         \n",
              "    Ejections FlagrantFouls GamesStarted\n",
              "105 0         0              9          \n",
              "106 0         0             79          "
            ],
            "text/latex": "A data.frame: 2 × 25\n\\begin{tabular}{r|lllllllllllllllllllll}\n  & League & Name & Team & Position & GamesPlayed & TotalMinutesPlayed & FieldGoalsMade & FieldGoalsAttempted & ThreesMade & ThreesAttempted & ⋯ & Steals & Turnovers & Blocks & PersonalFouls & Disqualifications & TotalPoints & Technicals & Ejections & FlagrantFouls & GamesStarted\\\\\n  & <fct> & <chr> & <fct> & <fct> & <int> & <int> & <int> & <int> & <int> & <int> & ⋯ & <int> & <int> & <int> & <int> & <int> & <int> & <int> & <int> & <int> & <int>\\\\\n\\hline\n\t105 & NBA & Seth Curry    & SAC & SG & 44 &  694 & 102 &  224 &  50 & 111 & ⋯ &  22 &  36 &  3 &  41 & 0 &  299 & 0 & 0 & 0 &  9\\\\\n\t106 & NBA & Stephen Curry & GSW & PG & 79 & 2705 & 805 & 1597 & 402 & 887 & ⋯ & 169 & 261 & 16 & 161 & 0 & 2375 & 1 & 0 & 0 & 79\\\\\n\\end{tabular}\n",
            "text/markdown": "\nA data.frame: 2 × 25\n\n| <!--/--> | League &lt;fct&gt; | Name &lt;chr&gt; | Team &lt;fct&gt; | Position &lt;fct&gt; | GamesPlayed &lt;int&gt; | TotalMinutesPlayed &lt;int&gt; | FieldGoalsMade &lt;int&gt; | FieldGoalsAttempted &lt;int&gt; | ThreesMade &lt;int&gt; | ThreesAttempted &lt;int&gt; | ⋯ ⋯ | Steals &lt;int&gt; | Turnovers &lt;int&gt; | Blocks &lt;int&gt; | PersonalFouls &lt;int&gt; | Disqualifications &lt;int&gt; | TotalPoints &lt;int&gt; | Technicals &lt;int&gt; | Ejections &lt;int&gt; | FlagrantFouls &lt;int&gt; | GamesStarted &lt;int&gt; |\n|---|---|---|---|---|---|---|---|---|---|---|---|---|---|---|---|---|---|---|---|---|---|\n| 105 | NBA | Seth Curry    | SAC | SG | 44 |  694 | 102 |  224 |  50 | 111 | ⋯ |  22 |  36 |  3 |  41 | 0 |  299 | 0 | 0 | 0 |  9 |\n| 106 | NBA | Stephen Curry | GSW | PG | 79 | 2705 | 805 | 1597 | 402 | 887 | ⋯ | 169 | 261 | 16 | 161 | 0 | 2375 | 1 | 0 | 0 | 79 |\n\n",
            "text/html": [
              "<table class=\"dataframe\">\n",
              "<caption>A data.frame: 2 × 25</caption>\n",
              "<thead>\n",
              "\t<tr><th></th><th scope=col>League</th><th scope=col>Name</th><th scope=col>Team</th><th scope=col>Position</th><th scope=col>GamesPlayed</th><th scope=col>TotalMinutesPlayed</th><th scope=col>FieldGoalsMade</th><th scope=col>FieldGoalsAttempted</th><th scope=col>ThreesMade</th><th scope=col>ThreesAttempted</th><th scope=col>⋯</th><th scope=col>Steals</th><th scope=col>Turnovers</th><th scope=col>Blocks</th><th scope=col>PersonalFouls</th><th scope=col>Disqualifications</th><th scope=col>TotalPoints</th><th scope=col>Technicals</th><th scope=col>Ejections</th><th scope=col>FlagrantFouls</th><th scope=col>GamesStarted</th></tr>\n",
              "\t<tr><th></th><th scope=col>&lt;fct&gt;</th><th scope=col>&lt;chr&gt;</th><th scope=col>&lt;fct&gt;</th><th scope=col>&lt;fct&gt;</th><th scope=col>&lt;int&gt;</th><th scope=col>&lt;int&gt;</th><th scope=col>&lt;int&gt;</th><th scope=col>&lt;int&gt;</th><th scope=col>&lt;int&gt;</th><th scope=col>&lt;int&gt;</th><th scope=col>⋯</th><th scope=col>&lt;int&gt;</th><th scope=col>&lt;int&gt;</th><th scope=col>&lt;int&gt;</th><th scope=col>&lt;int&gt;</th><th scope=col>&lt;int&gt;</th><th scope=col>&lt;int&gt;</th><th scope=col>&lt;int&gt;</th><th scope=col>&lt;int&gt;</th><th scope=col>&lt;int&gt;</th><th scope=col>&lt;int&gt;</th></tr>\n",
              "</thead>\n",
              "<tbody>\n",
              "\t<tr><th scope=row>105</th><td>NBA</td><td>Seth Curry   </td><td>SAC</td><td>SG</td><td>44</td><td> 694</td><td>102</td><td> 224</td><td> 50</td><td>111</td><td>⋯</td><td> 22</td><td> 36</td><td> 3</td><td> 41</td><td>0</td><td> 299</td><td>0</td><td>0</td><td>0</td><td> 9</td></tr>\n",
              "\t<tr><th scope=row>106</th><td>NBA</td><td>Stephen Curry</td><td>GSW</td><td>PG</td><td>79</td><td>2705</td><td>805</td><td>1597</td><td>402</td><td>887</td><td>⋯</td><td>169</td><td>261</td><td>16</td><td>161</td><td>0</td><td>2375</td><td>1</td><td>0</td><td>0</td><td>79</td></tr>\n",
              "</tbody>\n",
              "</table>\n"
            ]
          },
          "metadata": {
            "tags": []
          }
        }
      ]
    }
  ]
}