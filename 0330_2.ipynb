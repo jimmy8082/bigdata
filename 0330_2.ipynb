{
  "nbformat": 4,
  "nbformat_minor": 0,
  "metadata": {
    "colab": {
      "name": "0330-2.ipynb",
      "provenance": [],
      "collapsed_sections": [],
      "include_colab_link": true
    },
    "kernelspec": {
      "name": "ir",
      "display_name": "R"
    }
  },
  "cells": [
    {
      "cell_type": "markdown",
      "metadata": {
        "id": "view-in-github",
        "colab_type": "text"
      },
      "source": [
        "<a href=\"https://colab.research.google.com/github/jimmy8082/bigdata/blob/main/0330_2.ipynb\" target=\"_parent\"><img src=\"https://colab.research.google.com/assets/colab-badge.svg\" alt=\"Open In Colab\"/></a>"
      ]
    },
    {
      "cell_type": "code",
      "metadata": {
        "colab": {
          "base_uri": "https://localhost:8080/"
        },
        "id": "hg6YNF5gLqOz",
        "outputId": "dfee17f5-0c67-4141-b84f-f45d314b0235"
      },
      "source": [
        "install.packages(\"rJava\")"
      ],
      "execution_count": 1,
      "outputs": [
        {
          "output_type": "stream",
          "text": [
            "Installing package into ‘/usr/local/lib/R/site-library’\n",
            "(as ‘lib’ is unspecified)\n",
            "\n"
          ],
          "name": "stderr"
        }
      ]
    },
    {
      "cell_type": "code",
      "metadata": {
        "colab": {
          "base_uri": "https://localhost:8080/"
        },
        "id": "u2p2Q8pqM5V6",
        "outputId": "2161feef-7bbd-4a2f-e2ea-5f3845f9a9d3"
      },
      "source": [
        "install.packages(\"jiebaR\")"
      ],
      "execution_count": 2,
      "outputs": [
        {
          "output_type": "stream",
          "text": [
            "Installing package into ‘/usr/local/lib/R/site-library’\n",
            "(as ‘lib’ is unspecified)\n",
            "\n",
            "also installing the dependency ‘jiebaRD’\n",
            "\n",
            "\n"
          ],
          "name": "stderr"
        }
      ]
    },
    {
      "cell_type": "code",
      "metadata": {
        "colab": {
          "base_uri": "https://localhost:8080/"
        },
        "id": "E1Ywk6OHNB_J",
        "outputId": "dafe5cc1-26ab-43eb-960f-b3157e60201f"
      },
      "source": [
        "install.packages(\"tmcn\")"
      ],
      "execution_count": 3,
      "outputs": [
        {
          "output_type": "stream",
          "text": [
            "Installing package into ‘/usr/local/lib/R/site-library’\n",
            "(as ‘lib’ is unspecified)\n",
            "\n"
          ],
          "name": "stderr"
        }
      ]
    },
    {
      "cell_type": "code",
      "metadata": {
        "colab": {
          "base_uri": "https://localhost:8080/"
        },
        "id": "Vd0swT95NFGB",
        "outputId": "3b4383b6-d698-4c35-cddb-e83e0be30cb7"
      },
      "source": [
        "install.packages(\"dplyr\")"
      ],
      "execution_count": 4,
      "outputs": [
        {
          "output_type": "stream",
          "text": [
            "Installing package into ‘/usr/local/lib/R/site-library’\n",
            "(as ‘lib’ is unspecified)\n",
            "\n"
          ],
          "name": "stderr"
        }
      ]
    },
    {
      "cell_type": "code",
      "metadata": {
        "colab": {
          "base_uri": "https://localhost:8080/"
        },
        "id": "LcXu8DcRNHI5",
        "outputId": "73c179a4-cd23-4f9f-d8c1-2ee999c71249"
      },
      "source": [
        "install.packages(\"lubridate\")"
      ],
      "execution_count": 5,
      "outputs": [
        {
          "output_type": "stream",
          "text": [
            "Installing package into ‘/usr/local/lib/R/site-library’\n",
            "(as ‘lib’ is unspecified)\n",
            "\n"
          ],
          "name": "stderr"
        }
      ]
    },
    {
      "cell_type": "code",
      "metadata": {
        "colab": {
          "base_uri": "https://localhost:8080/"
        },
        "id": "JI0YNIbeNPuB",
        "outputId": "e7985eb4-bbad-4c6d-9f2e-ae2acfa78bea"
      },
      "source": [
        "install.packages(\"stringr\")"
      ],
      "execution_count": 6,
      "outputs": [
        {
          "output_type": "stream",
          "text": [
            "Installing package into ‘/usr/local/lib/R/site-library’\n",
            "(as ‘lib’ is unspecified)\n",
            "\n"
          ],
          "name": "stderr"
        }
      ]
    },
    {
      "cell_type": "code",
      "metadata": {
        "colab": {
          "base_uri": "https://localhost:8080/"
        },
        "id": "g9aVXM8PNSvB",
        "outputId": "76e69af9-bec4-4fd6-d601-2e94f20740b9"
      },
      "source": [
        "install.packages(\"wordcloud\")"
      ],
      "execution_count": 7,
      "outputs": [
        {
          "output_type": "stream",
          "text": [
            "Installing package into ‘/usr/local/lib/R/site-library’\n",
            "(as ‘lib’ is unspecified)\n",
            "\n"
          ],
          "name": "stderr"
        }
      ]
    },
    {
      "cell_type": "code",
      "metadata": {
        "colab": {
          "base_uri": "https://localhost:8080/"
        },
        "id": "5rrOw8WdNXyh",
        "outputId": "f16e4d8a-a787-4db5-95aa-219ff0516da9"
      },
      "source": [
        "install.packages(\"Rwordseg\", repos=\"http://R-Forgr.R-project.org\")"
      ],
      "execution_count": 8,
      "outputs": [
        {
          "output_type": "stream",
          "text": [
            "Installing package into ‘/usr/local/lib/R/site-library’\n",
            "(as ‘lib’ is unspecified)\n",
            "\n",
            "Warning message:\n",
            "“unable to access index for repository http://R-Forgr.R-project.org/src/contrib:\n",
            "  cannot open URL 'http://R-Forgr.R-project.org/src/contrib/PACKAGES'”\n",
            "Warning message:\n",
            "“package ‘Rwordseg’ is not available for this version of R\n",
            "\n",
            "A version of this package for your version of R might be available elsewhere,\n",
            "see the ideas at\n",
            "https://cran.r-project.org/doc/manuals/r-patched/R-admin.html#Installing-packages”\n"
          ],
          "name": "stderr"
        }
      ]
    },
    {
      "cell_type": "code",
      "metadata": {
        "colab": {
          "base_uri": "https://localhost:8080/"
        },
        "id": "7fLjcmE9NvTZ",
        "outputId": "949e746d-b074-4981-cf9c-5c62cf66cfed"
      },
      "source": [
        "library(dplyr)"
      ],
      "execution_count": 9,
      "outputs": [
        {
          "output_type": "stream",
          "text": [
            "\n",
            "Attaching package: ‘dplyr’\n",
            "\n",
            "\n",
            "The following objects are masked from ‘package:stats’:\n",
            "\n",
            "    filter, lag\n",
            "\n",
            "\n",
            "The following objects are masked from ‘package:base’:\n",
            "\n",
            "    intersect, setdiff, setequal, union\n",
            "\n",
            "\n"
          ],
          "name": "stderr"
        }
      ]
    },
    {
      "cell_type": "code",
      "metadata": {
        "colab": {
          "base_uri": "https://localhost:8080/"
        },
        "id": "AEvK1Pw4N4wB",
        "outputId": "782f2968-5fd0-46c9-90d9-cdb56981cfdc"
      },
      "source": [
        "library(lubridate)"
      ],
      "execution_count": 10,
      "outputs": [
        {
          "output_type": "stream",
          "text": [
            "Warning message in system(\"timedatectl\", intern = TRUE):\n",
            "“running command 'timedatectl' had status 1”\n",
            "\n",
            "Attaching package: ‘lubridate’\n",
            "\n",
            "\n",
            "The following objects are masked from ‘package:base’:\n",
            "\n",
            "    date, intersect, setdiff, union\n",
            "\n",
            "\n"
          ],
          "name": "stderr"
        }
      ]
    },
    {
      "cell_type": "code",
      "metadata": {
        "id": "yU7KTGPfN-ch"
      },
      "source": [
        "library(stringr)"
      ],
      "execution_count": 11,
      "outputs": []
    },
    {
      "cell_type": "code",
      "metadata": {
        "colab": {
          "base_uri": "https://localhost:8080/"
        },
        "id": "_FyWNKFNOBhx",
        "outputId": "323564a5-5bca-4ad7-aed1-3ee2b5310ebc"
      },
      "source": [
        "library(jiebaR)"
      ],
      "execution_count": 12,
      "outputs": [
        {
          "output_type": "stream",
          "text": [
            "Loading required package: jiebaRD\n",
            "\n"
          ],
          "name": "stderr"
        }
      ]
    },
    {
      "cell_type": "code",
      "metadata": {
        "colab": {
          "base_uri": "https://localhost:8080/"
        },
        "id": "u51rb_XCOEBh",
        "outputId": "7762fb11-ee37-42c6-94bc-811b2208524c"
      },
      "source": [
        "library(wordcloud)"
      ],
      "execution_count": 13,
      "outputs": [
        {
          "output_type": "stream",
          "text": [
            "Loading required package: RColorBrewer\n",
            "\n"
          ],
          "name": "stderr"
        }
      ]
    },
    {
      "cell_type": "code",
      "metadata": {
        "id": "aDAdZp-tOM4P"
      },
      "source": [
        "content<-\"基隆市孝三路商圈集結基隆在地特色庶民小吃，每到用餐時間汽、機車停車格一位難求，加上使用率高，路面凹凸不平，經民進黨市議員童子瑋爭取，市府表示會在8月底前進行全線重新刨鋪，並重新劃設機車停車格，統一車格大小，預計完成後可增加約30個機車格。\n",
        "童子瑋今天邀請市府工務處、交通處、區公所及相關單位辦理會勘，童子瑋指出，孝三路是老商圈，各行各業店頭林立，是地方創生及城市博覽會的重要場域，市民通行使用率極高，卻長達10年沒有刨鋪，部分路面破損嚴重，地方也反映恐危害市民朋友用路安全；而周邊汽機車停車格規劃不夠周延，少數騎士違規停車造成出入巷道不便，他也曾在總質詢時向市府提出改善方案。\n",
        "會勘完後童子瑋表示，很感謝市府的用心，工務處將在今年8月底前進行全線刨鋪，待路面完工後，交通處會重新劃設機車停車格，因為目前的機車格大小不一，將依規定重新調整、劃設，讓民眾可以妥適停車，完工後現有285個機車停車格將增加到314個，帶來更便利的用路環境。\n",
        "另外，在地商家多次反映卸貨停車格數量不足的問題，市府重新規劃後將增加1格卸貨停車格。而孝三路上的路邊收費亭久未使用，壓縮車道空間，也影響用路人行車視線，也會趁此次工程一併拆除。\""
      ],
      "execution_count": 60,
      "outputs": []
    },
    {
      "cell_type": "code",
      "metadata": {
        "id": "smESZKFyOWY3"
      },
      "source": [
        "cutter<-worker(bylines=F)"
      ],
      "execution_count": 61,
      "outputs": []
    },
    {
      "cell_type": "code",
      "metadata": {
        "colab": {
          "base_uri": "https://localhost:8080/",
          "height": 255
        },
        "id": "d79lc9w5OegZ",
        "outputId": "e4b8919c-91ba-4a7b-98f2-b3640876be2d"
      },
      "source": [
        "cutter[content]"
      ],
      "execution_count": 62,
      "outputs": [
        {
          "output_type": "display_data",
          "data": {
            "text/plain": [
              "  [1] \"基隆市\"   \"孝\"       \"三路\"     \"商圈\"     \"集結\"     \"基隆\"    \n",
              "  [7] \"在\"       \"地\"       \"特色\"     \"庶民\"     \"小吃\"     \"每到\"    \n",
              " [13] \"用餐\"     \"時間\"     \"汽\"       \"機車\"     \"停車\"     \"格\"      \n",
              " [19] \"一位\"     \"難求\"     \"加上\"     \"使用率\"   \"高\"       \"路面\"    \n",
              " [25] \"凹凸不平\" \"經\"       \"民進黨\"   \"市議員\"   \"童子\"     \"瑋\"      \n",
              " [31] \"爭取\"     \"市府\"     \"表示\"     \"會\"       \"在\"       \"8\"       \n",
              " [37] \"月底\"     \"前\"       \"進行\"     \"全線\"     \"重新\"     \"刨\"      \n",
              " [43] \"鋪\"       \"並\"       \"重新\"     \"劃設\"     \"機車\"     \"停車\"    \n",
              " [49] \"格\"       \"統一\"     \"車格\"     \"大小\"     \"預計\"     \"完成\"    \n",
              " [55] \"後\"       \"可\"       \"增加\"     \"約\"       \"30\"       \"個\"      \n",
              " [61] \"機車\"     \"格\"       \"童子\"     \"瑋\"       \"今天\"     \"邀請\"    \n",
              " [67] \"市府\"     \"工務\"     \"處\"       \"交通\"     \"處\"       \"區公所\"  \n",
              " [73] \"及\"       \"相關\"     \"單位\"     \"辦理\"     \"會\"       \"勘\"      \n",
              " [79] \"童子\"     \"瑋\"       \"指出\"     \"孝\"       \"三路\"     \"是\"      \n",
              " [85] \"老\"       \"商圈\"     \"各行各業\" \"店頭\"     \"林立\"     \"是\"      \n",
              " [91] \"地方\"     \"創生\"     \"及\"       \"城市\"     \"博覽會\"   \"的\"      \n",
              " [97] \"重要\"     \"場域\"     \"市民\"     \"通行\"     \"使用率\"   \"極高\"    \n",
              "[103] \"卻\"       \"長達\"     \"10\"       \"年\"       \"沒有\"     \"刨\"      \n",
              "[109] \"鋪\"       \"部分\"     \"路面\"     \"破損\"     \"嚴重\"     \"地方\"    \n",
              "[115] \"也\"       \"反映\"     \"恐\"       \"危害\"     \"市民\"     \"朋友\"    \n",
              "[121] \"用路\"     \"安全\"     \"而\"       \"周邊\"     \"汽機\"     \"車\"      \n",
              "[127] \"停車\"     \"格\"       \"規劃\"     \"不夠\"     \"周延\"     \"少數\"    \n",
              "[133] \"騎士\"     \"違規\"     \"停車\"     \"造成\"     \"出入\"     \"巷道\"    \n",
              "[139] \"不便\"     \"他\"       \"也\"       \"曾\"       \"在\"       \"總\"      \n",
              "[145] \"質詢\"     \"時向\"     \"市府\"     \"提出\"     \"改善\"     \"方案\"    \n",
              "[151] \"會\"       \"勘\"       \"完\"       \"後\"       \"童子\"     \"瑋\"      \n",
              "[157] \"表示\"     \"很\"       \"感謝\"     \"市府\"     \"的\"       \"用心\"    \n",
              "[163] \"工務\"     \"處將\"     \"在\"       \"今年\"     \"8\"        \"月底\"    \n",
              "[169] \"前\"       \"進行\"     \"全線\"     \"刨\"       \"鋪\"       \"待\"      \n",
              "[175] \"路面\"     \"完工後\"   \"交通\"     \"處會\"     \"重新\"     \"劃設\"    \n",
              "[181] \"機車\"     \"停車\"     \"格\"       \"因為\"     \"目前\"     \"的\"      \n",
              "[187] \"機車\"     \"格\"       \"大小不一\" \"將依\"     \"規定\"     \"重新\"    \n",
              "[193] \"調整\"     \"劃設\"     \"讓民眾\"   \"可以\"     \"妥適\"     \"停車\"    \n",
              "[199] \"完工後\"   \"現有\"     \"285\"      \"個\"       \"機車\"     \"停車\"    \n",
              "[205] \"格將\"     \"增加\"     \"到\"       \"314\"      \"個\"       \"帶來\"    \n",
              "[211] \"更\"       \"便利\"     \"的\"       \"用路\"     \"環境\"     \"另外\"    \n",
              "[217] \"在\"       \"地\"       \"商家\"     \"多次\"     \"反映\"     \"卸貨\"    \n",
              "[223] \"停車\"     \"格\"       \"數量\"     \"不足\"     \"的\"       \"問題\"    \n",
              "[229] \"市府\"     \"重新\"     \"規劃\"     \"後將\"     \"增加\"     \"1\"       \n",
              "[235] \"格\"       \"卸貨\"     \"停車\"     \"格\"       \"而\"       \"孝\"      \n",
              "[241] \"三路\"     \"上\"       \"的\"       \"路邊\"     \"收費\"     \"亭\"      \n",
              "[247] \"久\"       \"未\"       \"使用\"     \"壓縮\"     \"車道\"     \"空間\"    \n",
              "[253] \"也\"       \"影響\"     \"用\"       \"路人\"     \"行車\"     \"視線\"    \n",
              "[259] \"也\"       \"會\"       \"趁\"       \"此次\"     \"工程\"     \"一併\"    \n",
              "[265] \"拆除\"    "
            ],
            "text/latex": "\\begin{enumerate*}\n\\item '基隆市'\n\\item '孝'\n\\item '三路'\n\\item '商圈'\n\\item '集結'\n\\item '基隆'\n\\item '在'\n\\item '地'\n\\item '特色'\n\\item '庶民'\n\\item '小吃'\n\\item '每到'\n\\item '用餐'\n\\item '時間'\n\\item '汽'\n\\item '機車'\n\\item '停車'\n\\item '格'\n\\item '一位'\n\\item '難求'\n\\item '加上'\n\\item '使用率'\n\\item '高'\n\\item '路面'\n\\item '凹凸不平'\n\\item '經'\n\\item '民進黨'\n\\item '市議員'\n\\item '童子'\n\\item '瑋'\n\\item '爭取'\n\\item '市府'\n\\item '表示'\n\\item '會'\n\\item '在'\n\\item '8'\n\\item '月底'\n\\item '前'\n\\item '進行'\n\\item '全線'\n\\item '重新'\n\\item '刨'\n\\item '鋪'\n\\item '並'\n\\item '重新'\n\\item '劃設'\n\\item '機車'\n\\item '停車'\n\\item '格'\n\\item '統一'\n\\item '車格'\n\\item '大小'\n\\item '預計'\n\\item '完成'\n\\item '後'\n\\item '可'\n\\item '增加'\n\\item '約'\n\\item '30'\n\\item '個'\n\\item '機車'\n\\item '格'\n\\item '童子'\n\\item '瑋'\n\\item '今天'\n\\item '邀請'\n\\item '市府'\n\\item '工務'\n\\item '處'\n\\item '交通'\n\\item '處'\n\\item '區公所'\n\\item '及'\n\\item '相關'\n\\item '單位'\n\\item '辦理'\n\\item '會'\n\\item '勘'\n\\item '童子'\n\\item '瑋'\n\\item '指出'\n\\item '孝'\n\\item '三路'\n\\item '是'\n\\item '老'\n\\item '商圈'\n\\item '各行各業'\n\\item '店頭'\n\\item '林立'\n\\item '是'\n\\item '地方'\n\\item '創生'\n\\item '及'\n\\item '城市'\n\\item '博覽會'\n\\item '的'\n\\item '重要'\n\\item '場域'\n\\item '市民'\n\\item '通行'\n\\item '使用率'\n\\item '極高'\n\\item '卻'\n\\item '長達'\n\\item '10'\n\\item '年'\n\\item '沒有'\n\\item '刨'\n\\item '鋪'\n\\item '部分'\n\\item '路面'\n\\item '破損'\n\\item '嚴重'\n\\item '地方'\n\\item '也'\n\\item '反映'\n\\item '恐'\n\\item '危害'\n\\item '市民'\n\\item '朋友'\n\\item '用路'\n\\item '安全'\n\\item '而'\n\\item '周邊'\n\\item '汽機'\n\\item '車'\n\\item '停車'\n\\item '格'\n\\item '規劃'\n\\item '不夠'\n\\item '周延'\n\\item '少數'\n\\item '騎士'\n\\item '違規'\n\\item '停車'\n\\item '造成'\n\\item '出入'\n\\item '巷道'\n\\item '不便'\n\\item '他'\n\\item '也'\n\\item '曾'\n\\item '在'\n\\item '總'\n\\item '質詢'\n\\item '時向'\n\\item '市府'\n\\item '提出'\n\\item '改善'\n\\item '方案'\n\\item '會'\n\\item '勘'\n\\item '完'\n\\item '後'\n\\item '童子'\n\\item '瑋'\n\\item '表示'\n\\item '很'\n\\item '感謝'\n\\item '市府'\n\\item '的'\n\\item '用心'\n\\item '工務'\n\\item '處將'\n\\item '在'\n\\item '今年'\n\\item '8'\n\\item '月底'\n\\item '前'\n\\item '進行'\n\\item '全線'\n\\item '刨'\n\\item '鋪'\n\\item '待'\n\\item '路面'\n\\item '完工後'\n\\item '交通'\n\\item '處會'\n\\item '重新'\n\\item '劃設'\n\\item '機車'\n\\item '停車'\n\\item '格'\n\\item '因為'\n\\item '目前'\n\\item '的'\n\\item '機車'\n\\item '格'\n\\item '大小不一'\n\\item '將依'\n\\item '規定'\n\\item '重新'\n\\item '調整'\n\\item '劃設'\n\\item '讓民眾'\n\\item '可以'\n\\item '妥適'\n\\item '停車'\n\\item '完工後'\n\\item '現有'\n\\item '285'\n\\item '個'\n\\item '機車'\n\\item '停車'\n\\item '格將'\n\\item '增加'\n\\item '到'\n\\item '314'\n\\item '個'\n\\item '帶來'\n\\item '更'\n\\item '便利'\n\\item '的'\n\\item '用路'\n\\item '環境'\n\\item '另外'\n\\item '在'\n\\item '地'\n\\item '商家'\n\\item '多次'\n\\item '反映'\n\\item '卸貨'\n\\item '停車'\n\\item '格'\n\\item '數量'\n\\item '不足'\n\\item '的'\n\\item '問題'\n\\item '市府'\n\\item '重新'\n\\item '規劃'\n\\item '後將'\n\\item '增加'\n\\item '1'\n\\item '格'\n\\item '卸貨'\n\\item '停車'\n\\item '格'\n\\item '而'\n\\item '孝'\n\\item '三路'\n\\item '上'\n\\item '的'\n\\item '路邊'\n\\item '收費'\n\\item '亭'\n\\item '久'\n\\item '未'\n\\item '使用'\n\\item '壓縮'\n\\item '車道'\n\\item '空間'\n\\item '也'\n\\item '影響'\n\\item '用'\n\\item '路人'\n\\item '行車'\n\\item '視線'\n\\item '也'\n\\item '會'\n\\item '趁'\n\\item '此次'\n\\item '工程'\n\\item '一併'\n\\item '拆除'\n\\end{enumerate*}\n",
            "text/markdown": "1. '基隆市'\n2. '孝'\n3. '三路'\n4. '商圈'\n5. '集結'\n6. '基隆'\n7. '在'\n8. '地'\n9. '特色'\n10. '庶民'\n11. '小吃'\n12. '每到'\n13. '用餐'\n14. '時間'\n15. '汽'\n16. '機車'\n17. '停車'\n18. '格'\n19. '一位'\n20. '難求'\n21. '加上'\n22. '使用率'\n23. '高'\n24. '路面'\n25. '凹凸不平'\n26. '經'\n27. '民進黨'\n28. '市議員'\n29. '童子'\n30. '瑋'\n31. '爭取'\n32. '市府'\n33. '表示'\n34. '會'\n35. '在'\n36. '8'\n37. '月底'\n38. '前'\n39. '進行'\n40. '全線'\n41. '重新'\n42. '刨'\n43. '鋪'\n44. '並'\n45. '重新'\n46. '劃設'\n47. '機車'\n48. '停車'\n49. '格'\n50. '統一'\n51. '車格'\n52. '大小'\n53. '預計'\n54. '完成'\n55. '後'\n56. '可'\n57. '增加'\n58. '約'\n59. '30'\n60. '個'\n61. '機車'\n62. '格'\n63. '童子'\n64. '瑋'\n65. '今天'\n66. '邀請'\n67. '市府'\n68. '工務'\n69. '處'\n70. '交通'\n71. '處'\n72. '區公所'\n73. '及'\n74. '相關'\n75. '單位'\n76. '辦理'\n77. '會'\n78. '勘'\n79. '童子'\n80. '瑋'\n81. '指出'\n82. '孝'\n83. '三路'\n84. '是'\n85. '老'\n86. '商圈'\n87. '各行各業'\n88. '店頭'\n89. '林立'\n90. '是'\n91. '地方'\n92. '創生'\n93. '及'\n94. '城市'\n95. '博覽會'\n96. '的'\n97. '重要'\n98. '場域'\n99. '市民'\n100. '通行'\n101. '使用率'\n102. '極高'\n103. '卻'\n104. '長達'\n105. '10'\n106. '年'\n107. '沒有'\n108. '刨'\n109. '鋪'\n110. '部分'\n111. '路面'\n112. '破損'\n113. '嚴重'\n114. '地方'\n115. '也'\n116. '反映'\n117. '恐'\n118. '危害'\n119. '市民'\n120. '朋友'\n121. '用路'\n122. '安全'\n123. '而'\n124. '周邊'\n125. '汽機'\n126. '車'\n127. '停車'\n128. '格'\n129. '規劃'\n130. '不夠'\n131. '周延'\n132. '少數'\n133. '騎士'\n134. '違規'\n135. '停車'\n136. '造成'\n137. '出入'\n138. '巷道'\n139. '不便'\n140. '他'\n141. '也'\n142. '曾'\n143. '在'\n144. '總'\n145. '質詢'\n146. '時向'\n147. '市府'\n148. '提出'\n149. '改善'\n150. '方案'\n151. '會'\n152. '勘'\n153. '完'\n154. '後'\n155. '童子'\n156. '瑋'\n157. '表示'\n158. '很'\n159. '感謝'\n160. '市府'\n161. '的'\n162. '用心'\n163. '工務'\n164. '處將'\n165. '在'\n166. '今年'\n167. '8'\n168. '月底'\n169. '前'\n170. '進行'\n171. '全線'\n172. '刨'\n173. '鋪'\n174. '待'\n175. '路面'\n176. '完工後'\n177. '交通'\n178. '處會'\n179. '重新'\n180. '劃設'\n181. '機車'\n182. '停車'\n183. '格'\n184. '因為'\n185. '目前'\n186. '的'\n187. '機車'\n188. '格'\n189. '大小不一'\n190. '將依'\n191. '規定'\n192. '重新'\n193. '調整'\n194. '劃設'\n195. '讓民眾'\n196. '可以'\n197. '妥適'\n198. '停車'\n199. '完工後'\n200. '現有'\n201. '285'\n202. '個'\n203. '機車'\n204. '停車'\n205. '格將'\n206. '增加'\n207. '到'\n208. '314'\n209. '個'\n210. '帶來'\n211. '更'\n212. '便利'\n213. '的'\n214. '用路'\n215. '環境'\n216. '另外'\n217. '在'\n218. '地'\n219. '商家'\n220. '多次'\n221. '反映'\n222. '卸貨'\n223. '停車'\n224. '格'\n225. '數量'\n226. '不足'\n227. '的'\n228. '問題'\n229. '市府'\n230. '重新'\n231. '規劃'\n232. '後將'\n233. '增加'\n234. '1'\n235. '格'\n236. '卸貨'\n237. '停車'\n238. '格'\n239. '而'\n240. '孝'\n241. '三路'\n242. '上'\n243. '的'\n244. '路邊'\n245. '收費'\n246. '亭'\n247. '久'\n248. '未'\n249. '使用'\n250. '壓縮'\n251. '車道'\n252. '空間'\n253. '也'\n254. '影響'\n255. '用'\n256. '路人'\n257. '行車'\n258. '視線'\n259. '也'\n260. '會'\n261. '趁'\n262. '此次'\n263. '工程'\n264. '一併'\n265. '拆除'\n\n\n",
            "text/html": [
              "<style>\n",
              ".list-inline {list-style: none; margin:0; padding: 0}\n",
              ".list-inline>li {display: inline-block}\n",
              ".list-inline>li:not(:last-child)::after {content: \"\\00b7\"; padding: 0 .5ex}\n",
              "</style>\n",
              "<ol class=list-inline><li>'基隆市'</li><li>'孝'</li><li>'三路'</li><li>'商圈'</li><li>'集結'</li><li>'基隆'</li><li>'在'</li><li>'地'</li><li>'特色'</li><li>'庶民'</li><li>'小吃'</li><li>'每到'</li><li>'用餐'</li><li>'時間'</li><li>'汽'</li><li>'機車'</li><li>'停車'</li><li>'格'</li><li>'一位'</li><li>'難求'</li><li>'加上'</li><li>'使用率'</li><li>'高'</li><li>'路面'</li><li>'凹凸不平'</li><li>'經'</li><li>'民進黨'</li><li>'市議員'</li><li>'童子'</li><li>'瑋'</li><li>'爭取'</li><li>'市府'</li><li>'表示'</li><li>'會'</li><li>'在'</li><li>'8'</li><li>'月底'</li><li>'前'</li><li>'進行'</li><li>'全線'</li><li>'重新'</li><li>'刨'</li><li>'鋪'</li><li>'並'</li><li>'重新'</li><li>'劃設'</li><li>'機車'</li><li>'停車'</li><li>'格'</li><li>'統一'</li><li>'車格'</li><li>'大小'</li><li>'預計'</li><li>'完成'</li><li>'後'</li><li>'可'</li><li>'增加'</li><li>'約'</li><li>'30'</li><li>'個'</li><li>'機車'</li><li>'格'</li><li>'童子'</li><li>'瑋'</li><li>'今天'</li><li>'邀請'</li><li>'市府'</li><li>'工務'</li><li>'處'</li><li>'交通'</li><li>'處'</li><li>'區公所'</li><li>'及'</li><li>'相關'</li><li>'單位'</li><li>'辦理'</li><li>'會'</li><li>'勘'</li><li>'童子'</li><li>'瑋'</li><li>'指出'</li><li>'孝'</li><li>'三路'</li><li>'是'</li><li>'老'</li><li>'商圈'</li><li>'各行各業'</li><li>'店頭'</li><li>'林立'</li><li>'是'</li><li>'地方'</li><li>'創生'</li><li>'及'</li><li>'城市'</li><li>'博覽會'</li><li>'的'</li><li>'重要'</li><li>'場域'</li><li>'市民'</li><li>'通行'</li><li>'使用率'</li><li>'極高'</li><li>'卻'</li><li>'長達'</li><li>'10'</li><li>'年'</li><li>'沒有'</li><li>'刨'</li><li>'鋪'</li><li>'部分'</li><li>'路面'</li><li>'破損'</li><li>'嚴重'</li><li>'地方'</li><li>'也'</li><li>'反映'</li><li>'恐'</li><li>'危害'</li><li>'市民'</li><li>'朋友'</li><li>'用路'</li><li>'安全'</li><li>'而'</li><li>'周邊'</li><li>'汽機'</li><li>'車'</li><li>'停車'</li><li>'格'</li><li>'規劃'</li><li>'不夠'</li><li>'周延'</li><li>'少數'</li><li>'騎士'</li><li>'違規'</li><li>'停車'</li><li>'造成'</li><li>'出入'</li><li>'巷道'</li><li>'不便'</li><li>'他'</li><li>'也'</li><li>'曾'</li><li>'在'</li><li>'總'</li><li>'質詢'</li><li>'時向'</li><li>'市府'</li><li>'提出'</li><li>'改善'</li><li>'方案'</li><li>'會'</li><li>'勘'</li><li>'完'</li><li>'後'</li><li>'童子'</li><li>'瑋'</li><li>'表示'</li><li>'很'</li><li>'感謝'</li><li>'市府'</li><li>'的'</li><li>'用心'</li><li>'工務'</li><li>'處將'</li><li>'在'</li><li>'今年'</li><li>'8'</li><li>'月底'</li><li>'前'</li><li>'進行'</li><li>'全線'</li><li>'刨'</li><li>'鋪'</li><li>'待'</li><li>'路面'</li><li>'完工後'</li><li>'交通'</li><li>'處會'</li><li>'重新'</li><li>'劃設'</li><li>'機車'</li><li>'停車'</li><li>'格'</li><li>'因為'</li><li>'目前'</li><li>'的'</li><li>'機車'</li><li>'格'</li><li>'大小不一'</li><li>'將依'</li><li>'規定'</li><li>'重新'</li><li>'調整'</li><li>'劃設'</li><li>'讓民眾'</li><li>'可以'</li><li>'妥適'</li><li>'停車'</li><li>'完工後'</li><li>'現有'</li><li>'285'</li><li>'個'</li><li>'機車'</li><li>'停車'</li><li>'格將'</li><li>'增加'</li><li>'到'</li><li>'314'</li><li>'個'</li><li>'帶來'</li><li>'更'</li><li>'便利'</li><li>'的'</li><li>'用路'</li><li>'環境'</li><li>'另外'</li><li>'在'</li><li>'地'</li><li>'商家'</li><li>'多次'</li><li>'反映'</li><li>'卸貨'</li><li>'停車'</li><li>'格'</li><li>'數量'</li><li>'不足'</li><li>'的'</li><li>'問題'</li><li>'市府'</li><li>'重新'</li><li>'規劃'</li><li>'後將'</li><li>'增加'</li><li>'1'</li><li>'格'</li><li>'卸貨'</li><li>'停車'</li><li>'格'</li><li>'而'</li><li>'孝'</li><li>'三路'</li><li>'上'</li><li>'的'</li><li>'路邊'</li><li>'收費'</li><li>'亭'</li><li>'久'</li><li>'未'</li><li>'使用'</li><li>'壓縮'</li><li>'車道'</li><li>'空間'</li><li>'也'</li><li>'影響'</li><li>'用'</li><li>'路人'</li><li>'行車'</li><li>'視線'</li><li>'也'</li><li>'會'</li><li>'趁'</li><li>'此次'</li><li>'工程'</li><li>'一併'</li><li>'拆除'</li></ol>\n"
            ]
          },
          "metadata": {
            "tags": []
          }
        }
      ]
    },
    {
      "cell_type": "code",
      "metadata": {
        "id": "S1qdVO_IOn6g"
      },
      "source": [
        "new_words<-c(\"基隆\",\"機車\",\"停車\",\"市議員\",\"市民\",\"童子瑋\")\n",
        "for (i in 1:length(new_words)){\n",
        "  new_user_word(cutter, new_words[i])\n",
        "}"
      ],
      "execution_count": 63,
      "outputs": []
    },
    {
      "cell_type": "code",
      "metadata": {
        "id": "no0yZlI8QAsr"
      },
      "source": [
        "content<-str_remove_all(content, \"[0-9a-zA-Z]+?\")"
      ],
      "execution_count": 64,
      "outputs": []
    },
    {
      "cell_type": "code",
      "metadata": {
        "colab": {
          "base_uri": "https://localhost:8080/",
          "height": 238
        },
        "id": "aliBJgcDRFbW",
        "outputId": "7095e709-ca49-450f-cd25-fdf1e2275976"
      },
      "source": [
        "cutter[content]"
      ],
      "execution_count": 65,
      "outputs": [
        {
          "output_type": "display_data",
          "data": {
            "text/plain": [
              "  [1] \"基隆\"     \"市孝\"     \"三路\"     \"商圈\"     \"集結\"     \"基隆\"    \n",
              "  [7] \"在\"       \"地\"       \"特色\"     \"庶民\"     \"小吃\"     \"每到\"    \n",
              " [13] \"用餐\"     \"時間\"     \"汽\"       \"機車\"     \"停車\"     \"格\"      \n",
              " [19] \"一位\"     \"難求\"     \"加上\"     \"使用率\"   \"高\"       \"路面\"    \n",
              " [25] \"凹凸不平\" \"經\"       \"民進黨\"   \"市議員\"   \"童子瑋\"   \"爭取\"    \n",
              " [31] \"市府\"     \"表示\"     \"會\"       \"在\"       \"月底\"     \"前\"      \n",
              " [37] \"進行\"     \"全線\"     \"重新\"     \"刨\"       \"鋪\"       \"並\"      \n",
              " [43] \"重新\"     \"劃設\"     \"機車\"     \"停車\"     \"格\"       \"統一\"    \n",
              " [49] \"車格\"     \"大小\"     \"預計\"     \"完成\"     \"後\"       \"可\"      \n",
              " [55] \"增加\"     \"約個\"     \"機車\"     \"格\"       \"童子瑋\"   \"今天\"    \n",
              " [61] \"邀請\"     \"市府\"     \"工務\"     \"處\"       \"交通\"     \"處\"      \n",
              " [67] \"區公所\"   \"及\"       \"相關\"     \"單位\"     \"辦理\"     \"會\"      \n",
              " [73] \"勘\"       \"童子瑋\"   \"指出\"     \"孝\"       \"三路\"     \"是\"      \n",
              " [79] \"老\"       \"商圈\"     \"各行各業\" \"店頭\"     \"林立\"     \"是\"      \n",
              " [85] \"地方\"     \"創生\"     \"及\"       \"城市\"     \"博覽會\"   \"的\"      \n",
              " [91] \"重要\"     \"場域\"     \"市民\"     \"通行\"     \"使用率\"   \"極高\"    \n",
              " [97] \"卻\"       \"長達\"     \"年\"       \"沒有\"     \"刨\"       \"鋪\"      \n",
              "[103] \"部分\"     \"路面\"     \"破損\"     \"嚴重\"     \"地方\"     \"也\"      \n",
              "[109] \"反映\"     \"恐\"       \"危害\"     \"市民\"     \"朋友\"     \"用路\"    \n",
              "[115] \"安全\"     \"而\"       \"周邊\"     \"汽\"       \"機車\"     \"停車\"    \n",
              "[121] \"格\"       \"規劃\"     \"不夠\"     \"周延\"     \"少數\"     \"騎士\"    \n",
              "[127] \"違規\"     \"停車\"     \"造成\"     \"出入\"     \"巷道\"     \"不便\"    \n",
              "[133] \"他\"       \"也\"       \"曾\"       \"在\"       \"總\"       \"質詢\"    \n",
              "[139] \"時向\"     \"市府\"     \"提出\"     \"改善\"     \"方案\"     \"會\"      \n",
              "[145] \"勘\"       \"完\"       \"後\"       \"童子瑋\"   \"表示\"     \"很\"      \n",
              "[151] \"感謝\"     \"市府\"     \"的\"       \"用心\"     \"工務\"     \"處將\"    \n",
              "[157] \"在\"       \"今年\"     \"月底\"     \"前\"       \"進行\"     \"全線\"    \n",
              "[163] \"刨\"       \"鋪\"       \"待\"       \"路面\"     \"完工後\"   \"交通\"    \n",
              "[169] \"處會\"     \"重新\"     \"劃設\"     \"機車\"     \"停車\"     \"格\"      \n",
              "[175] \"因為\"     \"目前\"     \"的\"       \"機車\"     \"格\"       \"大小不一\"\n",
              "[181] \"將依\"     \"規定\"     \"重新\"     \"調整\"     \"劃設\"     \"讓民眾\"  \n",
              "[187] \"可以\"     \"妥適\"     \"停車\"     \"完工後\"   \"現有\"     \"個\"      \n",
              "[193] \"機車\"     \"停車\"     \"格將\"     \"增加\"     \"到\"       \"個\"      \n",
              "[199] \"帶來\"     \"更\"       \"便利\"     \"的\"       \"用路\"     \"環境\"    \n",
              "[205] \"另外\"     \"在\"       \"地\"       \"商家\"     \"多次\"     \"反映\"    \n",
              "[211] \"卸貨\"     \"停車\"     \"格\"       \"數量\"     \"不足\"     \"的\"      \n",
              "[217] \"問題\"     \"市府\"     \"重新\"     \"規劃\"     \"後將\"     \"增加\"    \n",
              "[223] \"格\"       \"卸貨\"     \"停車\"     \"格\"       \"而\"       \"孝\"      \n",
              "[229] \"三路\"     \"上\"       \"的\"       \"路邊\"     \"收費\"     \"亭\"      \n",
              "[235] \"久\"       \"未\"       \"使用\"     \"壓縮\"     \"車道\"     \"空間\"    \n",
              "[241] \"也\"       \"影響\"     \"用\"       \"路人\"     \"行車\"     \"視線\"    \n",
              "[247] \"也\"       \"會\"       \"趁\"       \"此次\"     \"工程\"     \"一併\"    \n",
              "[253] \"拆除\"    "
            ],
            "text/latex": "\\begin{enumerate*}\n\\item '基隆'\n\\item '市孝'\n\\item '三路'\n\\item '商圈'\n\\item '集結'\n\\item '基隆'\n\\item '在'\n\\item '地'\n\\item '特色'\n\\item '庶民'\n\\item '小吃'\n\\item '每到'\n\\item '用餐'\n\\item '時間'\n\\item '汽'\n\\item '機車'\n\\item '停車'\n\\item '格'\n\\item '一位'\n\\item '難求'\n\\item '加上'\n\\item '使用率'\n\\item '高'\n\\item '路面'\n\\item '凹凸不平'\n\\item '經'\n\\item '民進黨'\n\\item '市議員'\n\\item '童子瑋'\n\\item '爭取'\n\\item '市府'\n\\item '表示'\n\\item '會'\n\\item '在'\n\\item '月底'\n\\item '前'\n\\item '進行'\n\\item '全線'\n\\item '重新'\n\\item '刨'\n\\item '鋪'\n\\item '並'\n\\item '重新'\n\\item '劃設'\n\\item '機車'\n\\item '停車'\n\\item '格'\n\\item '統一'\n\\item '車格'\n\\item '大小'\n\\item '預計'\n\\item '完成'\n\\item '後'\n\\item '可'\n\\item '增加'\n\\item '約個'\n\\item '機車'\n\\item '格'\n\\item '童子瑋'\n\\item '今天'\n\\item '邀請'\n\\item '市府'\n\\item '工務'\n\\item '處'\n\\item '交通'\n\\item '處'\n\\item '區公所'\n\\item '及'\n\\item '相關'\n\\item '單位'\n\\item '辦理'\n\\item '會'\n\\item '勘'\n\\item '童子瑋'\n\\item '指出'\n\\item '孝'\n\\item '三路'\n\\item '是'\n\\item '老'\n\\item '商圈'\n\\item '各行各業'\n\\item '店頭'\n\\item '林立'\n\\item '是'\n\\item '地方'\n\\item '創生'\n\\item '及'\n\\item '城市'\n\\item '博覽會'\n\\item '的'\n\\item '重要'\n\\item '場域'\n\\item '市民'\n\\item '通行'\n\\item '使用率'\n\\item '極高'\n\\item '卻'\n\\item '長達'\n\\item '年'\n\\item '沒有'\n\\item '刨'\n\\item '鋪'\n\\item '部分'\n\\item '路面'\n\\item '破損'\n\\item '嚴重'\n\\item '地方'\n\\item '也'\n\\item '反映'\n\\item '恐'\n\\item '危害'\n\\item '市民'\n\\item '朋友'\n\\item '用路'\n\\item '安全'\n\\item '而'\n\\item '周邊'\n\\item '汽'\n\\item '機車'\n\\item '停車'\n\\item '格'\n\\item '規劃'\n\\item '不夠'\n\\item '周延'\n\\item '少數'\n\\item '騎士'\n\\item '違規'\n\\item '停車'\n\\item '造成'\n\\item '出入'\n\\item '巷道'\n\\item '不便'\n\\item '他'\n\\item '也'\n\\item '曾'\n\\item '在'\n\\item '總'\n\\item '質詢'\n\\item '時向'\n\\item '市府'\n\\item '提出'\n\\item '改善'\n\\item '方案'\n\\item '會'\n\\item '勘'\n\\item '完'\n\\item '後'\n\\item '童子瑋'\n\\item '表示'\n\\item '很'\n\\item '感謝'\n\\item '市府'\n\\item '的'\n\\item '用心'\n\\item '工務'\n\\item '處將'\n\\item '在'\n\\item '今年'\n\\item '月底'\n\\item '前'\n\\item '進行'\n\\item '全線'\n\\item '刨'\n\\item '鋪'\n\\item '待'\n\\item '路面'\n\\item '完工後'\n\\item '交通'\n\\item '處會'\n\\item '重新'\n\\item '劃設'\n\\item '機車'\n\\item '停車'\n\\item '格'\n\\item '因為'\n\\item '目前'\n\\item '的'\n\\item '機車'\n\\item '格'\n\\item '大小不一'\n\\item '將依'\n\\item '規定'\n\\item '重新'\n\\item '調整'\n\\item '劃設'\n\\item '讓民眾'\n\\item '可以'\n\\item '妥適'\n\\item '停車'\n\\item '完工後'\n\\item '現有'\n\\item '個'\n\\item '機車'\n\\item '停車'\n\\item '格將'\n\\item '增加'\n\\item '到'\n\\item '個'\n\\item '帶來'\n\\item '更'\n\\item '便利'\n\\item '的'\n\\item '用路'\n\\item '環境'\n\\item '另外'\n\\item '在'\n\\item '地'\n\\item '商家'\n\\item '多次'\n\\item '反映'\n\\item '卸貨'\n\\item '停車'\n\\item '格'\n\\item '數量'\n\\item '不足'\n\\item '的'\n\\item '問題'\n\\item '市府'\n\\item '重新'\n\\item '規劃'\n\\item '後將'\n\\item '增加'\n\\item '格'\n\\item '卸貨'\n\\item '停車'\n\\item '格'\n\\item '而'\n\\item '孝'\n\\item '三路'\n\\item '上'\n\\item '的'\n\\item '路邊'\n\\item '收費'\n\\item '亭'\n\\item '久'\n\\item '未'\n\\item '使用'\n\\item '壓縮'\n\\item '車道'\n\\item '空間'\n\\item '也'\n\\item '影響'\n\\item '用'\n\\item '路人'\n\\item '行車'\n\\item '視線'\n\\item '也'\n\\item '會'\n\\item '趁'\n\\item '此次'\n\\item '工程'\n\\item '一併'\n\\item '拆除'\n\\end{enumerate*}\n",
            "text/markdown": "1. '基隆'\n2. '市孝'\n3. '三路'\n4. '商圈'\n5. '集結'\n6. '基隆'\n7. '在'\n8. '地'\n9. '特色'\n10. '庶民'\n11. '小吃'\n12. '每到'\n13. '用餐'\n14. '時間'\n15. '汽'\n16. '機車'\n17. '停車'\n18. '格'\n19. '一位'\n20. '難求'\n21. '加上'\n22. '使用率'\n23. '高'\n24. '路面'\n25. '凹凸不平'\n26. '經'\n27. '民進黨'\n28. '市議員'\n29. '童子瑋'\n30. '爭取'\n31. '市府'\n32. '表示'\n33. '會'\n34. '在'\n35. '月底'\n36. '前'\n37. '進行'\n38. '全線'\n39. '重新'\n40. '刨'\n41. '鋪'\n42. '並'\n43. '重新'\n44. '劃設'\n45. '機車'\n46. '停車'\n47. '格'\n48. '統一'\n49. '車格'\n50. '大小'\n51. '預計'\n52. '完成'\n53. '後'\n54. '可'\n55. '增加'\n56. '約個'\n57. '機車'\n58. '格'\n59. '童子瑋'\n60. '今天'\n61. '邀請'\n62. '市府'\n63. '工務'\n64. '處'\n65. '交通'\n66. '處'\n67. '區公所'\n68. '及'\n69. '相關'\n70. '單位'\n71. '辦理'\n72. '會'\n73. '勘'\n74. '童子瑋'\n75. '指出'\n76. '孝'\n77. '三路'\n78. '是'\n79. '老'\n80. '商圈'\n81. '各行各業'\n82. '店頭'\n83. '林立'\n84. '是'\n85. '地方'\n86. '創生'\n87. '及'\n88. '城市'\n89. '博覽會'\n90. '的'\n91. '重要'\n92. '場域'\n93. '市民'\n94. '通行'\n95. '使用率'\n96. '極高'\n97. '卻'\n98. '長達'\n99. '年'\n100. '沒有'\n101. '刨'\n102. '鋪'\n103. '部分'\n104. '路面'\n105. '破損'\n106. '嚴重'\n107. '地方'\n108. '也'\n109. '反映'\n110. '恐'\n111. '危害'\n112. '市民'\n113. '朋友'\n114. '用路'\n115. '安全'\n116. '而'\n117. '周邊'\n118. '汽'\n119. '機車'\n120. '停車'\n121. '格'\n122. '規劃'\n123. '不夠'\n124. '周延'\n125. '少數'\n126. '騎士'\n127. '違規'\n128. '停車'\n129. '造成'\n130. '出入'\n131. '巷道'\n132. '不便'\n133. '他'\n134. '也'\n135. '曾'\n136. '在'\n137. '總'\n138. '質詢'\n139. '時向'\n140. '市府'\n141. '提出'\n142. '改善'\n143. '方案'\n144. '會'\n145. '勘'\n146. '完'\n147. '後'\n148. '童子瑋'\n149. '表示'\n150. '很'\n151. '感謝'\n152. '市府'\n153. '的'\n154. '用心'\n155. '工務'\n156. '處將'\n157. '在'\n158. '今年'\n159. '月底'\n160. '前'\n161. '進行'\n162. '全線'\n163. '刨'\n164. '鋪'\n165. '待'\n166. '路面'\n167. '完工後'\n168. '交通'\n169. '處會'\n170. '重新'\n171. '劃設'\n172. '機車'\n173. '停車'\n174. '格'\n175. '因為'\n176. '目前'\n177. '的'\n178. '機車'\n179. '格'\n180. '大小不一'\n181. '將依'\n182. '規定'\n183. '重新'\n184. '調整'\n185. '劃設'\n186. '讓民眾'\n187. '可以'\n188. '妥適'\n189. '停車'\n190. '完工後'\n191. '現有'\n192. '個'\n193. '機車'\n194. '停車'\n195. '格將'\n196. '增加'\n197. '到'\n198. '個'\n199. '帶來'\n200. '更'\n201. '便利'\n202. '的'\n203. '用路'\n204. '環境'\n205. '另外'\n206. '在'\n207. '地'\n208. '商家'\n209. '多次'\n210. '反映'\n211. '卸貨'\n212. '停車'\n213. '格'\n214. '數量'\n215. '不足'\n216. '的'\n217. '問題'\n218. '市府'\n219. '重新'\n220. '規劃'\n221. '後將'\n222. '增加'\n223. '格'\n224. '卸貨'\n225. '停車'\n226. '格'\n227. '而'\n228. '孝'\n229. '三路'\n230. '上'\n231. '的'\n232. '路邊'\n233. '收費'\n234. '亭'\n235. '久'\n236. '未'\n237. '使用'\n238. '壓縮'\n239. '車道'\n240. '空間'\n241. '也'\n242. '影響'\n243. '用'\n244. '路人'\n245. '行車'\n246. '視線'\n247. '也'\n248. '會'\n249. '趁'\n250. '此次'\n251. '工程'\n252. '一併'\n253. '拆除'\n\n\n",
            "text/html": [
              "<style>\n",
              ".list-inline {list-style: none; margin:0; padding: 0}\n",
              ".list-inline>li {display: inline-block}\n",
              ".list-inline>li:not(:last-child)::after {content: \"\\00b7\"; padding: 0 .5ex}\n",
              "</style>\n",
              "<ol class=list-inline><li>'基隆'</li><li>'市孝'</li><li>'三路'</li><li>'商圈'</li><li>'集結'</li><li>'基隆'</li><li>'在'</li><li>'地'</li><li>'特色'</li><li>'庶民'</li><li>'小吃'</li><li>'每到'</li><li>'用餐'</li><li>'時間'</li><li>'汽'</li><li>'機車'</li><li>'停車'</li><li>'格'</li><li>'一位'</li><li>'難求'</li><li>'加上'</li><li>'使用率'</li><li>'高'</li><li>'路面'</li><li>'凹凸不平'</li><li>'經'</li><li>'民進黨'</li><li>'市議員'</li><li>'童子瑋'</li><li>'爭取'</li><li>'市府'</li><li>'表示'</li><li>'會'</li><li>'在'</li><li>'月底'</li><li>'前'</li><li>'進行'</li><li>'全線'</li><li>'重新'</li><li>'刨'</li><li>'鋪'</li><li>'並'</li><li>'重新'</li><li>'劃設'</li><li>'機車'</li><li>'停車'</li><li>'格'</li><li>'統一'</li><li>'車格'</li><li>'大小'</li><li>'預計'</li><li>'完成'</li><li>'後'</li><li>'可'</li><li>'增加'</li><li>'約個'</li><li>'機車'</li><li>'格'</li><li>'童子瑋'</li><li>'今天'</li><li>'邀請'</li><li>'市府'</li><li>'工務'</li><li>'處'</li><li>'交通'</li><li>'處'</li><li>'區公所'</li><li>'及'</li><li>'相關'</li><li>'單位'</li><li>'辦理'</li><li>'會'</li><li>'勘'</li><li>'童子瑋'</li><li>'指出'</li><li>'孝'</li><li>'三路'</li><li>'是'</li><li>'老'</li><li>'商圈'</li><li>'各行各業'</li><li>'店頭'</li><li>'林立'</li><li>'是'</li><li>'地方'</li><li>'創生'</li><li>'及'</li><li>'城市'</li><li>'博覽會'</li><li>'的'</li><li>'重要'</li><li>'場域'</li><li>'市民'</li><li>'通行'</li><li>'使用率'</li><li>'極高'</li><li>'卻'</li><li>'長達'</li><li>'年'</li><li>'沒有'</li><li>'刨'</li><li>'鋪'</li><li>'部分'</li><li>'路面'</li><li>'破損'</li><li>'嚴重'</li><li>'地方'</li><li>'也'</li><li>'反映'</li><li>'恐'</li><li>'危害'</li><li>'市民'</li><li>'朋友'</li><li>'用路'</li><li>'安全'</li><li>'而'</li><li>'周邊'</li><li>'汽'</li><li>'機車'</li><li>'停車'</li><li>'格'</li><li>'規劃'</li><li>'不夠'</li><li>'周延'</li><li>'少數'</li><li>'騎士'</li><li>'違規'</li><li>'停車'</li><li>'造成'</li><li>'出入'</li><li>'巷道'</li><li>'不便'</li><li>'他'</li><li>'也'</li><li>'曾'</li><li>'在'</li><li>'總'</li><li>'質詢'</li><li>'時向'</li><li>'市府'</li><li>'提出'</li><li>'改善'</li><li>'方案'</li><li>'會'</li><li>'勘'</li><li>'完'</li><li>'後'</li><li>'童子瑋'</li><li>'表示'</li><li>'很'</li><li>'感謝'</li><li>'市府'</li><li>'的'</li><li>'用心'</li><li>'工務'</li><li>'處將'</li><li>'在'</li><li>'今年'</li><li>'月底'</li><li>'前'</li><li>'進行'</li><li>'全線'</li><li>'刨'</li><li>'鋪'</li><li>'待'</li><li>'路面'</li><li>'完工後'</li><li>'交通'</li><li>'處會'</li><li>'重新'</li><li>'劃設'</li><li>'機車'</li><li>'停車'</li><li>'格'</li><li>'因為'</li><li>'目前'</li><li>'的'</li><li>'機車'</li><li>'格'</li><li>'大小不一'</li><li>'將依'</li><li>'規定'</li><li>'重新'</li><li>'調整'</li><li>'劃設'</li><li>'讓民眾'</li><li>'可以'</li><li>'妥適'</li><li>'停車'</li><li>'完工後'</li><li>'現有'</li><li>'個'</li><li>'機車'</li><li>'停車'</li><li>'格將'</li><li>'增加'</li><li>'到'</li><li>'個'</li><li>'帶來'</li><li>'更'</li><li>'便利'</li><li>'的'</li><li>'用路'</li><li>'環境'</li><li>'另外'</li><li>'在'</li><li>'地'</li><li>'商家'</li><li>'多次'</li><li>'反映'</li><li>'卸貨'</li><li>'停車'</li><li>'格'</li><li>'數量'</li><li>'不足'</li><li>'的'</li><li>'問題'</li><li>'市府'</li><li>'重新'</li><li>'規劃'</li><li>'後將'</li><li>'增加'</li><li>'格'</li><li>'卸貨'</li><li>'停車'</li><li>'格'</li><li>'而'</li><li>'孝'</li><li>'三路'</li><li>'上'</li><li>'的'</li><li>'路邊'</li><li>'收費'</li><li>'亭'</li><li>'久'</li><li>'未'</li><li>'使用'</li><li>'壓縮'</li><li>'車道'</li><li>'空間'</li><li>'也'</li><li>'影響'</li><li>'用'</li><li>'路人'</li><li>'行車'</li><li>'視線'</li><li>'也'</li><li>'會'</li><li>'趁'</li><li>'此次'</li><li>'工程'</li><li>'一併'</li><li>'拆除'</li></ol>\n"
            ]
          },
          "metadata": {
            "tags": []
          }
        }
      ]
    },
    {
      "cell_type": "code",
      "metadata": {
        "id": "XzejBMGCRHw_"
      },
      "source": [
        "new_words<-c(\"基隆\",\"機車\",\"停車\",\"市議員\",\"市民\",\"童子瑋\")\n",
        "writeLines(new_words, \"newword.txt\")"
      ],
      "execution_count": 69,
      "outputs": []
    },
    {
      "cell_type": "code",
      "metadata": {
        "id": "ZgosA-4dRgc4"
      },
      "source": [
        "stop_words<-c(\"再\",\"之\",\"更\",\"個\",\"未\",\"而\",\"也\",\"與\",\"的\",\"在\",\"是\",\"會\")\n",
        "writeLines(stop_words, \"stop_words.txt\")"
      ],
      "execution_count": 70,
      "outputs": []
    },
    {
      "cell_type": "code",
      "metadata": {
        "colab": {
          "base_uri": "https://localhost:8080/",
          "height": 221
        },
        "id": "1XRTdNi-SBL4",
        "outputId": "90ad47f1-105e-40b2-bf0b-65988197b5af"
      },
      "source": [
        "cutter<-worker(user=\"new_words.txt\", stop_word=\"stop_words.txt\", bylines=FALSE)\n",
        "seg_words<-cutter[content]\n",
        "seg_words"
      ],
      "execution_count": 71,
      "outputs": [
        {
          "output_type": "display_data",
          "data": {
            "text/plain": [
              "  [1] \"基隆市\"   \"孝\"       \"三路\"     \"商圈\"     \"集結\"     \"基隆\"    \n",
              "  [7] \"地\"       \"特色\"     \"庶民\"     \"小吃\"     \"每到\"     \"用餐\"    \n",
              " [13] \"時間\"     \"汽\"       \"機車\"     \"停車\"     \"格\"       \"一位\"    \n",
              " [19] \"難求\"     \"加上\"     \"使用率\"   \"高\"       \"路面\"     \"凹凸不平\"\n",
              " [25] \"經\"       \"民進黨\"   \"市議員\"   \"童子\"     \"瑋\"       \"爭取\"    \n",
              " [31] \"市府\"     \"表示\"     \"月底\"     \"前\"       \"進行\"     \"全線\"    \n",
              " [37] \"重新\"     \"刨\"       \"鋪\"       \"並\"       \"重新\"     \"劃設\"    \n",
              " [43] \"機車\"     \"停車\"     \"格\"       \"統一\"     \"車格\"     \"大小\"    \n",
              " [49] \"預計\"     \"完成\"     \"後\"       \"可\"       \"增加\"     \"約個\"    \n",
              " [55] \"機車\"     \"格\"       \"童子\"     \"瑋\"       \"今天\"     \"邀請\"    \n",
              " [61] \"市府\"     \"工務\"     \"處\"       \"交通\"     \"處\"       \"區公所\"  \n",
              " [67] \"及\"       \"相關\"     \"單位\"     \"辦理\"     \"勘\"       \"童子\"    \n",
              " [73] \"瑋\"       \"指出\"     \"孝\"       \"三路\"     \"老\"       \"商圈\"    \n",
              " [79] \"各行各業\" \"店頭\"     \"林立\"     \"地方\"     \"創生\"     \"及\"      \n",
              " [85] \"城市\"     \"博覽會\"   \"重要\"     \"場域\"     \"市民\"     \"通行\"    \n",
              " [91] \"使用率\"   \"極高\"     \"卻\"       \"長達\"     \"年\"       \"沒有\"    \n",
              " [97] \"刨\"       \"鋪\"       \"部分\"     \"路面\"     \"破損\"     \"嚴重\"    \n",
              "[103] \"地方\"     \"反映\"     \"恐\"       \"危害\"     \"市民\"     \"朋友\"    \n",
              "[109] \"用路\"     \"安全\"     \"周邊\"     \"汽機\"     \"車\"       \"停車\"    \n",
              "[115] \"格\"       \"規劃\"     \"不夠\"     \"周延\"     \"少數\"     \"騎士\"    \n",
              "[121] \"違規\"     \"停車\"     \"造成\"     \"出入\"     \"巷道\"     \"不便\"    \n",
              "[127] \"他\"       \"曾\"       \"總\"       \"質詢\"     \"時向\"     \"市府\"    \n",
              "[133] \"提出\"     \"改善\"     \"方案\"     \"勘\"       \"完\"       \"後\"      \n",
              "[139] \"童子\"     \"瑋\"       \"表示\"     \"很\"       \"感謝\"     \"市府\"    \n",
              "[145] \"用心\"     \"工務\"     \"處將\"     \"今年\"     \"月底\"     \"前\"      \n",
              "[151] \"進行\"     \"全線\"     \"刨\"       \"鋪\"       \"待\"       \"路面\"    \n",
              "[157] \"完工後\"   \"交通\"     \"處會\"     \"重新\"     \"劃設\"     \"機車\"    \n",
              "[163] \"停車\"     \"格\"       \"因為\"     \"目前\"     \"機車\"     \"格\"      \n",
              "[169] \"大小不一\" \"將依\"     \"規定\"     \"重新\"     \"調整\"     \"劃設\"    \n",
              "[175] \"讓民眾\"   \"可以\"     \"妥適\"     \"停車\"     \"完工後\"   \"現有\"    \n",
              "[181] \"機車\"     \"停車\"     \"格將\"     \"增加\"     \"到\"       \"帶來\"    \n",
              "[187] \"便利\"     \"用路\"     \"環境\"     \"另外\"     \"地\"       \"商家\"    \n",
              "[193] \"多次\"     \"反映\"     \"卸貨\"     \"停車\"     \"格\"       \"數量\"    \n",
              "[199] \"不足\"     \"問題\"     \"市府\"     \"重新\"     \"規劃\"     \"後將\"    \n",
              "[205] \"增加\"     \"格\"       \"卸貨\"     \"停車\"     \"格\"       \"孝\"      \n",
              "[211] \"三路\"     \"上\"       \"路邊\"     \"收費\"     \"亭\"       \"久\"      \n",
              "[217] \"使用\"     \"壓縮\"     \"車道\"     \"空間\"     \"影響\"     \"用\"      \n",
              "[223] \"路人\"     \"行車\"     \"視線\"     \"趁\"       \"此次\"     \"工程\"    \n",
              "[229] \"一併\"     \"拆除\"    "
            ],
            "text/latex": "\\begin{enumerate*}\n\\item '基隆市'\n\\item '孝'\n\\item '三路'\n\\item '商圈'\n\\item '集結'\n\\item '基隆'\n\\item '地'\n\\item '特色'\n\\item '庶民'\n\\item '小吃'\n\\item '每到'\n\\item '用餐'\n\\item '時間'\n\\item '汽'\n\\item '機車'\n\\item '停車'\n\\item '格'\n\\item '一位'\n\\item '難求'\n\\item '加上'\n\\item '使用率'\n\\item '高'\n\\item '路面'\n\\item '凹凸不平'\n\\item '經'\n\\item '民進黨'\n\\item '市議員'\n\\item '童子'\n\\item '瑋'\n\\item '爭取'\n\\item '市府'\n\\item '表示'\n\\item '月底'\n\\item '前'\n\\item '進行'\n\\item '全線'\n\\item '重新'\n\\item '刨'\n\\item '鋪'\n\\item '並'\n\\item '重新'\n\\item '劃設'\n\\item '機車'\n\\item '停車'\n\\item '格'\n\\item '統一'\n\\item '車格'\n\\item '大小'\n\\item '預計'\n\\item '完成'\n\\item '後'\n\\item '可'\n\\item '增加'\n\\item '約個'\n\\item '機車'\n\\item '格'\n\\item '童子'\n\\item '瑋'\n\\item '今天'\n\\item '邀請'\n\\item '市府'\n\\item '工務'\n\\item '處'\n\\item '交通'\n\\item '處'\n\\item '區公所'\n\\item '及'\n\\item '相關'\n\\item '單位'\n\\item '辦理'\n\\item '勘'\n\\item '童子'\n\\item '瑋'\n\\item '指出'\n\\item '孝'\n\\item '三路'\n\\item '老'\n\\item '商圈'\n\\item '各行各業'\n\\item '店頭'\n\\item '林立'\n\\item '地方'\n\\item '創生'\n\\item '及'\n\\item '城市'\n\\item '博覽會'\n\\item '重要'\n\\item '場域'\n\\item '市民'\n\\item '通行'\n\\item '使用率'\n\\item '極高'\n\\item '卻'\n\\item '長達'\n\\item '年'\n\\item '沒有'\n\\item '刨'\n\\item '鋪'\n\\item '部分'\n\\item '路面'\n\\item '破損'\n\\item '嚴重'\n\\item '地方'\n\\item '反映'\n\\item '恐'\n\\item '危害'\n\\item '市民'\n\\item '朋友'\n\\item '用路'\n\\item '安全'\n\\item '周邊'\n\\item '汽機'\n\\item '車'\n\\item '停車'\n\\item '格'\n\\item '規劃'\n\\item '不夠'\n\\item '周延'\n\\item '少數'\n\\item '騎士'\n\\item '違規'\n\\item '停車'\n\\item '造成'\n\\item '出入'\n\\item '巷道'\n\\item '不便'\n\\item '他'\n\\item '曾'\n\\item '總'\n\\item '質詢'\n\\item '時向'\n\\item '市府'\n\\item '提出'\n\\item '改善'\n\\item '方案'\n\\item '勘'\n\\item '完'\n\\item '後'\n\\item '童子'\n\\item '瑋'\n\\item '表示'\n\\item '很'\n\\item '感謝'\n\\item '市府'\n\\item '用心'\n\\item '工務'\n\\item '處將'\n\\item '今年'\n\\item '月底'\n\\item '前'\n\\item '進行'\n\\item '全線'\n\\item '刨'\n\\item '鋪'\n\\item '待'\n\\item '路面'\n\\item '完工後'\n\\item '交通'\n\\item '處會'\n\\item '重新'\n\\item '劃設'\n\\item '機車'\n\\item '停車'\n\\item '格'\n\\item '因為'\n\\item '目前'\n\\item '機車'\n\\item '格'\n\\item '大小不一'\n\\item '將依'\n\\item '規定'\n\\item '重新'\n\\item '調整'\n\\item '劃設'\n\\item '讓民眾'\n\\item '可以'\n\\item '妥適'\n\\item '停車'\n\\item '完工後'\n\\item '現有'\n\\item '機車'\n\\item '停車'\n\\item '格將'\n\\item '增加'\n\\item '到'\n\\item '帶來'\n\\item '便利'\n\\item '用路'\n\\item '環境'\n\\item '另外'\n\\item '地'\n\\item '商家'\n\\item '多次'\n\\item '反映'\n\\item '卸貨'\n\\item '停車'\n\\item '格'\n\\item '數量'\n\\item '不足'\n\\item '問題'\n\\item '市府'\n\\item '重新'\n\\item '規劃'\n\\item '後將'\n\\item '增加'\n\\item '格'\n\\item '卸貨'\n\\item '停車'\n\\item '格'\n\\item '孝'\n\\item '三路'\n\\item '上'\n\\item '路邊'\n\\item '收費'\n\\item '亭'\n\\item '久'\n\\item '使用'\n\\item '壓縮'\n\\item '車道'\n\\item '空間'\n\\item '影響'\n\\item '用'\n\\item '路人'\n\\item '行車'\n\\item '視線'\n\\item '趁'\n\\item '此次'\n\\item '工程'\n\\item '一併'\n\\item '拆除'\n\\end{enumerate*}\n",
            "text/markdown": "1. '基隆市'\n2. '孝'\n3. '三路'\n4. '商圈'\n5. '集結'\n6. '基隆'\n7. '地'\n8. '特色'\n9. '庶民'\n10. '小吃'\n11. '每到'\n12. '用餐'\n13. '時間'\n14. '汽'\n15. '機車'\n16. '停車'\n17. '格'\n18. '一位'\n19. '難求'\n20. '加上'\n21. '使用率'\n22. '高'\n23. '路面'\n24. '凹凸不平'\n25. '經'\n26. '民進黨'\n27. '市議員'\n28. '童子'\n29. '瑋'\n30. '爭取'\n31. '市府'\n32. '表示'\n33. '月底'\n34. '前'\n35. '進行'\n36. '全線'\n37. '重新'\n38. '刨'\n39. '鋪'\n40. '並'\n41. '重新'\n42. '劃設'\n43. '機車'\n44. '停車'\n45. '格'\n46. '統一'\n47. '車格'\n48. '大小'\n49. '預計'\n50. '完成'\n51. '後'\n52. '可'\n53. '增加'\n54. '約個'\n55. '機車'\n56. '格'\n57. '童子'\n58. '瑋'\n59. '今天'\n60. '邀請'\n61. '市府'\n62. '工務'\n63. '處'\n64. '交通'\n65. '處'\n66. '區公所'\n67. '及'\n68. '相關'\n69. '單位'\n70. '辦理'\n71. '勘'\n72. '童子'\n73. '瑋'\n74. '指出'\n75. '孝'\n76. '三路'\n77. '老'\n78. '商圈'\n79. '各行各業'\n80. '店頭'\n81. '林立'\n82. '地方'\n83. '創生'\n84. '及'\n85. '城市'\n86. '博覽會'\n87. '重要'\n88. '場域'\n89. '市民'\n90. '通行'\n91. '使用率'\n92. '極高'\n93. '卻'\n94. '長達'\n95. '年'\n96. '沒有'\n97. '刨'\n98. '鋪'\n99. '部分'\n100. '路面'\n101. '破損'\n102. '嚴重'\n103. '地方'\n104. '反映'\n105. '恐'\n106. '危害'\n107. '市民'\n108. '朋友'\n109. '用路'\n110. '安全'\n111. '周邊'\n112. '汽機'\n113. '車'\n114. '停車'\n115. '格'\n116. '規劃'\n117. '不夠'\n118. '周延'\n119. '少數'\n120. '騎士'\n121. '違規'\n122. '停車'\n123. '造成'\n124. '出入'\n125. '巷道'\n126. '不便'\n127. '他'\n128. '曾'\n129. '總'\n130. '質詢'\n131. '時向'\n132. '市府'\n133. '提出'\n134. '改善'\n135. '方案'\n136. '勘'\n137. '完'\n138. '後'\n139. '童子'\n140. '瑋'\n141. '表示'\n142. '很'\n143. '感謝'\n144. '市府'\n145. '用心'\n146. '工務'\n147. '處將'\n148. '今年'\n149. '月底'\n150. '前'\n151. '進行'\n152. '全線'\n153. '刨'\n154. '鋪'\n155. '待'\n156. '路面'\n157. '完工後'\n158. '交通'\n159. '處會'\n160. '重新'\n161. '劃設'\n162. '機車'\n163. '停車'\n164. '格'\n165. '因為'\n166. '目前'\n167. '機車'\n168. '格'\n169. '大小不一'\n170. '將依'\n171. '規定'\n172. '重新'\n173. '調整'\n174. '劃設'\n175. '讓民眾'\n176. '可以'\n177. '妥適'\n178. '停車'\n179. '完工後'\n180. '現有'\n181. '機車'\n182. '停車'\n183. '格將'\n184. '增加'\n185. '到'\n186. '帶來'\n187. '便利'\n188. '用路'\n189. '環境'\n190. '另外'\n191. '地'\n192. '商家'\n193. '多次'\n194. '反映'\n195. '卸貨'\n196. '停車'\n197. '格'\n198. '數量'\n199. '不足'\n200. '問題'\n201. '市府'\n202. '重新'\n203. '規劃'\n204. '後將'\n205. '增加'\n206. '格'\n207. '卸貨'\n208. '停車'\n209. '格'\n210. '孝'\n211. '三路'\n212. '上'\n213. '路邊'\n214. '收費'\n215. '亭'\n216. '久'\n217. '使用'\n218. '壓縮'\n219. '車道'\n220. '空間'\n221. '影響'\n222. '用'\n223. '路人'\n224. '行車'\n225. '視線'\n226. '趁'\n227. '此次'\n228. '工程'\n229. '一併'\n230. '拆除'\n\n\n",
            "text/html": [
              "<style>\n",
              ".list-inline {list-style: none; margin:0; padding: 0}\n",
              ".list-inline>li {display: inline-block}\n",
              ".list-inline>li:not(:last-child)::after {content: \"\\00b7\"; padding: 0 .5ex}\n",
              "</style>\n",
              "<ol class=list-inline><li>'基隆市'</li><li>'孝'</li><li>'三路'</li><li>'商圈'</li><li>'集結'</li><li>'基隆'</li><li>'地'</li><li>'特色'</li><li>'庶民'</li><li>'小吃'</li><li>'每到'</li><li>'用餐'</li><li>'時間'</li><li>'汽'</li><li>'機車'</li><li>'停車'</li><li>'格'</li><li>'一位'</li><li>'難求'</li><li>'加上'</li><li>'使用率'</li><li>'高'</li><li>'路面'</li><li>'凹凸不平'</li><li>'經'</li><li>'民進黨'</li><li>'市議員'</li><li>'童子'</li><li>'瑋'</li><li>'爭取'</li><li>'市府'</li><li>'表示'</li><li>'月底'</li><li>'前'</li><li>'進行'</li><li>'全線'</li><li>'重新'</li><li>'刨'</li><li>'鋪'</li><li>'並'</li><li>'重新'</li><li>'劃設'</li><li>'機車'</li><li>'停車'</li><li>'格'</li><li>'統一'</li><li>'車格'</li><li>'大小'</li><li>'預計'</li><li>'完成'</li><li>'後'</li><li>'可'</li><li>'增加'</li><li>'約個'</li><li>'機車'</li><li>'格'</li><li>'童子'</li><li>'瑋'</li><li>'今天'</li><li>'邀請'</li><li>'市府'</li><li>'工務'</li><li>'處'</li><li>'交通'</li><li>'處'</li><li>'區公所'</li><li>'及'</li><li>'相關'</li><li>'單位'</li><li>'辦理'</li><li>'勘'</li><li>'童子'</li><li>'瑋'</li><li>'指出'</li><li>'孝'</li><li>'三路'</li><li>'老'</li><li>'商圈'</li><li>'各行各業'</li><li>'店頭'</li><li>'林立'</li><li>'地方'</li><li>'創生'</li><li>'及'</li><li>'城市'</li><li>'博覽會'</li><li>'重要'</li><li>'場域'</li><li>'市民'</li><li>'通行'</li><li>'使用率'</li><li>'極高'</li><li>'卻'</li><li>'長達'</li><li>'年'</li><li>'沒有'</li><li>'刨'</li><li>'鋪'</li><li>'部分'</li><li>'路面'</li><li>'破損'</li><li>'嚴重'</li><li>'地方'</li><li>'反映'</li><li>'恐'</li><li>'危害'</li><li>'市民'</li><li>'朋友'</li><li>'用路'</li><li>'安全'</li><li>'周邊'</li><li>'汽機'</li><li>'車'</li><li>'停車'</li><li>'格'</li><li>'規劃'</li><li>'不夠'</li><li>'周延'</li><li>'少數'</li><li>'騎士'</li><li>'違規'</li><li>'停車'</li><li>'造成'</li><li>'出入'</li><li>'巷道'</li><li>'不便'</li><li>'他'</li><li>'曾'</li><li>'總'</li><li>'質詢'</li><li>'時向'</li><li>'市府'</li><li>'提出'</li><li>'改善'</li><li>'方案'</li><li>'勘'</li><li>'完'</li><li>'後'</li><li>'童子'</li><li>'瑋'</li><li>'表示'</li><li>'很'</li><li>'感謝'</li><li>'市府'</li><li>'用心'</li><li>'工務'</li><li>'處將'</li><li>'今年'</li><li>'月底'</li><li>'前'</li><li>'進行'</li><li>'全線'</li><li>'刨'</li><li>'鋪'</li><li>'待'</li><li>'路面'</li><li>'完工後'</li><li>'交通'</li><li>'處會'</li><li>'重新'</li><li>'劃設'</li><li>'機車'</li><li>'停車'</li><li>'格'</li><li>'因為'</li><li>'目前'</li><li>'機車'</li><li>'格'</li><li>'大小不一'</li><li>'將依'</li><li>'規定'</li><li>'重新'</li><li>'調整'</li><li>'劃設'</li><li>'讓民眾'</li><li>'可以'</li><li>'妥適'</li><li>'停車'</li><li>'完工後'</li><li>'現有'</li><li>'機車'</li><li>'停車'</li><li>'格將'</li><li>'增加'</li><li>'到'</li><li>'帶來'</li><li>'便利'</li><li>'用路'</li><li>'環境'</li><li>'另外'</li><li>'地'</li><li>'商家'</li><li>'多次'</li><li>'反映'</li><li>'卸貨'</li><li>'停車'</li><li>'格'</li><li>'數量'</li><li>'不足'</li><li>'問題'</li><li>'市府'</li><li>'重新'</li><li>'規劃'</li><li>'後將'</li><li>'增加'</li><li>'格'</li><li>'卸貨'</li><li>'停車'</li><li>'格'</li><li>'孝'</li><li>'三路'</li><li>'上'</li><li>'路邊'</li><li>'收費'</li><li>'亭'</li><li>'久'</li><li>'使用'</li><li>'壓縮'</li><li>'車道'</li><li>'空間'</li><li>'影響'</li><li>'用'</li><li>'路人'</li><li>'行車'</li><li>'視線'</li><li>'趁'</li><li>'此次'</li><li>'工程'</li><li>'一併'</li><li>'拆除'</li></ol>\n"
            ]
          },
          "metadata": {
            "tags": []
          }
        }
      ]
    },
    {
      "cell_type": "code",
      "metadata": {
        "colab": {
          "base_uri": "https://localhost:8080/",
          "height": 283
        },
        "id": "jAnscIidSxEA",
        "outputId": "cc68894c-7eb5-4c27-e636-7a2140fea0a3"
      },
      "source": [
        "txt_freq<-freq(seg_words)\n",
        "txt_freq<-arrange(txt_freq, desc(freq))\n",
        "head(txt_freq)"
      ],
      "execution_count": 72,
      "outputs": [
        {
          "output_type": "display_data",
          "data": {
            "text/plain": [
              "  char freq\n",
              "1 停車 9   \n",
              "2 格   9   \n",
              "3 機車 6   \n",
              "4 市府 5   \n",
              "5 重新 5   \n",
              "6 瑋   4   "
            ],
            "text/latex": "A data.frame: 6 × 2\n\\begin{tabular}{r|ll}\n  & char & freq\\\\\n  & <chr> & <dbl>\\\\\n\\hline\n\t1 & 停車 & 9\\\\\n\t2 & 格   & 9\\\\\n\t3 & 機車 & 6\\\\\n\t4 & 市府 & 5\\\\\n\t5 & 重新 & 5\\\\\n\t6 & 瑋   & 4\\\\\n\\end{tabular}\n",
            "text/markdown": "\nA data.frame: 6 × 2\n\n| <!--/--> | char &lt;chr&gt; | freq &lt;dbl&gt; |\n|---|---|---|\n| 1 | 停車 | 9 |\n| 2 | 格   | 9 |\n| 3 | 機車 | 6 |\n| 4 | 市府 | 5 |\n| 5 | 重新 | 5 |\n| 6 | 瑋   | 4 |\n\n",
            "text/html": [
              "<table class=\"dataframe\">\n",
              "<caption>A data.frame: 6 × 2</caption>\n",
              "<thead>\n",
              "\t<tr><th></th><th scope=col>char</th><th scope=col>freq</th></tr>\n",
              "\t<tr><th></th><th scope=col>&lt;chr&gt;</th><th scope=col>&lt;dbl&gt;</th></tr>\n",
              "</thead>\n",
              "<tbody>\n",
              "\t<tr><th scope=row>1</th><td>停車</td><td>9</td></tr>\n",
              "\t<tr><th scope=row>2</th><td>格  </td><td>9</td></tr>\n",
              "\t<tr><th scope=row>3</th><td>機車</td><td>6</td></tr>\n",
              "\t<tr><th scope=row>4</th><td>市府</td><td>5</td></tr>\n",
              "\t<tr><th scope=row>5</th><td>重新</td><td>5</td></tr>\n",
              "\t<tr><th scope=row>6</th><td>瑋  </td><td>4</td></tr>\n",
              "</tbody>\n",
              "</table>\n"
            ]
          },
          "metadata": {
            "tags": []
          }
        }
      ]
    },
    {
      "cell_type": "code",
      "metadata": {
        "id": "zs-9BUiATlpB"
      },
      "source": [
        "par(family=(\"Microsoft YaHei\"))"
      ],
      "execution_count": 73,
      "outputs": []
    },
    {
      "cell_type": "code",
      "metadata": {
        "colab": {
          "base_uri": "https://localhost:8080/"
        },
        "id": "BMlPThlBXFPz",
        "outputId": "641a556c-fa37-4446-aa29-fa29a4417eb9"
      },
      "source": [
        "install.packages(\"showtext\")"
      ],
      "execution_count": 74,
      "outputs": [
        {
          "output_type": "stream",
          "text": [
            "Installing package into ‘/usr/local/lib/R/site-library’\n",
            "(as ‘lib’ is unspecified)\n",
            "\n"
          ],
          "name": "stderr"
        }
      ]
    },
    {
      "cell_type": "code",
      "metadata": {
        "id": "CuiS8JdsXLUq"
      },
      "source": [
        "library(showtext)"
      ],
      "execution_count": 75,
      "outputs": []
    },
    {
      "cell_type": "code",
      "metadata": {
        "id": "ubjfmImdYFKE"
      },
      "source": [
        "showtext.auto(enable=TRUE)"
      ],
      "execution_count": 76,
      "outputs": []
    },
    {
      "cell_type": "code",
      "metadata": {
        "colab": {
          "base_uri": "https://localhost:8080/",
          "height": 437
        },
        "id": "0XBIdazGUNwB",
        "outputId": "51cfe161-0226-4a97-be64-217c40d96d6b"
      },
      "source": [
        "wordcloud(txt_freq$char, txt_freq$freq, min.freq=2, random.order=F, ordered.colors=F, colors=rainbow(nrow(txt_freq)))"
      ],
      "execution_count": 77,
      "outputs": [
        {
          "output_type": "display_data",
          "data": {
            "image/png": "[encoded data removed]",
            "text/plain": [
              "plot without title"
            ]
          },
          "metadata": {
            "tags": [],
            "image/png": {
              "width": 420,
              "height": 420
            }
          }
        }
      ]
    }
  ]
}